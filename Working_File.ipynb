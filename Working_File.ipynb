{
 "cells": [
  {
   "cell_type": "code",
   "execution_count": 1,
   "metadata": {
    "id": "_vP5ibFh9T7i"
   },
   "outputs": [],
   "source": [
    "import pandas as pd\n",
    "import numpy as np\n",
    "import matplotlib.pyplot as plt"
   ]
  },
  {
   "cell_type": "code",
   "execution_count": 2,
   "metadata": {
    "id": "u_tGFoA89T7l"
   },
   "outputs": [],
   "source": [
    "df = pd.read_csv('Cleaned Dataset.csv')"
   ]
  },
  {
   "cell_type": "code",
   "execution_count": 3,
   "metadata": {
    "colab": {
     "base_uri": "https://localhost:8080/",
     "height": 202
    },
    "id": "Oim82jBJ9T7l",
    "outputId": "99563291-d313-447e-c627-a9ae59da8f6b"
   },
   "outputs": [
    {
     "data": {
      "text/html": [
       "<div>\n",
       "<style scoped>\n",
       "    .dataframe tbody tr th:only-of-type {\n",
       "        vertical-align: middle;\n",
       "    }\n",
       "\n",
       "    .dataframe tbody tr th {\n",
       "        vertical-align: top;\n",
       "    }\n",
       "\n",
       "    .dataframe thead th {\n",
       "        text-align: right;\n",
       "    }\n",
       "</style>\n",
       "<table border=\"1\" class=\"dataframe\">\n",
       "  <thead>\n",
       "    <tr style=\"text-align: right;\">\n",
       "      <th></th>\n",
       "      <th>State</th>\n",
       "      <th>Year</th>\n",
       "      <th>Season</th>\n",
       "      <th>Crop</th>\n",
       "      <th>Area</th>\n",
       "      <th>Rainfall</th>\n",
       "      <th>Production</th>\n",
       "    </tr>\n",
       "  </thead>\n",
       "  <tbody>\n",
       "    <tr>\n",
       "      <th>0</th>\n",
       "      <td>Andaman and Nicobar Islands</td>\n",
       "      <td>2000</td>\n",
       "      <td>Kharif</td>\n",
       "      <td>Rice</td>\n",
       "      <td>102.0</td>\n",
       "      <td>2763.2</td>\n",
       "      <td>321.0</td>\n",
       "    </tr>\n",
       "    <tr>\n",
       "      <th>1</th>\n",
       "      <td>Andaman and Nicobar Islands</td>\n",
       "      <td>2000</td>\n",
       "      <td>Whole Year</td>\n",
       "      <td>Banana</td>\n",
       "      <td>176.0</td>\n",
       "      <td>2763.2</td>\n",
       "      <td>641.0</td>\n",
       "    </tr>\n",
       "    <tr>\n",
       "      <th>2</th>\n",
       "      <td>Andaman and Nicobar Islands</td>\n",
       "      <td>2000</td>\n",
       "      <td>Whole Year</td>\n",
       "      <td>Dry ginger</td>\n",
       "      <td>36.0</td>\n",
       "      <td>2763.2</td>\n",
       "      <td>100.0</td>\n",
       "    </tr>\n",
       "    <tr>\n",
       "      <th>3</th>\n",
       "      <td>Andaman and Nicobar Islands</td>\n",
       "      <td>2000</td>\n",
       "      <td>Whole Year</td>\n",
       "      <td>Sugarcane</td>\n",
       "      <td>1.0</td>\n",
       "      <td>2763.2</td>\n",
       "      <td>2.0</td>\n",
       "    </tr>\n",
       "    <tr>\n",
       "      <th>4</th>\n",
       "      <td>Andaman and Nicobar Islands</td>\n",
       "      <td>2000</td>\n",
       "      <td>Whole Year</td>\n",
       "      <td>Sweet potato</td>\n",
       "      <td>5.0</td>\n",
       "      <td>2763.2</td>\n",
       "      <td>15.0</td>\n",
       "    </tr>\n",
       "  </tbody>\n",
       "</table>\n",
       "</div>"
      ],
      "text/plain": [
       "                         State  Year      Season          Crop   Area  \\\n",
       "0  Andaman and Nicobar Islands  2000      Kharif          Rice  102.0   \n",
       "1  Andaman and Nicobar Islands  2000  Whole Year        Banana  176.0   \n",
       "2  Andaman and Nicobar Islands  2000  Whole Year    Dry ginger   36.0   \n",
       "3  Andaman and Nicobar Islands  2000  Whole Year     Sugarcane    1.0   \n",
       "4  Andaman and Nicobar Islands  2000  Whole Year  Sweet potato    5.0   \n",
       "\n",
       "   Rainfall  Production  \n",
       "0    2763.2       321.0  \n",
       "1    2763.2       641.0  \n",
       "2    2763.2       100.0  \n",
       "3    2763.2         2.0  \n",
       "4    2763.2        15.0  "
      ]
     },
     "execution_count": 3,
     "metadata": {},
     "output_type": "execute_result"
    }
   ],
   "source": [
    "df.head()"
   ]
  },
  {
   "cell_type": "code",
   "execution_count": 4,
   "metadata": {
    "colab": {
     "base_uri": "https://localhost:8080/"
    },
    "id": "8jjEbzU29T7m",
    "outputId": "f76d178d-912d-426f-ea0d-93240e5b785a"
   },
   "outputs": [
    {
     "data": {
      "text/plain": [
       "(64360, 7)"
      ]
     },
     "execution_count": 4,
     "metadata": {},
     "output_type": "execute_result"
    }
   ],
   "source": [
    "df.shape"
   ]
  },
  {
   "cell_type": "code",
   "execution_count": 5,
   "metadata": {
    "colab": {
     "base_uri": "https://localhost:8080/"
    },
    "id": "Od229tOF9T7m",
    "outputId": "95564e9a-db2b-43fc-e574-ed2405ef9060"
   },
   "outputs": [
    {
     "name": "stdout",
     "output_type": "stream",
     "text": [
      "<class 'pandas.core.frame.DataFrame'>\n",
      "RangeIndex: 64360 entries, 0 to 64359\n",
      "Data columns (total 7 columns):\n",
      " #   Column      Non-Null Count  Dtype  \n",
      "---  ------      --------------  -----  \n",
      " 0   State       64360 non-null  object \n",
      " 1   Year        64360 non-null  int64  \n",
      " 2   Season      64360 non-null  object \n",
      " 3   Crop        64360 non-null  object \n",
      " 4   Area        64360 non-null  float64\n",
      " 5   Rainfall    64360 non-null  float64\n",
      " 6   Production  64360 non-null  float64\n",
      "dtypes: float64(3), int64(1), object(3)\n",
      "memory usage: 3.4+ MB\n"
     ]
    }
   ],
   "source": [
    "df.info()"
   ]
  },
  {
   "cell_type": "code",
   "execution_count": 6,
   "metadata": {
    "colab": {
     "base_uri": "https://localhost:8080/",
     "height": 172
    },
    "id": "56pY1ZAe9T7m",
    "outputId": "355c53b3-d7be-4822-8865-3ef28a99b62a"
   },
   "outputs": [
    {
     "data": {
      "text/html": [
       "<div>\n",
       "<style scoped>\n",
       "    .dataframe tbody tr th:only-of-type {\n",
       "        vertical-align: middle;\n",
       "    }\n",
       "\n",
       "    .dataframe tbody tr th {\n",
       "        vertical-align: top;\n",
       "    }\n",
       "\n",
       "    .dataframe thead th {\n",
       "        text-align: right;\n",
       "    }\n",
       "</style>\n",
       "<table border=\"1\" class=\"dataframe\">\n",
       "  <thead>\n",
       "    <tr style=\"text-align: right;\">\n",
       "      <th></th>\n",
       "      <th>Year</th>\n",
       "      <th>Area</th>\n",
       "      <th>Rainfall</th>\n",
       "      <th>Production</th>\n",
       "    </tr>\n",
       "  </thead>\n",
       "  <tbody>\n",
       "    <tr>\n",
       "      <th>Year</th>\n",
       "      <td>1.000000</td>\n",
       "      <td>0.000101</td>\n",
       "      <td>-0.017956</td>\n",
       "      <td>-0.018868</td>\n",
       "    </tr>\n",
       "    <tr>\n",
       "      <th>Area</th>\n",
       "      <td>0.000101</td>\n",
       "      <td>1.000000</td>\n",
       "      <td>-0.110295</td>\n",
       "      <td>0.241445</td>\n",
       "    </tr>\n",
       "    <tr>\n",
       "      <th>Rainfall</th>\n",
       "      <td>-0.017956</td>\n",
       "      <td>-0.110295</td>\n",
       "      <td>1.000000</td>\n",
       "      <td>-0.065504</td>\n",
       "    </tr>\n",
       "    <tr>\n",
       "      <th>Production</th>\n",
       "      <td>-0.018868</td>\n",
       "      <td>0.241445</td>\n",
       "      <td>-0.065504</td>\n",
       "      <td>1.000000</td>\n",
       "    </tr>\n",
       "  </tbody>\n",
       "</table>\n",
       "</div>"
      ],
      "text/plain": [
       "                Year      Area  Rainfall  Production\n",
       "Year        1.000000  0.000101 -0.017956   -0.018868\n",
       "Area        0.000101  1.000000 -0.110295    0.241445\n",
       "Rainfall   -0.017956 -0.110295  1.000000   -0.065504\n",
       "Production -0.018868  0.241445 -0.065504    1.000000"
      ]
     },
     "execution_count": 6,
     "metadata": {},
     "output_type": "execute_result"
    }
   ],
   "source": [
    "df.corr()"
   ]
  },
  {
   "cell_type": "code",
   "execution_count": 7,
   "metadata": {
    "id": "Mo4tvJpS9T7n"
   },
   "outputs": [],
   "source": [
    "X = df.iloc[:, :-1].values\n",
    "y = df.iloc[:, -1].values"
   ]
  },
  {
   "cell_type": "markdown",
   "metadata": {
    "id": "XI3zyBiX9T7n"
   },
   "source": [
    "### One Hot Encoding"
   ]
  },
  {
   "cell_type": "markdown",
   "metadata": {
    "id": "9gRAIQlB9T7n"
   },
   "source": [
    "#### We are Applying to the Categorical Values present in the X (Features)"
   ]
  },
  {
   "cell_type": "code",
   "execution_count": 8,
   "metadata": {
    "colab": {
     "base_uri": "https://localhost:8080/"
    },
    "id": "d51Chzpd9T7o",
    "outputId": "cd31bba6-9b4c-4648-86ae-d4af5c7da717"
   },
   "outputs": [
    {
     "name": "stdout",
     "output_type": "stream",
     "text": [
      "State :  12\n",
      "Season :  3\n",
      "Crop :  33\n"
     ]
    }
   ],
   "source": [
    "categorical_data = ['State', 'Season', 'Crop']\n",
    "\n",
    "for label in categorical_data:\n",
    "    print(label ,': ', len(df[label].unique()))"
   ]
  },
  {
   "cell_type": "code",
   "execution_count": 9,
   "metadata": {
    "id": "mHj_-HPm9T7o"
   },
   "outputs": [],
   "source": [
    "from sklearn.preprocessing import OneHotEncoder\n",
    "from sklearn.compose import ColumnTransformer\n",
    "ohe =  OneHotEncoder(sparse=False, drop=\"first\")\n",
    "ct = ColumnTransformer([('encoder', ohe, [0,2,3])], remainder = 'passthrough')"
   ]
  },
  {
   "cell_type": "code",
   "execution_count": 10,
   "metadata": {
    "id": "-lyK8lAN9T7o"
   },
   "outputs": [],
   "source": [
    "X = ct.fit_transform(X)"
   ]
  },
  {
   "cell_type": "code",
   "execution_count": 11,
   "metadata": {
    "colab": {
     "base_uri": "https://localhost:8080/"
    },
    "id": "MautDlpl9T7o",
    "outputId": "fc381f45-df43-4886-edda-c3a1f252b07d"
   },
   "outputs": [
    {
     "name": "stdout",
     "output_type": "stream",
     "text": [
      "[[0.0 0.0 0.0 ... 2000 102.0 2763.2]\n",
      " [0.0 0.0 0.0 ... 2000 176.0 2763.2]\n",
      " [0.0 0.0 0.0 ... 2000 36.0 2763.2]\n",
      " ...\n",
      " [0.0 0.0 0.0 ... 2014 26.0 1287.4]\n",
      " [0.0 0.0 0.0 ... 2014 9919.0 1287.4]\n",
      " [0.0 0.0 0.0 ... 2014 3.0 1287.4]]\n"
     ]
    }
   ],
   "source": [
    "print(X)"
   ]
  },
  {
   "cell_type": "code",
   "execution_count": 12,
   "metadata": {
    "colab": {
     "base_uri": "https://localhost:8080/",
     "height": 222
    },
    "id": "aQRqIMX4V5T7",
    "outputId": "567ff83e-78c0-4a08-c161-0c22a53cc05f"
   },
   "outputs": [
    {
     "data": {
      "text/html": [
       "<div>\n",
       "<style scoped>\n",
       "    .dataframe tbody tr th:only-of-type {\n",
       "        vertical-align: middle;\n",
       "    }\n",
       "\n",
       "    .dataframe tbody tr th {\n",
       "        vertical-align: top;\n",
       "    }\n",
       "\n",
       "    .dataframe thead th {\n",
       "        text-align: right;\n",
       "    }\n",
       "</style>\n",
       "<table border=\"1\" class=\"dataframe\">\n",
       "  <thead>\n",
       "    <tr style=\"text-align: right;\">\n",
       "      <th></th>\n",
       "      <th>0</th>\n",
       "      <th>1</th>\n",
       "      <th>2</th>\n",
       "      <th>3</th>\n",
       "      <th>4</th>\n",
       "      <th>5</th>\n",
       "      <th>6</th>\n",
       "      <th>7</th>\n",
       "      <th>8</th>\n",
       "      <th>9</th>\n",
       "      <th>...</th>\n",
       "      <th>38</th>\n",
       "      <th>39</th>\n",
       "      <th>40</th>\n",
       "      <th>41</th>\n",
       "      <th>42</th>\n",
       "      <th>43</th>\n",
       "      <th>44</th>\n",
       "      <th>45</th>\n",
       "      <th>46</th>\n",
       "      <th>47</th>\n",
       "    </tr>\n",
       "  </thead>\n",
       "  <tbody>\n",
       "    <tr>\n",
       "      <th>0</th>\n",
       "      <td>0</td>\n",
       "      <td>0</td>\n",
       "      <td>0</td>\n",
       "      <td>0</td>\n",
       "      <td>0</td>\n",
       "      <td>0</td>\n",
       "      <td>0</td>\n",
       "      <td>0</td>\n",
       "      <td>0</td>\n",
       "      <td>0</td>\n",
       "      <td>...</td>\n",
       "      <td>0</td>\n",
       "      <td>0</td>\n",
       "      <td>0</td>\n",
       "      <td>0</td>\n",
       "      <td>0</td>\n",
       "      <td>0</td>\n",
       "      <td>0</td>\n",
       "      <td>2000</td>\n",
       "      <td>102</td>\n",
       "      <td>2763.2</td>\n",
       "    </tr>\n",
       "    <tr>\n",
       "      <th>1</th>\n",
       "      <td>0</td>\n",
       "      <td>0</td>\n",
       "      <td>0</td>\n",
       "      <td>0</td>\n",
       "      <td>0</td>\n",
       "      <td>0</td>\n",
       "      <td>0</td>\n",
       "      <td>0</td>\n",
       "      <td>0</td>\n",
       "      <td>0</td>\n",
       "      <td>...</td>\n",
       "      <td>0</td>\n",
       "      <td>0</td>\n",
       "      <td>0</td>\n",
       "      <td>0</td>\n",
       "      <td>0</td>\n",
       "      <td>0</td>\n",
       "      <td>0</td>\n",
       "      <td>2000</td>\n",
       "      <td>176</td>\n",
       "      <td>2763.2</td>\n",
       "    </tr>\n",
       "    <tr>\n",
       "      <th>2</th>\n",
       "      <td>0</td>\n",
       "      <td>0</td>\n",
       "      <td>0</td>\n",
       "      <td>0</td>\n",
       "      <td>0</td>\n",
       "      <td>0</td>\n",
       "      <td>0</td>\n",
       "      <td>0</td>\n",
       "      <td>0</td>\n",
       "      <td>0</td>\n",
       "      <td>...</td>\n",
       "      <td>0</td>\n",
       "      <td>0</td>\n",
       "      <td>0</td>\n",
       "      <td>0</td>\n",
       "      <td>0</td>\n",
       "      <td>0</td>\n",
       "      <td>0</td>\n",
       "      <td>2000</td>\n",
       "      <td>36</td>\n",
       "      <td>2763.2</td>\n",
       "    </tr>\n",
       "    <tr>\n",
       "      <th>3</th>\n",
       "      <td>0</td>\n",
       "      <td>0</td>\n",
       "      <td>0</td>\n",
       "      <td>0</td>\n",
       "      <td>0</td>\n",
       "      <td>0</td>\n",
       "      <td>0</td>\n",
       "      <td>0</td>\n",
       "      <td>0</td>\n",
       "      <td>0</td>\n",
       "      <td>...</td>\n",
       "      <td>0</td>\n",
       "      <td>1</td>\n",
       "      <td>0</td>\n",
       "      <td>0</td>\n",
       "      <td>0</td>\n",
       "      <td>0</td>\n",
       "      <td>0</td>\n",
       "      <td>2000</td>\n",
       "      <td>1</td>\n",
       "      <td>2763.2</td>\n",
       "    </tr>\n",
       "    <tr>\n",
       "      <th>4</th>\n",
       "      <td>0</td>\n",
       "      <td>0</td>\n",
       "      <td>0</td>\n",
       "      <td>0</td>\n",
       "      <td>0</td>\n",
       "      <td>0</td>\n",
       "      <td>0</td>\n",
       "      <td>0</td>\n",
       "      <td>0</td>\n",
       "      <td>0</td>\n",
       "      <td>...</td>\n",
       "      <td>0</td>\n",
       "      <td>0</td>\n",
       "      <td>0</td>\n",
       "      <td>1</td>\n",
       "      <td>0</td>\n",
       "      <td>0</td>\n",
       "      <td>0</td>\n",
       "      <td>2000</td>\n",
       "      <td>5</td>\n",
       "      <td>2763.2</td>\n",
       "    </tr>\n",
       "  </tbody>\n",
       "</table>\n",
       "<p>5 rows × 48 columns</p>\n",
       "</div>"
      ],
      "text/plain": [
       "  0  1  2  3  4  5  6  7  8  9   ... 38 39 40 41 42 43 44    45   46      47\n",
       "0  0  0  0  0  0  0  0  0  0  0  ...  0  0  0  0  0  0  0  2000  102  2763.2\n",
       "1  0  0  0  0  0  0  0  0  0  0  ...  0  0  0  0  0  0  0  2000  176  2763.2\n",
       "2  0  0  0  0  0  0  0  0  0  0  ...  0  0  0  0  0  0  0  2000   36  2763.2\n",
       "3  0  0  0  0  0  0  0  0  0  0  ...  0  1  0  0  0  0  0  2000    1  2763.2\n",
       "4  0  0  0  0  0  0  0  0  0  0  ...  0  0  0  1  0  0  0  2000    5  2763.2\n",
       "\n",
       "[5 rows x 48 columns]"
      ]
     },
     "execution_count": 12,
     "metadata": {},
     "output_type": "execute_result"
    }
   ],
   "source": [
    "X_df = pd.DataFrame(X)\n",
    "X_df.head() # shows that last 3 columns are -> Year, Area and Rainfall"
   ]
  },
  {
   "cell_type": "code",
   "execution_count": 13,
   "metadata": {
    "id": "XVttsDlB9T7p"
   },
   "outputs": [],
   "source": [
    "dummy_df = pd.get_dummies(df, drop_first= True)"
   ]
  },
  {
   "cell_type": "code",
   "execution_count": 14,
   "metadata": {
    "colab": {
     "base_uri": "https://localhost:8080/"
    },
    "id": "LvNi63T39T7p",
    "outputId": "6f023fb3-5b81-426f-9d79-ee81cb526021"
   },
   "outputs": [
    {
     "data": {
      "text/plain": [
       "Index(['Year', 'Area', 'Rainfall', 'Production', 'State_Arunachal Pradesh',\n",
       "       'State_Bihar', 'State_Chhattisgarh', 'State_Himachal Pradesh',\n",
       "       'State_Jammu and Kashmir', 'State_Jharkhand', 'State_Kerala',\n",
       "       'State_Odisha', 'State_Punjab', 'State_Tamil Nadu', 'State_Uttarakhand',\n",
       "       'Season_Rabi', 'Season_Whole Year', 'Crop_Bajra', 'Crop_Banana',\n",
       "       'Crop_Barley', 'Crop_Castor seed', 'Crop_Coriander',\n",
       "       'Crop_Cotton(lint)', 'Crop_Dry chillies', 'Crop_Dry ginger',\n",
       "       'Crop_Garlic', 'Crop_Gram', 'Crop_Groundnut', 'Crop_Horse-gram',\n",
       "       'Crop_Jowar', 'Crop_Khesari', 'Crop_Linseed', 'Crop_Maize',\n",
       "       'Crop_Masoor', 'Crop_Moong(Green Gram)', 'Crop_Onion',\n",
       "       'Crop_Peas & beans (Pulses)', 'Crop_Potato', 'Crop_Ragi',\n",
       "       'Crop_Rapeseed &Mustard', 'Crop_Rice', 'Crop_Sesamum',\n",
       "       'Crop_Small millets', 'Crop_Sugarcane', 'Crop_Sunflower',\n",
       "       'Crop_Sweet potato', 'Crop_Turmeric', 'Crop_Urad', 'Crop_Wheat'],\n",
       "      dtype='object')"
      ]
     },
     "execution_count": 14,
     "metadata": {},
     "output_type": "execute_result"
    }
   ],
   "source": [
    "dummy_df.keys()"
   ]
  },
  {
   "cell_type": "code",
   "execution_count": 15,
   "metadata": {
    "colab": {
     "base_uri": "https://localhost:8080/",
     "height": 256
    },
    "id": "wqU_bKNQ9T7p",
    "outputId": "488433c5-2fdf-4e25-eb25-a864205d4431"
   },
   "outputs": [
    {
     "data": {
      "text/html": [
       "<div>\n",
       "<style scoped>\n",
       "    .dataframe tbody tr th:only-of-type {\n",
       "        vertical-align: middle;\n",
       "    }\n",
       "\n",
       "    .dataframe tbody tr th {\n",
       "        vertical-align: top;\n",
       "    }\n",
       "\n",
       "    .dataframe thead th {\n",
       "        text-align: right;\n",
       "    }\n",
       "</style>\n",
       "<table border=\"1\" class=\"dataframe\">\n",
       "  <thead>\n",
       "    <tr style=\"text-align: right;\">\n",
       "      <th></th>\n",
       "      <th>Arunachal Pradesh</th>\n",
       "      <th>Bihar</th>\n",
       "      <th>Chhattisgarh</th>\n",
       "      <th>Himachal Pradesh</th>\n",
       "      <th>Jammu and Kashmir</th>\n",
       "      <th>Jharkhand</th>\n",
       "      <th>Kerala</th>\n",
       "      <th>Odisha</th>\n",
       "      <th>Punjab</th>\n",
       "      <th>Tamil Nadu</th>\n",
       "      <th>...</th>\n",
       "      <th>Small millets</th>\n",
       "      <th>Sugarcane</th>\n",
       "      <th>Sunflower</th>\n",
       "      <th>Sweet potato</th>\n",
       "      <th>Turmeric</th>\n",
       "      <th>Urad</th>\n",
       "      <th>Wheat</th>\n",
       "      <th>Year</th>\n",
       "      <th>Area</th>\n",
       "      <th>Rainfall</th>\n",
       "    </tr>\n",
       "  </thead>\n",
       "  <tbody>\n",
       "    <tr>\n",
       "      <th>0</th>\n",
       "      <td>0</td>\n",
       "      <td>0</td>\n",
       "      <td>0</td>\n",
       "      <td>0</td>\n",
       "      <td>0</td>\n",
       "      <td>0</td>\n",
       "      <td>0</td>\n",
       "      <td>0</td>\n",
       "      <td>0</td>\n",
       "      <td>0</td>\n",
       "      <td>...</td>\n",
       "      <td>0</td>\n",
       "      <td>0</td>\n",
       "      <td>0</td>\n",
       "      <td>0</td>\n",
       "      <td>0</td>\n",
       "      <td>0</td>\n",
       "      <td>0</td>\n",
       "      <td>2000</td>\n",
       "      <td>102</td>\n",
       "      <td>2763.2</td>\n",
       "    </tr>\n",
       "    <tr>\n",
       "      <th>1</th>\n",
       "      <td>0</td>\n",
       "      <td>0</td>\n",
       "      <td>0</td>\n",
       "      <td>0</td>\n",
       "      <td>0</td>\n",
       "      <td>0</td>\n",
       "      <td>0</td>\n",
       "      <td>0</td>\n",
       "      <td>0</td>\n",
       "      <td>0</td>\n",
       "      <td>...</td>\n",
       "      <td>0</td>\n",
       "      <td>0</td>\n",
       "      <td>0</td>\n",
       "      <td>0</td>\n",
       "      <td>0</td>\n",
       "      <td>0</td>\n",
       "      <td>0</td>\n",
       "      <td>2000</td>\n",
       "      <td>176</td>\n",
       "      <td>2763.2</td>\n",
       "    </tr>\n",
       "    <tr>\n",
       "      <th>2</th>\n",
       "      <td>0</td>\n",
       "      <td>0</td>\n",
       "      <td>0</td>\n",
       "      <td>0</td>\n",
       "      <td>0</td>\n",
       "      <td>0</td>\n",
       "      <td>0</td>\n",
       "      <td>0</td>\n",
       "      <td>0</td>\n",
       "      <td>0</td>\n",
       "      <td>...</td>\n",
       "      <td>0</td>\n",
       "      <td>0</td>\n",
       "      <td>0</td>\n",
       "      <td>0</td>\n",
       "      <td>0</td>\n",
       "      <td>0</td>\n",
       "      <td>0</td>\n",
       "      <td>2000</td>\n",
       "      <td>36</td>\n",
       "      <td>2763.2</td>\n",
       "    </tr>\n",
       "    <tr>\n",
       "      <th>3</th>\n",
       "      <td>0</td>\n",
       "      <td>0</td>\n",
       "      <td>0</td>\n",
       "      <td>0</td>\n",
       "      <td>0</td>\n",
       "      <td>0</td>\n",
       "      <td>0</td>\n",
       "      <td>0</td>\n",
       "      <td>0</td>\n",
       "      <td>0</td>\n",
       "      <td>...</td>\n",
       "      <td>0</td>\n",
       "      <td>1</td>\n",
       "      <td>0</td>\n",
       "      <td>0</td>\n",
       "      <td>0</td>\n",
       "      <td>0</td>\n",
       "      <td>0</td>\n",
       "      <td>2000</td>\n",
       "      <td>1</td>\n",
       "      <td>2763.2</td>\n",
       "    </tr>\n",
       "    <tr>\n",
       "      <th>4</th>\n",
       "      <td>0</td>\n",
       "      <td>0</td>\n",
       "      <td>0</td>\n",
       "      <td>0</td>\n",
       "      <td>0</td>\n",
       "      <td>0</td>\n",
       "      <td>0</td>\n",
       "      <td>0</td>\n",
       "      <td>0</td>\n",
       "      <td>0</td>\n",
       "      <td>...</td>\n",
       "      <td>0</td>\n",
       "      <td>0</td>\n",
       "      <td>0</td>\n",
       "      <td>1</td>\n",
       "      <td>0</td>\n",
       "      <td>0</td>\n",
       "      <td>0</td>\n",
       "      <td>2000</td>\n",
       "      <td>5</td>\n",
       "      <td>2763.2</td>\n",
       "    </tr>\n",
       "  </tbody>\n",
       "</table>\n",
       "<p>5 rows × 48 columns</p>\n",
       "</div>"
      ],
      "text/plain": [
       "  Arunachal Pradesh Bihar Chhattisgarh Himachal Pradesh Jammu and Kashmir  \\\n",
       "0                 0     0            0                0                 0   \n",
       "1                 0     0            0                0                 0   \n",
       "2                 0     0            0                0                 0   \n",
       "3                 0     0            0                0                 0   \n",
       "4                 0     0            0                0                 0   \n",
       "\n",
       "  Jharkhand Kerala Odisha Punjab Tamil Nadu  ... Small millets Sugarcane  \\\n",
       "0         0      0      0      0          0  ...             0         0   \n",
       "1         0      0      0      0          0  ...             0         0   \n",
       "2         0      0      0      0          0  ...             0         0   \n",
       "3         0      0      0      0          0  ...             0         1   \n",
       "4         0      0      0      0          0  ...             0         0   \n",
       "\n",
       "  Sunflower Sweet potato Turmeric Urad Wheat  Year Area Rainfall  \n",
       "0         0            0        0    0     0  2000  102   2763.2  \n",
       "1         0            0        0    0     0  2000  176   2763.2  \n",
       "2         0            0        0    0     0  2000   36   2763.2  \n",
       "3         0            0        0    0     0  2000    1   2763.2  \n",
       "4         0            1        0    0     0  2000    5   2763.2  \n",
       "\n",
       "[5 rows x 48 columns]"
      ]
     },
     "execution_count": 15,
     "metadata": {},
     "output_type": "execute_result"
    }
   ],
   "source": [
    "oh_enc_df = pd.DataFrame(X, columns=['Arunachal Pradesh',\n",
    "       'Bihar', 'Chhattisgarh', 'Himachal Pradesh',\n",
    "       'Jammu and Kashmir', 'Jharkhand', 'Kerala',\n",
    "       'Odisha', 'Punjab', 'Tamil Nadu', 'Uttarakhand',\n",
    "       'Rabi', 'Whole Year', 'Bajra', 'Banana',\n",
    "       'Barley', 'Castor seed', 'Coriander',\n",
    "       'Cotton', 'Dry chillies', 'Dry ginger',\n",
    "       'Garlic', 'Gram', 'Groundnut', 'Horse-gram',\n",
    "       'Jowar', 'Khesari', 'Linseed', 'Maize',\n",
    "       'Masoor', 'Moong(Green Gram)', 'Onion',\n",
    "       'Peas & beans (Pulses)', 'Potato', 'Ragi',\n",
    "       'Rapeseed &Mustard', 'Rice', 'Sesamum',\n",
    "       'Small millets', 'Sugarcane', 'Sunflower',\n",
    "       'Sweet potato', 'Turmeric', 'Urad', 'Wheat','Year', 'Area', 'Rainfall'])\n",
    "\n",
    "oh_enc_df.head()"
   ]
  },
  {
   "cell_type": "markdown",
   "metadata": {
    "id": "aYv9aXDg9T7q"
   },
   "source": [
    "#### Columns : state->11, season->2, Crop->32, Year, Area, Rainfall ||Total ->48"
   ]
  },
  {
   "cell_type": "code",
   "execution_count": 16,
   "metadata": {
    "colab": {
     "base_uri": "https://localhost:8080/"
    },
    "id": "SrRq1UBk9T7q",
    "outputId": "74d4d1e1-4336-465d-a3de-abf0037589ce"
   },
   "outputs": [
    {
     "data": {
      "text/plain": [
       "(64360, 48)"
      ]
     },
     "execution_count": 16,
     "metadata": {},
     "output_type": "execute_result"
    }
   ],
   "source": [
    "oh_enc_df.shape"
   ]
  },
  {
   "cell_type": "markdown",
   "metadata": {
    "id": "BORueX-e9T7q"
   },
   "source": [
    "### Splitting the data"
   ]
  },
  {
   "cell_type": "code",
   "execution_count": 17,
   "metadata": {
    "id": "BFJsPbjd9T7r"
   },
   "outputs": [],
   "source": [
    "from sklearn.model_selection import train_test_split\n",
    "X_train, X_test, y_train, y_test = train_test_split(X,y, test_size = 0.2, random_state = 42)"
   ]
  },
  {
   "cell_type": "markdown",
   "metadata": {
    "id": "rxOqDkYm9T7r"
   },
   "source": [
    "### Random Forest Regressor"
   ]
  },
  {
   "cell_type": "code",
   "execution_count": 18,
   "metadata": {
    "id": "1taPD1GG9T7r"
   },
   "outputs": [
    {
     "data": {
      "text/plain": [
       "RandomForestRegressor(n_estimators=50, random_state=0)"
      ]
     },
     "execution_count": 18,
     "metadata": {},
     "output_type": "execute_result"
    }
   ],
   "source": [
    "from sklearn.ensemble import RandomForestRegressor\n",
    "\n",
    "regr = RandomForestRegressor(random_state=0, n_estimators=50)\n",
    "regr.fit(X_train, y_train.ravel())"
   ]
  },
  {
   "cell_type": "code",
   "execution_count": 19,
   "metadata": {
    "colab": {
     "base_uri": "https://localhost:8080/"
    },
    "id": "2710_pbcHjgc",
    "outputId": "b4463934-417f-49eb-8f74-0a257d6cecb5"
   },
   "outputs": [
    {
     "name": "stdout",
     "output_type": "stream",
     "text": [
      "R2 Score = 98.06136221540595\n"
     ]
    }
   ],
   "source": [
    "print('R2 Score =', regr.score(X_test, y_test)*100)"
   ]
  },
  {
   "cell_type": "markdown",
   "metadata": {
    "id": "Tn4Rm4Px9T7r"
   },
   "source": [
    "### Using K-Fold cross validation"
   ]
  },
  {
   "cell_type": "code",
   "execution_count": 20,
   "metadata": {
    "colab": {
     "base_uri": "https://localhost:8080/"
    },
    "id": "DeaDIFyK9T7s",
    "outputId": "422db082-da11-46ce-cffb-ba2b3e3aeb68"
   },
   "outputs": [
    {
     "data": {
      "text/plain": [
       "array([0.94602501, 0.95462166, 0.94671871, 0.91038406, 0.97173345])"
      ]
     },
     "execution_count": 20,
     "metadata": {},
     "output_type": "execute_result"
    }
   ],
   "source": [
    "from sklearn.model_selection import ShuffleSplit\n",
    "from sklearn.model_selection import cross_val_score\n",
    "\n",
    "cv = ShuffleSplit(n_splits=5, test_size=0.2, random_state=0)\n",
    "\n",
    "cross_val_score(RandomForestRegressor(random_state=0, n_estimators=50), X, y.ravel(), cv=cv)"
   ]
  },
  {
   "cell_type": "markdown",
   "metadata": {
    "id": "FOtUQ6KP9T7s"
   },
   "source": [
    "### Saving the model"
   ]
  },
  {
   "cell_type": "code",
   "execution_count": 21,
   "metadata": {
    "id": "2GMQBpJl9T7s"
   },
   "outputs": [],
   "source": [
    "import pickle\n",
    "\n",
    "with open('crop_yeild_prediction.pickle','wb') as f:\n",
    "    pickle.dump(regr,f)"
   ]
  },
  {
   "cell_type": "markdown",
   "metadata": {
    "id": "rRxx5h6i9T7t"
   },
   "source": [
    "### Testing the model"
   ]
  },
  {
   "cell_type": "code",
   "execution_count": 22,
   "metadata": {
    "id": "4D_6hOYJXa7_"
   },
   "outputs": [],
   "source": [
    "# these are the records of respective columns present in the X(Features), After OHE\n",
    "states = ['Arunachal Pradesh','Bihar', 'Chhattisgarh', 'Himachal Pradesh','Jammu and Kashmir', 'Jharkhand', 'Kerala','Odisha', 'Punjab', 'Tamil Nadu', 'Uttarakhand']\n",
    "seasons = ['Rabi', 'Whole Year']\n",
    "crops = ['Bajra', 'Banana','Barley', 'Castor seed', 'Coriander','Cotton', 'Dry chillies', 'Dry ginger','Garlic', 'Gram', 'Groundnut', 'Horse-gram','Jowar', 'Khesari', 'Linseed', 'Maize','Masoor', 'Moong(Green Gram)', 'Onion','Peas & beans (Pulses)', 'Potato', 'Ragi','Rapeseed &Mustard', 'Rice', 'Sesamum','Small millets', 'Sugarcane', 'Sunflower','Sweet potato', 'Turmeric', 'Urad', 'Wheat']"
   ]
  },
  {
   "cell_type": "code",
   "execution_count": 23,
   "metadata": {
    "id": "GZKXKj8r9T7u"
   },
   "outputs": [],
   "source": [
    "# This function is used to take the inpts and display the output (Production)\n",
    "def predict_production(state,crop,season,year,area, rainfall):      \n",
    "\n",
    "    x = np.zeros(len(oh_enc_df.columns))\n",
    "    x[-3] = year \n",
    "    x[-2] = area \n",
    "    x[-1] = rainfall\n",
    "\n",
    "    # To overcome dummy variable trap Andaman, Arhar/Tur and Kharif have been removed to overcome that we need this code:\n",
    "    if state in states:\n",
    "      state_index = np.where(oh_enc_df.columns == state)[0][0]\n",
    "      if state_index >=0:\n",
    "        x[state_index] = 1\n",
    "    else:\n",
    "        x[0:11]=0\n",
    "\n",
    "    if season in seasons:\n",
    "      season_index = np.where(oh_enc_df.columns == season)[0][0]\n",
    "      if season_index >=0:\n",
    "          x[season_index] = 1\n",
    "    else:\n",
    "        x[11:13]=0\n",
    "    \n",
    "    if crop in crops:\n",
    "      crop_index = np.where(oh_enc_df.columns == crop)[0][0]\n",
    "      if crop_index >=0:\n",
    "          x[crop_index] = 1\n",
    "    else:\n",
    "        x[13:45]=0\n",
    "   \n",
    "    # print(x.size)\n",
    "    # print(x.ndim)\n",
    "    # print(x)\n",
    "\n",
    "    return regr.predict([x])[0]      "
   ]
  },
  {
   "cell_type": "markdown",
   "metadata": {
    "id": "FjqNpUJP9T7u"
   },
   "source": [
    "# Predicting Some results\n",
    "\n",
    "\n",
    "\n"
   ]
  },
  {
   "cell_type": "code",
   "execution_count": 24,
   "metadata": {
    "id": "oI6d3m9I4GZD"
   },
   "outputs": [],
   "source": [
    "df_bihar_maize = df[(df['State'] == 'Bihar') & (df['Crop']== 'Maize') & (df['Season'] == 'Rabi') & (df['Year'] == 2011) & (df['Area'] == 43626)]"
   ]
  },
  {
   "cell_type": "code",
   "execution_count": 25,
   "metadata": {
    "colab": {
     "base_uri": "https://localhost:8080/"
    },
    "id": "wzrmujaX4SAg",
    "outputId": "1646653f-cb71-48ba-b67c-f3708d4d288b"
   },
   "outputs": [
    {
     "data": {
      "text/plain": [
       "(1, 7)"
      ]
     },
     "execution_count": 25,
     "metadata": {},
     "output_type": "execute_result"
    }
   ],
   "source": [
    "df_bihar_maize.shape"
   ]
  },
  {
   "cell_type": "code",
   "execution_count": 26,
   "metadata": {
    "colab": {
     "base_uri": "https://localhost:8080/",
     "height": 79
    },
    "id": "C3ZQVnOK4Xaz",
    "outputId": "8426a1f8-423d-407f-dafb-cfb38440589d"
   },
   "outputs": [
    {
     "data": {
      "text/html": [
       "<div>\n",
       "<style scoped>\n",
       "    .dataframe tbody tr th:only-of-type {\n",
       "        vertical-align: middle;\n",
       "    }\n",
       "\n",
       "    .dataframe tbody tr th {\n",
       "        vertical-align: top;\n",
       "    }\n",
       "\n",
       "    .dataframe thead th {\n",
       "        text-align: right;\n",
       "    }\n",
       "</style>\n",
       "<table border=\"1\" class=\"dataframe\">\n",
       "  <thead>\n",
       "    <tr style=\"text-align: right;\">\n",
       "      <th></th>\n",
       "      <th>State</th>\n",
       "      <th>Year</th>\n",
       "      <th>Season</th>\n",
       "      <th>Crop</th>\n",
       "      <th>Area</th>\n",
       "      <th>Rainfall</th>\n",
       "      <th>Production</th>\n",
       "    </tr>\n",
       "  </thead>\n",
       "  <tbody>\n",
       "    <tr>\n",
       "      <th>14161</th>\n",
       "      <td>Bihar</td>\n",
       "      <td>2011</td>\n",
       "      <td>Rabi</td>\n",
       "      <td>Maize</td>\n",
       "      <td>43626.0</td>\n",
       "      <td>1097.1</td>\n",
       "      <td>154451.0</td>\n",
       "    </tr>\n",
       "  </tbody>\n",
       "</table>\n",
       "</div>"
      ],
      "text/plain": [
       "       State  Year Season   Crop     Area  Rainfall  Production\n",
       "14161  Bihar  2011   Rabi  Maize  43626.0    1097.1    154451.0"
      ]
     },
     "execution_count": 26,
     "metadata": {},
     "output_type": "execute_result"
    }
   ],
   "source": [
    "df_bihar_maize.head(1)"
   ]
  },
  {
   "cell_type": "code",
   "execution_count": 27,
   "metadata": {
    "colab": {
     "base_uri": "https://localhost:8080/"
    },
    "id": "ZBtaINkeAjg5",
    "outputId": "af0fe176-e2ac-4999-c823-f9deca46c5a2"
   },
   "outputs": [
    {
     "data": {
      "text/plain": [
       "139384.02"
      ]
     },
     "execution_count": 27,
     "metadata": {},
     "output_type": "execute_result"
    }
   ],
   "source": [
    "predict_production('Bihar','Maize','Rabi',2011, 43626 ,1097.1 ) # original -> 154451"
   ]
  },
  {
   "cell_type": "code",
   "execution_count": 28,
   "metadata": {
    "id": "GtQ_Z9DsGQZh"
   },
   "outputs": [],
   "source": [
    "df_Rice_Chattisgarh = df[(df['State'] == 'Chhattisgarh') & (df['Crop']== 'Rice') & (df['Season'] == 'Kharif') & (df['Year'] == 2011)]"
   ]
  },
  {
   "cell_type": "code",
   "execution_count": 29,
   "metadata": {
    "colab": {
     "base_uri": "https://localhost:8080/",
     "height": 79
    },
    "id": "IxwVBEgs1xEH",
    "outputId": "76979a0b-e999-4266-e146-59631aa1e50a"
   },
   "outputs": [
    {
     "data": {
      "text/html": [
       "<div>\n",
       "<style scoped>\n",
       "    .dataframe tbody tr th:only-of-type {\n",
       "        vertical-align: middle;\n",
       "    }\n",
       "\n",
       "    .dataframe tbody tr th {\n",
       "        vertical-align: top;\n",
       "    }\n",
       "\n",
       "    .dataframe thead th {\n",
       "        text-align: right;\n",
       "    }\n",
       "</style>\n",
       "<table border=\"1\" class=\"dataframe\">\n",
       "  <thead>\n",
       "    <tr style=\"text-align: right;\">\n",
       "      <th></th>\n",
       "      <th>State</th>\n",
       "      <th>Year</th>\n",
       "      <th>Season</th>\n",
       "      <th>Crop</th>\n",
       "      <th>Area</th>\n",
       "      <th>Rainfall</th>\n",
       "      <th>Production</th>\n",
       "    </tr>\n",
       "  </thead>\n",
       "  <tbody>\n",
       "    <tr>\n",
       "      <th>19144</th>\n",
       "      <td>Chhattisgarh</td>\n",
       "      <td>2011</td>\n",
       "      <td>Kharif</td>\n",
       "      <td>Rice</td>\n",
       "      <td>177115.0</td>\n",
       "      <td>1302.7</td>\n",
       "      <td>327525.0</td>\n",
       "    </tr>\n",
       "  </tbody>\n",
       "</table>\n",
       "</div>"
      ],
      "text/plain": [
       "              State  Year  Season  Crop      Area  Rainfall  Production\n",
       "19144  Chhattisgarh  2011  Kharif  Rice  177115.0    1302.7    327525.0"
      ]
     },
     "execution_count": 29,
     "metadata": {},
     "output_type": "execute_result"
    }
   ],
   "source": [
    "df_Rice_Chattisgarh.head(1)"
   ]
  },
  {
   "cell_type": "code",
   "execution_count": 30,
   "metadata": {
    "colab": {
     "base_uri": "https://localhost:8080/"
    },
    "id": "AOQVgvJ5Ds9p",
    "outputId": "85dec0f8-c9bd-4c33-d378-b6d99dcff2de"
   },
   "outputs": [
    {
     "data": {
      "text/plain": [
       "324759.38"
      ]
     },
     "execution_count": 30,
     "metadata": {},
     "output_type": "execute_result"
    }
   ],
   "source": [
    "predict_production('Chhattisgarh','Rice','Kharif',2011 ,177115.0 ,1302.7) #original -> 327525.0"
   ]
  },
  {
   "cell_type": "code",
   "execution_count": 31,
   "metadata": {
    "id": "04zhPI6KY4RW"
   },
   "outputs": [],
   "source": [
    "df_andaman_banana= df[(df['State'] == 'Andaman and Nicobar Islands') & (df['Crop']== 'Banana') & (df['Season'] == 'Whole Year') & (df['Year'] == 2006)]"
   ]
  },
  {
   "cell_type": "code",
   "execution_count": 32,
   "metadata": {
    "colab": {
     "base_uri": "https://localhost:8080/",
     "height": 79
    },
    "id": "ulMynGfuZHRo",
    "outputId": "fc0604f5-c54c-419d-a3cb-23feefc04b75"
   },
   "outputs": [
    {
     "data": {
      "text/html": [
       "<div>\n",
       "<style scoped>\n",
       "    .dataframe tbody tr th:only-of-type {\n",
       "        vertical-align: middle;\n",
       "    }\n",
       "\n",
       "    .dataframe tbody tr th {\n",
       "        vertical-align: top;\n",
       "    }\n",
       "\n",
       "    .dataframe thead th {\n",
       "        text-align: right;\n",
       "    }\n",
       "</style>\n",
       "<table border=\"1\" class=\"dataframe\">\n",
       "  <thead>\n",
       "    <tr style=\"text-align: right;\">\n",
       "      <th></th>\n",
       "      <th>State</th>\n",
       "      <th>Year</th>\n",
       "      <th>Season</th>\n",
       "      <th>Crop</th>\n",
       "      <th>Area</th>\n",
       "      <th>Rainfall</th>\n",
       "      <th>Production</th>\n",
       "    </tr>\n",
       "  </thead>\n",
       "  <tbody>\n",
       "    <tr>\n",
       "      <th>25</th>\n",
       "      <td>Andaman and Nicobar Islands</td>\n",
       "      <td>2006</td>\n",
       "      <td>Whole Year</td>\n",
       "      <td>Banana</td>\n",
       "      <td>198.0</td>\n",
       "      <td>2404.7</td>\n",
       "      <td>976.0</td>\n",
       "    </tr>\n",
       "  </tbody>\n",
       "</table>\n",
       "</div>"
      ],
      "text/plain": [
       "                          State  Year      Season    Crop   Area  Rainfall  \\\n",
       "25  Andaman and Nicobar Islands  2006  Whole Year  Banana  198.0    2404.7   \n",
       "\n",
       "    Production  \n",
       "25       976.0  "
      ]
     },
     "execution_count": 32,
     "metadata": {},
     "output_type": "execute_result"
    }
   ],
   "source": [
    "df_andaman_banana.head(1)"
   ]
  },
  {
   "cell_type": "code",
   "execution_count": 33,
   "metadata": {
    "colab": {
     "base_uri": "https://localhost:8080/"
    },
    "id": "PfqIdgw2ZkEn",
    "outputId": "3113c118-d1af-4c42-d667-afb8fecf47ce"
   },
   "outputs": [
    {
     "data": {
      "text/plain": [
       "1097.6224"
      ]
     },
     "execution_count": 33,
     "metadata": {},
     "output_type": "execute_result"
    }
   ],
   "source": [
    "predict_production('Andaman and Nicobar Islands','Banana','Whole Year',2006 ,198 ,2404.7) #original -> 976.0"
   ]
  },
  {
   "cell_type": "code",
   "execution_count": 34,
   "metadata": {
    "id": "7PqPIVWlgTTH"
   },
   "outputs": [],
   "source": [
    "df_arhar= df[(df['State'] == 'Tamil Nadu') & (df['Crop']== 'Arhar/Tur') & (df['Season'] == 'Whole Year') & (df['Year'] == 1997)]\n"
   ]
  },
  {
   "cell_type": "code",
   "execution_count": 35,
   "metadata": {
    "colab": {
     "base_uri": "https://localhost:8080/",
     "height": 79
    },
    "id": "fBXjOGZOhBCw",
    "outputId": "a4a431a4-b437-4ad7-86d6-29dd76d0c84d"
   },
   "outputs": [
    {
     "data": {
      "text/html": [
       "<div>\n",
       "<style scoped>\n",
       "    .dataframe tbody tr th:only-of-type {\n",
       "        vertical-align: middle;\n",
       "    }\n",
       "\n",
       "    .dataframe tbody tr th {\n",
       "        vertical-align: top;\n",
       "    }\n",
       "\n",
       "    .dataframe thead th {\n",
       "        text-align: right;\n",
       "    }\n",
       "</style>\n",
       "<table border=\"1\" class=\"dataframe\">\n",
       "  <thead>\n",
       "    <tr style=\"text-align: right;\">\n",
       "      <th></th>\n",
       "      <th>State</th>\n",
       "      <th>Year</th>\n",
       "      <th>Season</th>\n",
       "      <th>Crop</th>\n",
       "      <th>Area</th>\n",
       "      <th>Rainfall</th>\n",
       "      <th>Production</th>\n",
       "    </tr>\n",
       "  </thead>\n",
       "  <tbody>\n",
       "    <tr>\n",
       "      <th>50817</th>\n",
       "      <td>Tamil Nadu</td>\n",
       "      <td>1997</td>\n",
       "      <td>Whole Year</td>\n",
       "      <td>Arhar/Tur</td>\n",
       "      <td>1393.0</td>\n",
       "      <td>950.5</td>\n",
       "      <td>700.0</td>\n",
       "    </tr>\n",
       "  </tbody>\n",
       "</table>\n",
       "</div>"
      ],
      "text/plain": [
       "            State  Year      Season       Crop    Area  Rainfall  Production\n",
       "50817  Tamil Nadu  1997  Whole Year  Arhar/Tur  1393.0     950.5       700.0"
      ]
     },
     "execution_count": 35,
     "metadata": {},
     "output_type": "execute_result"
    }
   ],
   "source": [
    "df_arhar.head(1)"
   ]
  },
  {
   "cell_type": "code",
   "execution_count": 36,
   "metadata": {
    "colab": {
     "base_uri": "https://localhost:8080/"
    },
    "id": "7KjU-eGbhGj5",
    "outputId": "1511c745-58f8-4c93-83eb-4ea9c7d8be8f"
   },
   "outputs": [
    {
     "data": {
      "text/plain": [
       "885.06"
      ]
     },
     "execution_count": 36,
     "metadata": {},
     "output_type": "execute_result"
    }
   ],
   "source": [
    "predict_production('Tamil Nadu','Arhar/Tur','Whole Year',1997 ,1393 ,950.5) # original -> 700"
   ]
  }
 ],
 "metadata": {
  "colab": {
   "collapsed_sections": [],
   "name": "Copy of Working_File.ipynb",
   "provenance": []
  },
  "kernelspec": {
   "display_name": "Python 3",
   "language": "python",
   "name": "python3"
  },
  "language_info": {
   "codemirror_mode": {
    "name": "ipython",
    "version": 3
   },
   "file_extension": ".py",
   "mimetype": "text/x-python",
   "name": "python",
   "nbconvert_exporter": "python",
   "pygments_lexer": "ipython3",
   "version": "3.8.5"
  }
 },
 "nbformat": 4,
 "nbformat_minor": 1
}
