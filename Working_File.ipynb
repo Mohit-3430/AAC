{
 "cells": [
  {
   "cell_type": "code",
   "execution_count": 1,
   "metadata": {},
   "outputs": [],
   "source": [
    "import pandas as pd\n",
    "import numpy as np\n",
    "import matplotlib.pyplot as plt"
   ]
  },
  {
   "cell_type": "code",
   "execution_count": 2,
   "metadata": {},
   "outputs": [],
   "source": [
    "df = pd.read_csv('Cleaned Dataset.csv')"
   ]
  },
  {
   "cell_type": "code",
   "execution_count": 3,
   "metadata": {},
   "outputs": [
    {
     "data": {
      "text/html": [
       "<div>\n",
       "<style scoped>\n",
       "    .dataframe tbody tr th:only-of-type {\n",
       "        vertical-align: middle;\n",
       "    }\n",
       "\n",
       "    .dataframe tbody tr th {\n",
       "        vertical-align: top;\n",
       "    }\n",
       "\n",
       "    .dataframe thead th {\n",
       "        text-align: right;\n",
       "    }\n",
       "</style>\n",
       "<table border=\"1\" class=\"dataframe\">\n",
       "  <thead>\n",
       "    <tr style=\"text-align: right;\">\n",
       "      <th></th>\n",
       "      <th>State</th>\n",
       "      <th>Year</th>\n",
       "      <th>Season</th>\n",
       "      <th>Crop</th>\n",
       "      <th>Area</th>\n",
       "      <th>Rainfall</th>\n",
       "      <th>Production</th>\n",
       "    </tr>\n",
       "  </thead>\n",
       "  <tbody>\n",
       "    <tr>\n",
       "      <th>0</th>\n",
       "      <td>Andaman and Nicobar Islands</td>\n",
       "      <td>2000</td>\n",
       "      <td>Kharif</td>\n",
       "      <td>Rice</td>\n",
       "      <td>102.0</td>\n",
       "      <td>2763.2</td>\n",
       "      <td>321.0</td>\n",
       "    </tr>\n",
       "    <tr>\n",
       "      <th>1</th>\n",
       "      <td>Andaman and Nicobar Islands</td>\n",
       "      <td>2000</td>\n",
       "      <td>Whole Year</td>\n",
       "      <td>Banana</td>\n",
       "      <td>176.0</td>\n",
       "      <td>2763.2</td>\n",
       "      <td>641.0</td>\n",
       "    </tr>\n",
       "    <tr>\n",
       "      <th>2</th>\n",
       "      <td>Andaman and Nicobar Islands</td>\n",
       "      <td>2000</td>\n",
       "      <td>Whole Year</td>\n",
       "      <td>Dry ginger</td>\n",
       "      <td>36.0</td>\n",
       "      <td>2763.2</td>\n",
       "      <td>100.0</td>\n",
       "    </tr>\n",
       "    <tr>\n",
       "      <th>3</th>\n",
       "      <td>Andaman and Nicobar Islands</td>\n",
       "      <td>2000</td>\n",
       "      <td>Whole Year</td>\n",
       "      <td>Sugarcane</td>\n",
       "      <td>1.0</td>\n",
       "      <td>2763.2</td>\n",
       "      <td>2.0</td>\n",
       "    </tr>\n",
       "    <tr>\n",
       "      <th>4</th>\n",
       "      <td>Andaman and Nicobar Islands</td>\n",
       "      <td>2000</td>\n",
       "      <td>Whole Year</td>\n",
       "      <td>Sweet potato</td>\n",
       "      <td>5.0</td>\n",
       "      <td>2763.2</td>\n",
       "      <td>15.0</td>\n",
       "    </tr>\n",
       "  </tbody>\n",
       "</table>\n",
       "</div>"
      ],
      "text/plain": [
       "                         State  Year      Season          Crop   Area  \\\n",
       "0  Andaman and Nicobar Islands  2000      Kharif          Rice  102.0   \n",
       "1  Andaman and Nicobar Islands  2000  Whole Year        Banana  176.0   \n",
       "2  Andaman and Nicobar Islands  2000  Whole Year    Dry ginger   36.0   \n",
       "3  Andaman and Nicobar Islands  2000  Whole Year     Sugarcane    1.0   \n",
       "4  Andaman and Nicobar Islands  2000  Whole Year  Sweet potato    5.0   \n",
       "\n",
       "   Rainfall  Production  \n",
       "0    2763.2       321.0  \n",
       "1    2763.2       641.0  \n",
       "2    2763.2       100.0  \n",
       "3    2763.2         2.0  \n",
       "4    2763.2        15.0  "
      ]
     },
     "execution_count": 3,
     "metadata": {},
     "output_type": "execute_result"
    }
   ],
   "source": [
    "df.head()"
   ]
  },
  {
   "cell_type": "code",
   "execution_count": 4,
   "metadata": {},
   "outputs": [
    {
     "data": {
      "text/plain": [
       "(64360, 7)"
      ]
     },
     "execution_count": 4,
     "metadata": {},
     "output_type": "execute_result"
    }
   ],
   "source": [
    "df.shape"
   ]
  },
  {
   "cell_type": "code",
   "execution_count": 5,
   "metadata": {},
   "outputs": [
    {
     "name": "stdout",
     "output_type": "stream",
     "text": [
      "<class 'pandas.core.frame.DataFrame'>\n",
      "RangeIndex: 64360 entries, 0 to 64359\n",
      "Data columns (total 7 columns):\n",
      " #   Column      Non-Null Count  Dtype  \n",
      "---  ------      --------------  -----  \n",
      " 0   State       64360 non-null  object \n",
      " 1   Year        64360 non-null  int64  \n",
      " 2   Season      64360 non-null  object \n",
      " 3   Crop        64360 non-null  object \n",
      " 4   Area        64360 non-null  float64\n",
      " 5   Rainfall    64360 non-null  float64\n",
      " 6   Production  64360 non-null  float64\n",
      "dtypes: float64(3), int64(1), object(3)\n",
      "memory usage: 3.4+ MB\n"
     ]
    }
   ],
   "source": [
    "df.info()"
   ]
  },
  {
   "cell_type": "code",
   "execution_count": 6,
   "metadata": {},
   "outputs": [
    {
     "data": {
      "text/html": [
       "<div>\n",
       "<style scoped>\n",
       "    .dataframe tbody tr th:only-of-type {\n",
       "        vertical-align: middle;\n",
       "    }\n",
       "\n",
       "    .dataframe tbody tr th {\n",
       "        vertical-align: top;\n",
       "    }\n",
       "\n",
       "    .dataframe thead th {\n",
       "        text-align: right;\n",
       "    }\n",
       "</style>\n",
       "<table border=\"1\" class=\"dataframe\">\n",
       "  <thead>\n",
       "    <tr style=\"text-align: right;\">\n",
       "      <th></th>\n",
       "      <th>Year</th>\n",
       "      <th>Area</th>\n",
       "      <th>Rainfall</th>\n",
       "      <th>Production</th>\n",
       "    </tr>\n",
       "  </thead>\n",
       "  <tbody>\n",
       "    <tr>\n",
       "      <th>Year</th>\n",
       "      <td>1.000000</td>\n",
       "      <td>0.000101</td>\n",
       "      <td>-0.017956</td>\n",
       "      <td>-0.018868</td>\n",
       "    </tr>\n",
       "    <tr>\n",
       "      <th>Area</th>\n",
       "      <td>0.000101</td>\n",
       "      <td>1.000000</td>\n",
       "      <td>-0.110295</td>\n",
       "      <td>0.241445</td>\n",
       "    </tr>\n",
       "    <tr>\n",
       "      <th>Rainfall</th>\n",
       "      <td>-0.017956</td>\n",
       "      <td>-0.110295</td>\n",
       "      <td>1.000000</td>\n",
       "      <td>-0.065504</td>\n",
       "    </tr>\n",
       "    <tr>\n",
       "      <th>Production</th>\n",
       "      <td>-0.018868</td>\n",
       "      <td>0.241445</td>\n",
       "      <td>-0.065504</td>\n",
       "      <td>1.000000</td>\n",
       "    </tr>\n",
       "  </tbody>\n",
       "</table>\n",
       "</div>"
      ],
      "text/plain": [
       "                Year      Area  Rainfall  Production\n",
       "Year        1.000000  0.000101 -0.017956   -0.018868\n",
       "Area        0.000101  1.000000 -0.110295    0.241445\n",
       "Rainfall   -0.017956 -0.110295  1.000000   -0.065504\n",
       "Production -0.018868  0.241445 -0.065504    1.000000"
      ]
     },
     "execution_count": 6,
     "metadata": {},
     "output_type": "execute_result"
    }
   ],
   "source": [
    "df.corr()"
   ]
  },
  {
   "cell_type": "code",
   "execution_count": 7,
   "metadata": {},
   "outputs": [],
   "source": [
    "X = df.iloc[:, :-1]\n",
    "y = df.iloc[:, -1].values"
   ]
  },
  {
   "cell_type": "markdown",
   "metadata": {},
   "source": [
    "### One Hot Encoding"
   ]
  },
  {
   "cell_type": "markdown",
   "metadata": {},
   "source": [
    "#### We are Applying to the Categorical Values present in the X (Features)"
   ]
  },
  {
   "cell_type": "code",
   "execution_count": 8,
   "metadata": {},
   "outputs": [
    {
     "name": "stdout",
     "output_type": "stream",
     "text": [
      "State :  12\n",
      "Season :  3\n",
      "Crop :  33\n"
     ]
    }
   ],
   "source": [
    "categorical_data = ['State', 'Season', 'Crop']\n",
    "\n",
    "for label in categorical_data:\n",
    "    print(label ,': ', len(df[label].unique()))"
   ]
  },
  {
   "cell_type": "code",
   "execution_count": 9,
   "metadata": {},
   "outputs": [],
   "source": [
    "from sklearn.preprocessing import OneHotEncoder\n",
    "from sklearn.compose import ColumnTransformer\n",
    "ct = ColumnTransformer([('encoder', OneHotEncoder(sparse=False, drop=\"first\"), [0,2,3])], remainder = 'passthrough')"
   ]
  },
  {
   "cell_type": "code",
   "execution_count": 10,
   "metadata": {},
   "outputs": [],
   "source": [
    "X = ct.fit_transform(X)"
   ]
  },
  {
   "cell_type": "code",
   "execution_count": 11,
   "metadata": {},
   "outputs": [
    {
     "name": "stdout",
     "output_type": "stream",
     "text": [
      "[[0.0000e+00 0.0000e+00 0.0000e+00 ... 2.0000e+03 1.0200e+02 2.7632e+03]\n",
      " [0.0000e+00 0.0000e+00 0.0000e+00 ... 2.0000e+03 1.7600e+02 2.7632e+03]\n",
      " [0.0000e+00 0.0000e+00 0.0000e+00 ... 2.0000e+03 3.6000e+01 2.7632e+03]\n",
      " ...\n",
      " [0.0000e+00 0.0000e+00 0.0000e+00 ... 2.0140e+03 2.6000e+01 1.2874e+03]\n",
      " [0.0000e+00 0.0000e+00 0.0000e+00 ... 2.0140e+03 9.9190e+03 1.2874e+03]\n",
      " [0.0000e+00 0.0000e+00 0.0000e+00 ... 2.0140e+03 3.0000e+00 1.2874e+03]]\n"
     ]
    }
   ],
   "source": [
    "print(X)"
   ]
  },
  {
   "cell_type": "code",
   "execution_count": 12,
   "metadata": {},
   "outputs": [],
   "source": [
    "dummy_df = pd.get_dummies(df, drop_first= True)"
   ]
  },
  {
   "cell_type": "code",
   "execution_count": 13,
   "metadata": {},
   "outputs": [
    {
     "data": {
      "text/plain": [
       "Index(['Year', 'Area', 'Rainfall', 'Production', 'State_Arunachal Pradesh',\n",
       "       'State_Bihar', 'State_Chhattisgarh', 'State_Himachal Pradesh',\n",
       "       'State_Jammu and Kashmir', 'State_Jharkhand', 'State_Kerala',\n",
       "       'State_Odisha', 'State_Punjab', 'State_Tamil Nadu', 'State_Uttarakhand',\n",
       "       'Season_Rabi', 'Season_Whole Year', 'Crop_Bajra', 'Crop_Banana',\n",
       "       'Crop_Barley', 'Crop_Castor seed', 'Crop_Coriander',\n",
       "       'Crop_Cotton(lint)', 'Crop_Dry chillies', 'Crop_Dry ginger',\n",
       "       'Crop_Garlic', 'Crop_Gram', 'Crop_Groundnut', 'Crop_Horse-gram',\n",
       "       'Crop_Jowar', 'Crop_Khesari', 'Crop_Linseed', 'Crop_Maize',\n",
       "       'Crop_Masoor', 'Crop_Moong(Green Gram)', 'Crop_Onion',\n",
       "       'Crop_Peas & beans (Pulses)', 'Crop_Potato', 'Crop_Ragi',\n",
       "       'Crop_Rapeseed &Mustard', 'Crop_Rice', 'Crop_Sesamum',\n",
       "       'Crop_Small millets', 'Crop_Sugarcane', 'Crop_Sunflower',\n",
       "       'Crop_Sweet potato', 'Crop_Turmeric', 'Crop_Urad', 'Crop_Wheat'],\n",
       "      dtype='object')"
      ]
     },
     "execution_count": 13,
     "metadata": {},
     "output_type": "execute_result"
    }
   ],
   "source": [
    "dummy_df.keys()"
   ]
  },
  {
   "cell_type": "code",
   "execution_count": 14,
   "metadata": {},
   "outputs": [
    {
     "data": {
      "text/html": [
       "<div>\n",
       "<style scoped>\n",
       "    .dataframe tbody tr th:only-of-type {\n",
       "        vertical-align: middle;\n",
       "    }\n",
       "\n",
       "    .dataframe tbody tr th {\n",
       "        vertical-align: top;\n",
       "    }\n",
       "\n",
       "    .dataframe thead th {\n",
       "        text-align: right;\n",
       "    }\n",
       "</style>\n",
       "<table border=\"1\" class=\"dataframe\">\n",
       "  <thead>\n",
       "    <tr style=\"text-align: right;\">\n",
       "      <th></th>\n",
       "      <th>Arunachal Pradesh</th>\n",
       "      <th>Bihar</th>\n",
       "      <th>Chhattisgarh</th>\n",
       "      <th>Himachal Pradesh</th>\n",
       "      <th>Jammu and Kashmir</th>\n",
       "      <th>Jharkhand</th>\n",
       "      <th>Kerala</th>\n",
       "      <th>Odisha</th>\n",
       "      <th>Punjab</th>\n",
       "      <th>Tamil Nadu</th>\n",
       "      <th>...</th>\n",
       "      <th>Small millets</th>\n",
       "      <th>Sugarcane</th>\n",
       "      <th>Sunflower</th>\n",
       "      <th>Sweet potato</th>\n",
       "      <th>Turmeric</th>\n",
       "      <th>Urad</th>\n",
       "      <th>Wheat</th>\n",
       "      <th>Year</th>\n",
       "      <th>Area</th>\n",
       "      <th>Rainfall</th>\n",
       "    </tr>\n",
       "  </thead>\n",
       "  <tbody>\n",
       "    <tr>\n",
       "      <th>0</th>\n",
       "      <td>0.0</td>\n",
       "      <td>0.0</td>\n",
       "      <td>0.0</td>\n",
       "      <td>0.0</td>\n",
       "      <td>0.0</td>\n",
       "      <td>0.0</td>\n",
       "      <td>0.0</td>\n",
       "      <td>0.0</td>\n",
       "      <td>0.0</td>\n",
       "      <td>0.0</td>\n",
       "      <td>...</td>\n",
       "      <td>0.0</td>\n",
       "      <td>0.0</td>\n",
       "      <td>0.0</td>\n",
       "      <td>0.0</td>\n",
       "      <td>0.0</td>\n",
       "      <td>0.0</td>\n",
       "      <td>0.0</td>\n",
       "      <td>2000.0</td>\n",
       "      <td>102.0</td>\n",
       "      <td>2763.2</td>\n",
       "    </tr>\n",
       "    <tr>\n",
       "      <th>1</th>\n",
       "      <td>0.0</td>\n",
       "      <td>0.0</td>\n",
       "      <td>0.0</td>\n",
       "      <td>0.0</td>\n",
       "      <td>0.0</td>\n",
       "      <td>0.0</td>\n",
       "      <td>0.0</td>\n",
       "      <td>0.0</td>\n",
       "      <td>0.0</td>\n",
       "      <td>0.0</td>\n",
       "      <td>...</td>\n",
       "      <td>0.0</td>\n",
       "      <td>0.0</td>\n",
       "      <td>0.0</td>\n",
       "      <td>0.0</td>\n",
       "      <td>0.0</td>\n",
       "      <td>0.0</td>\n",
       "      <td>0.0</td>\n",
       "      <td>2000.0</td>\n",
       "      <td>176.0</td>\n",
       "      <td>2763.2</td>\n",
       "    </tr>\n",
       "    <tr>\n",
       "      <th>2</th>\n",
       "      <td>0.0</td>\n",
       "      <td>0.0</td>\n",
       "      <td>0.0</td>\n",
       "      <td>0.0</td>\n",
       "      <td>0.0</td>\n",
       "      <td>0.0</td>\n",
       "      <td>0.0</td>\n",
       "      <td>0.0</td>\n",
       "      <td>0.0</td>\n",
       "      <td>0.0</td>\n",
       "      <td>...</td>\n",
       "      <td>0.0</td>\n",
       "      <td>0.0</td>\n",
       "      <td>0.0</td>\n",
       "      <td>0.0</td>\n",
       "      <td>0.0</td>\n",
       "      <td>0.0</td>\n",
       "      <td>0.0</td>\n",
       "      <td>2000.0</td>\n",
       "      <td>36.0</td>\n",
       "      <td>2763.2</td>\n",
       "    </tr>\n",
       "    <tr>\n",
       "      <th>3</th>\n",
       "      <td>0.0</td>\n",
       "      <td>0.0</td>\n",
       "      <td>0.0</td>\n",
       "      <td>0.0</td>\n",
       "      <td>0.0</td>\n",
       "      <td>0.0</td>\n",
       "      <td>0.0</td>\n",
       "      <td>0.0</td>\n",
       "      <td>0.0</td>\n",
       "      <td>0.0</td>\n",
       "      <td>...</td>\n",
       "      <td>0.0</td>\n",
       "      <td>1.0</td>\n",
       "      <td>0.0</td>\n",
       "      <td>0.0</td>\n",
       "      <td>0.0</td>\n",
       "      <td>0.0</td>\n",
       "      <td>0.0</td>\n",
       "      <td>2000.0</td>\n",
       "      <td>1.0</td>\n",
       "      <td>2763.2</td>\n",
       "    </tr>\n",
       "    <tr>\n",
       "      <th>4</th>\n",
       "      <td>0.0</td>\n",
       "      <td>0.0</td>\n",
       "      <td>0.0</td>\n",
       "      <td>0.0</td>\n",
       "      <td>0.0</td>\n",
       "      <td>0.0</td>\n",
       "      <td>0.0</td>\n",
       "      <td>0.0</td>\n",
       "      <td>0.0</td>\n",
       "      <td>0.0</td>\n",
       "      <td>...</td>\n",
       "      <td>0.0</td>\n",
       "      <td>0.0</td>\n",
       "      <td>0.0</td>\n",
       "      <td>1.0</td>\n",
       "      <td>0.0</td>\n",
       "      <td>0.0</td>\n",
       "      <td>0.0</td>\n",
       "      <td>2000.0</td>\n",
       "      <td>5.0</td>\n",
       "      <td>2763.2</td>\n",
       "    </tr>\n",
       "  </tbody>\n",
       "</table>\n",
       "<p>5 rows × 48 columns</p>\n",
       "</div>"
      ],
      "text/plain": [
       "   Arunachal Pradesh  Bihar  Chhattisgarh  Himachal Pradesh  \\\n",
       "0                0.0    0.0           0.0               0.0   \n",
       "1                0.0    0.0           0.0               0.0   \n",
       "2                0.0    0.0           0.0               0.0   \n",
       "3                0.0    0.0           0.0               0.0   \n",
       "4                0.0    0.0           0.0               0.0   \n",
       "\n",
       "   Jammu and Kashmir  Jharkhand  Kerala  Odisha  Punjab  Tamil Nadu  ...  \\\n",
       "0                0.0        0.0     0.0     0.0     0.0         0.0  ...   \n",
       "1                0.0        0.0     0.0     0.0     0.0         0.0  ...   \n",
       "2                0.0        0.0     0.0     0.0     0.0         0.0  ...   \n",
       "3                0.0        0.0     0.0     0.0     0.0         0.0  ...   \n",
       "4                0.0        0.0     0.0     0.0     0.0         0.0  ...   \n",
       "\n",
       "   Small millets  Sugarcane  Sunflower  Sweet potato  Turmeric  Urad  Wheat  \\\n",
       "0            0.0        0.0        0.0           0.0       0.0   0.0    0.0   \n",
       "1            0.0        0.0        0.0           0.0       0.0   0.0    0.0   \n",
       "2            0.0        0.0        0.0           0.0       0.0   0.0    0.0   \n",
       "3            0.0        1.0        0.0           0.0       0.0   0.0    0.0   \n",
       "4            0.0        0.0        0.0           1.0       0.0   0.0    0.0   \n",
       "\n",
       "     Year   Area  Rainfall  \n",
       "0  2000.0  102.0    2763.2  \n",
       "1  2000.0  176.0    2763.2  \n",
       "2  2000.0   36.0    2763.2  \n",
       "3  2000.0    1.0    2763.2  \n",
       "4  2000.0    5.0    2763.2  \n",
       "\n",
       "[5 rows x 48 columns]"
      ]
     },
     "execution_count": 14,
     "metadata": {},
     "output_type": "execute_result"
    }
   ],
   "source": [
    "oh_enc_df = pd.DataFrame(X, columns=['Arunachal Pradesh',\n",
    "       'Bihar', 'Chhattisgarh', 'Himachal Pradesh',\n",
    "       'Jammu and Kashmir', 'Jharkhand', 'Kerala',\n",
    "       'Odisha', 'Punjab', 'Tamil Nadu', 'Uttarakhand',\n",
    "       'Rabi', 'Whole Year', 'Bajra', 'Banana',\n",
    "       'Barley', 'Castor seed', 'Coriander',\n",
    "       'Cotton', 'Dry chillies', 'Dry ginger',\n",
    "       'Garlic', 'Gram', 'Groundnut', 'Horse-gram',\n",
    "       'Jowar', 'Khesari', 'Linseed', 'Maize',\n",
    "       'Masoor', 'Moong(Green Gram)', 'Onion',\n",
    "       'Peas & beans (Pulses)', 'Potato', 'Ragi',\n",
    "       'Rapeseed &Mustard', 'Rice', 'Sesamum',\n",
    "       'Small millets', 'Sugarcane', 'Sunflower',\n",
    "       'Sweet potato', 'Turmeric', 'Urad', 'Wheat','Year', 'Area', 'Rainfall'])\n",
    "\n",
    "oh_enc_df.head()"
   ]
  },
  {
   "cell_type": "code",
   "execution_count": 15,
   "metadata": {},
   "outputs": [],
   "source": [
    "neworder = ['Year', 'Area', 'Rainfall','Arunachal Pradesh', 'Bihar', 'Chhattisgarh', 'Himachal Pradesh',\n",
    "       'Jammu and Kashmir', 'Jharkhand', 'Kerala', 'Odisha', 'Punjab',\n",
    "       'Tamil Nadu', 'Uttarakhand', 'Rabi', 'Whole Year', 'Bajra', 'Banana',\n",
    "       'Barley', 'Castor seed', 'Coriander', 'Cotton', 'Dry chillies',\n",
    "       'Dry ginger', 'Garlic', 'Gram', 'Groundnut', 'Horse-gram', 'Jowar',\n",
    "       'Khesari', 'Linseed', 'Maize', 'Masoor', 'Moong(Green Gram)', 'Onion',\n",
    "       'Peas & beans (Pulses)', 'Potato', 'Ragi', 'Rapeseed &Mustard', 'Rice',\n",
    "       'Sesamum', 'Small millets', 'Sugarcane', 'Sunflower', 'Sweet potato',\n",
    "       'Turmeric', 'Urad', 'Wheat']\n",
    "\n",
    "oh_enc_df = oh_enc_df[neworder]"
   ]
  },
  {
   "cell_type": "code",
   "execution_count": 16,
   "metadata": {},
   "outputs": [
    {
     "data": {
      "text/html": [
       "<div>\n",
       "<style scoped>\n",
       "    .dataframe tbody tr th:only-of-type {\n",
       "        vertical-align: middle;\n",
       "    }\n",
       "\n",
       "    .dataframe tbody tr th {\n",
       "        vertical-align: top;\n",
       "    }\n",
       "\n",
       "    .dataframe thead th {\n",
       "        text-align: right;\n",
       "    }\n",
       "</style>\n",
       "<table border=\"1\" class=\"dataframe\">\n",
       "  <thead>\n",
       "    <tr style=\"text-align: right;\">\n",
       "      <th></th>\n",
       "      <th>Year</th>\n",
       "      <th>Area</th>\n",
       "      <th>Rainfall</th>\n",
       "      <th>Arunachal Pradesh</th>\n",
       "      <th>Bihar</th>\n",
       "      <th>Chhattisgarh</th>\n",
       "      <th>Himachal Pradesh</th>\n",
       "      <th>Jammu and Kashmir</th>\n",
       "      <th>Jharkhand</th>\n",
       "      <th>Kerala</th>\n",
       "      <th>...</th>\n",
       "      <th>Rapeseed &amp;Mustard</th>\n",
       "      <th>Rice</th>\n",
       "      <th>Sesamum</th>\n",
       "      <th>Small millets</th>\n",
       "      <th>Sugarcane</th>\n",
       "      <th>Sunflower</th>\n",
       "      <th>Sweet potato</th>\n",
       "      <th>Turmeric</th>\n",
       "      <th>Urad</th>\n",
       "      <th>Wheat</th>\n",
       "    </tr>\n",
       "  </thead>\n",
       "  <tbody>\n",
       "    <tr>\n",
       "      <th>0</th>\n",
       "      <td>2000.0</td>\n",
       "      <td>102.0</td>\n",
       "      <td>2763.2</td>\n",
       "      <td>0.0</td>\n",
       "      <td>0.0</td>\n",
       "      <td>0.0</td>\n",
       "      <td>0.0</td>\n",
       "      <td>0.0</td>\n",
       "      <td>0.0</td>\n",
       "      <td>0.0</td>\n",
       "      <td>...</td>\n",
       "      <td>0.0</td>\n",
       "      <td>1.0</td>\n",
       "      <td>0.0</td>\n",
       "      <td>0.0</td>\n",
       "      <td>0.0</td>\n",
       "      <td>0.0</td>\n",
       "      <td>0.0</td>\n",
       "      <td>0.0</td>\n",
       "      <td>0.0</td>\n",
       "      <td>0.0</td>\n",
       "    </tr>\n",
       "    <tr>\n",
       "      <th>1</th>\n",
       "      <td>2000.0</td>\n",
       "      <td>176.0</td>\n",
       "      <td>2763.2</td>\n",
       "      <td>0.0</td>\n",
       "      <td>0.0</td>\n",
       "      <td>0.0</td>\n",
       "      <td>0.0</td>\n",
       "      <td>0.0</td>\n",
       "      <td>0.0</td>\n",
       "      <td>0.0</td>\n",
       "      <td>...</td>\n",
       "      <td>0.0</td>\n",
       "      <td>0.0</td>\n",
       "      <td>0.0</td>\n",
       "      <td>0.0</td>\n",
       "      <td>0.0</td>\n",
       "      <td>0.0</td>\n",
       "      <td>0.0</td>\n",
       "      <td>0.0</td>\n",
       "      <td>0.0</td>\n",
       "      <td>0.0</td>\n",
       "    </tr>\n",
       "    <tr>\n",
       "      <th>2</th>\n",
       "      <td>2000.0</td>\n",
       "      <td>36.0</td>\n",
       "      <td>2763.2</td>\n",
       "      <td>0.0</td>\n",
       "      <td>0.0</td>\n",
       "      <td>0.0</td>\n",
       "      <td>0.0</td>\n",
       "      <td>0.0</td>\n",
       "      <td>0.0</td>\n",
       "      <td>0.0</td>\n",
       "      <td>...</td>\n",
       "      <td>0.0</td>\n",
       "      <td>0.0</td>\n",
       "      <td>0.0</td>\n",
       "      <td>0.0</td>\n",
       "      <td>0.0</td>\n",
       "      <td>0.0</td>\n",
       "      <td>0.0</td>\n",
       "      <td>0.0</td>\n",
       "      <td>0.0</td>\n",
       "      <td>0.0</td>\n",
       "    </tr>\n",
       "    <tr>\n",
       "      <th>3</th>\n",
       "      <td>2000.0</td>\n",
       "      <td>1.0</td>\n",
       "      <td>2763.2</td>\n",
       "      <td>0.0</td>\n",
       "      <td>0.0</td>\n",
       "      <td>0.0</td>\n",
       "      <td>0.0</td>\n",
       "      <td>0.0</td>\n",
       "      <td>0.0</td>\n",
       "      <td>0.0</td>\n",
       "      <td>...</td>\n",
       "      <td>0.0</td>\n",
       "      <td>0.0</td>\n",
       "      <td>0.0</td>\n",
       "      <td>0.0</td>\n",
       "      <td>1.0</td>\n",
       "      <td>0.0</td>\n",
       "      <td>0.0</td>\n",
       "      <td>0.0</td>\n",
       "      <td>0.0</td>\n",
       "      <td>0.0</td>\n",
       "    </tr>\n",
       "    <tr>\n",
       "      <th>4</th>\n",
       "      <td>2000.0</td>\n",
       "      <td>5.0</td>\n",
       "      <td>2763.2</td>\n",
       "      <td>0.0</td>\n",
       "      <td>0.0</td>\n",
       "      <td>0.0</td>\n",
       "      <td>0.0</td>\n",
       "      <td>0.0</td>\n",
       "      <td>0.0</td>\n",
       "      <td>0.0</td>\n",
       "      <td>...</td>\n",
       "      <td>0.0</td>\n",
       "      <td>0.0</td>\n",
       "      <td>0.0</td>\n",
       "      <td>0.0</td>\n",
       "      <td>0.0</td>\n",
       "      <td>0.0</td>\n",
       "      <td>1.0</td>\n",
       "      <td>0.0</td>\n",
       "      <td>0.0</td>\n",
       "      <td>0.0</td>\n",
       "    </tr>\n",
       "  </tbody>\n",
       "</table>\n",
       "<p>5 rows × 48 columns</p>\n",
       "</div>"
      ],
      "text/plain": [
       "     Year   Area  Rainfall  Arunachal Pradesh  Bihar  Chhattisgarh  \\\n",
       "0  2000.0  102.0    2763.2                0.0    0.0           0.0   \n",
       "1  2000.0  176.0    2763.2                0.0    0.0           0.0   \n",
       "2  2000.0   36.0    2763.2                0.0    0.0           0.0   \n",
       "3  2000.0    1.0    2763.2                0.0    0.0           0.0   \n",
       "4  2000.0    5.0    2763.2                0.0    0.0           0.0   \n",
       "\n",
       "   Himachal Pradesh  Jammu and Kashmir  Jharkhand  Kerala  ...  \\\n",
       "0               0.0                0.0        0.0     0.0  ...   \n",
       "1               0.0                0.0        0.0     0.0  ...   \n",
       "2               0.0                0.0        0.0     0.0  ...   \n",
       "3               0.0                0.0        0.0     0.0  ...   \n",
       "4               0.0                0.0        0.0     0.0  ...   \n",
       "\n",
       "   Rapeseed &Mustard  Rice  Sesamum  Small millets  Sugarcane  Sunflower  \\\n",
       "0                0.0   1.0      0.0            0.0        0.0        0.0   \n",
       "1                0.0   0.0      0.0            0.0        0.0        0.0   \n",
       "2                0.0   0.0      0.0            0.0        0.0        0.0   \n",
       "3                0.0   0.0      0.0            0.0        1.0        0.0   \n",
       "4                0.0   0.0      0.0            0.0        0.0        0.0   \n",
       "\n",
       "   Sweet potato  Turmeric  Urad  Wheat  \n",
       "0           0.0       0.0   0.0    0.0  \n",
       "1           0.0       0.0   0.0    0.0  \n",
       "2           0.0       0.0   0.0    0.0  \n",
       "3           0.0       0.0   0.0    0.0  \n",
       "4           1.0       0.0   0.0    0.0  \n",
       "\n",
       "[5 rows x 48 columns]"
      ]
     },
     "execution_count": 16,
     "metadata": {},
     "output_type": "execute_result"
    }
   ],
   "source": [
    "oh_enc_df.head()"
   ]
  },
  {
   "cell_type": "markdown",
   "metadata": {},
   "source": [
    "#### Columns : state->11, season->2, Crop->32, Year, Area, Rainfall ||Total ->48"
   ]
  },
  {
   "cell_type": "code",
   "execution_count": 17,
   "metadata": {},
   "outputs": [
    {
     "data": {
      "text/plain": [
       "(64360, 48)"
      ]
     },
     "execution_count": 17,
     "metadata": {},
     "output_type": "execute_result"
    }
   ],
   "source": [
    "oh_enc_df.shape"
   ]
  },
  {
   "cell_type": "markdown",
   "metadata": {},
   "source": [
    "### Splitting the data"
   ]
  },
  {
   "cell_type": "code",
   "execution_count": 18,
   "metadata": {},
   "outputs": [],
   "source": [
    "y = y.reshape(len(y),1)"
   ]
  },
  {
   "cell_type": "code",
   "execution_count": 19,
   "metadata": {},
   "outputs": [],
   "source": [
    "from sklearn.model_selection import train_test_split\n",
    "X_train, X_test, y_train, y_test = train_test_split(X,y, test_size = 0.3, random_state = 42)"
   ]
  },
  {
   "cell_type": "markdown",
   "metadata": {},
   "source": [
    "### Feature Scaling"
   ]
  },
  {
   "cell_type": "code",
   "execution_count": 20,
   "metadata": {},
   "outputs": [],
   "source": [
    "# from sklearn.preprocessing import StandardScaler\n",
    "\n",
    "# sc_X = StandardScaler()\n",
    "# sc_y = StandardScaler()\n",
    "# X = sc_X.fit_transform(X)\n",
    "# y = sc_y.fit_transform(y)"
   ]
  },
  {
   "cell_type": "markdown",
   "metadata": {},
   "source": [
    "### Random Forest Regressor"
   ]
  },
  {
   "cell_type": "code",
   "execution_count": 21,
   "metadata": {},
   "outputs": [
    {
     "name": "stdout",
     "output_type": "stream",
     "text": [
      "R2 Score = 87.88591527206793\n"
     ]
    }
   ],
   "source": [
    "from sklearn.ensemble import RandomForestRegressor\n",
    "\n",
    "regr = RandomForestRegressor(random_state=0, n_estimators=50)\n",
    "regr.fit(X_train, y_train.ravel())\n",
    "y_pred = regr.predict(X_test)\n",
    "\n",
    "from sklearn.metrics import mean_squared_error as mse\n",
    "from sklearn.metrics import mean_absolute_error as mae\n",
    "from sklearn.metrics import r2_score\n",
    "\n",
    "print('R2 Score =', r2_score(y_pred, y_test)*100)"
   ]
  },
  {
   "cell_type": "markdown",
   "metadata": {},
   "source": [
    "### Using K-Fold cross validation"
   ]
  },
  {
   "cell_type": "code",
   "execution_count": 22,
   "metadata": {},
   "outputs": [
    {
     "data": {
      "text/plain": [
       "array([0.94602501, 0.95462166, 0.94671871, 0.91038406, 0.97173345])"
      ]
     },
     "execution_count": 22,
     "metadata": {},
     "output_type": "execute_result"
    }
   ],
   "source": [
    "from sklearn.model_selection import ShuffleSplit\n",
    "from sklearn.model_selection import cross_val_score\n",
    "\n",
    "cv = ShuffleSplit(n_splits=5, test_size=0.2, random_state=0)\n",
    "\n",
    "cross_val_score(RandomForestRegressor(random_state=0, n_estimators=50), X, y.ravel(), cv=cv)"
   ]
  },
  {
   "cell_type": "markdown",
   "metadata": {},
   "source": [
    "### Saving the model"
   ]
  },
  {
   "cell_type": "code",
   "execution_count": 23,
   "metadata": {},
   "outputs": [],
   "source": [
    "import pickle\n",
    "\n",
    "with open('crop_yeild_prediction.pickle','wb') as f:\n",
    "    pickle.dump(regr,f)"
   ]
  },
  {
   "cell_type": "markdown",
   "metadata": {},
   "source": [
    "### Testing the model"
   ]
  },
  {
   "cell_type": "code",
   "execution_count": 24,
   "metadata": {},
   "outputs": [
    {
     "data": {
      "text/html": [
       "<div>\n",
       "<style scoped>\n",
       "    .dataframe tbody tr th:only-of-type {\n",
       "        vertical-align: middle;\n",
       "    }\n",
       "\n",
       "    .dataframe tbody tr th {\n",
       "        vertical-align: top;\n",
       "    }\n",
       "\n",
       "    .dataframe thead th {\n",
       "        text-align: right;\n",
       "    }\n",
       "</style>\n",
       "<table border=\"1\" class=\"dataframe\">\n",
       "  <thead>\n",
       "    <tr style=\"text-align: right;\">\n",
       "      <th></th>\n",
       "      <th>Year</th>\n",
       "      <th>Area</th>\n",
       "      <th>Rainfall</th>\n",
       "      <th>Arunachal Pradesh</th>\n",
       "      <th>Bihar</th>\n",
       "      <th>Chhattisgarh</th>\n",
       "      <th>Himachal Pradesh</th>\n",
       "      <th>Jammu and Kashmir</th>\n",
       "      <th>Jharkhand</th>\n",
       "      <th>Kerala</th>\n",
       "      <th>...</th>\n",
       "      <th>Rapeseed &amp;Mustard</th>\n",
       "      <th>Rice</th>\n",
       "      <th>Sesamum</th>\n",
       "      <th>Small millets</th>\n",
       "      <th>Sugarcane</th>\n",
       "      <th>Sunflower</th>\n",
       "      <th>Sweet potato</th>\n",
       "      <th>Turmeric</th>\n",
       "      <th>Urad</th>\n",
       "      <th>Wheat</th>\n",
       "    </tr>\n",
       "  </thead>\n",
       "  <tbody>\n",
       "    <tr>\n",
       "      <th>0</th>\n",
       "      <td>2000.0</td>\n",
       "      <td>102.0</td>\n",
       "      <td>2763.2</td>\n",
       "      <td>0.0</td>\n",
       "      <td>0.0</td>\n",
       "      <td>0.0</td>\n",
       "      <td>0.0</td>\n",
       "      <td>0.0</td>\n",
       "      <td>0.0</td>\n",
       "      <td>0.0</td>\n",
       "      <td>...</td>\n",
       "      <td>0.0</td>\n",
       "      <td>1.0</td>\n",
       "      <td>0.0</td>\n",
       "      <td>0.0</td>\n",
       "      <td>0.0</td>\n",
       "      <td>0.0</td>\n",
       "      <td>0.0</td>\n",
       "      <td>0.0</td>\n",
       "      <td>0.0</td>\n",
       "      <td>0.0</td>\n",
       "    </tr>\n",
       "    <tr>\n",
       "      <th>1</th>\n",
       "      <td>2000.0</td>\n",
       "      <td>176.0</td>\n",
       "      <td>2763.2</td>\n",
       "      <td>0.0</td>\n",
       "      <td>0.0</td>\n",
       "      <td>0.0</td>\n",
       "      <td>0.0</td>\n",
       "      <td>0.0</td>\n",
       "      <td>0.0</td>\n",
       "      <td>0.0</td>\n",
       "      <td>...</td>\n",
       "      <td>0.0</td>\n",
       "      <td>0.0</td>\n",
       "      <td>0.0</td>\n",
       "      <td>0.0</td>\n",
       "      <td>0.0</td>\n",
       "      <td>0.0</td>\n",
       "      <td>0.0</td>\n",
       "      <td>0.0</td>\n",
       "      <td>0.0</td>\n",
       "      <td>0.0</td>\n",
       "    </tr>\n",
       "    <tr>\n",
       "      <th>2</th>\n",
       "      <td>2000.0</td>\n",
       "      <td>36.0</td>\n",
       "      <td>2763.2</td>\n",
       "      <td>0.0</td>\n",
       "      <td>0.0</td>\n",
       "      <td>0.0</td>\n",
       "      <td>0.0</td>\n",
       "      <td>0.0</td>\n",
       "      <td>0.0</td>\n",
       "      <td>0.0</td>\n",
       "      <td>...</td>\n",
       "      <td>0.0</td>\n",
       "      <td>0.0</td>\n",
       "      <td>0.0</td>\n",
       "      <td>0.0</td>\n",
       "      <td>0.0</td>\n",
       "      <td>0.0</td>\n",
       "      <td>0.0</td>\n",
       "      <td>0.0</td>\n",
       "      <td>0.0</td>\n",
       "      <td>0.0</td>\n",
       "    </tr>\n",
       "    <tr>\n",
       "      <th>3</th>\n",
       "      <td>2000.0</td>\n",
       "      <td>1.0</td>\n",
       "      <td>2763.2</td>\n",
       "      <td>0.0</td>\n",
       "      <td>0.0</td>\n",
       "      <td>0.0</td>\n",
       "      <td>0.0</td>\n",
       "      <td>0.0</td>\n",
       "      <td>0.0</td>\n",
       "      <td>0.0</td>\n",
       "      <td>...</td>\n",
       "      <td>0.0</td>\n",
       "      <td>0.0</td>\n",
       "      <td>0.0</td>\n",
       "      <td>0.0</td>\n",
       "      <td>1.0</td>\n",
       "      <td>0.0</td>\n",
       "      <td>0.0</td>\n",
       "      <td>0.0</td>\n",
       "      <td>0.0</td>\n",
       "      <td>0.0</td>\n",
       "    </tr>\n",
       "    <tr>\n",
       "      <th>4</th>\n",
       "      <td>2000.0</td>\n",
       "      <td>5.0</td>\n",
       "      <td>2763.2</td>\n",
       "      <td>0.0</td>\n",
       "      <td>0.0</td>\n",
       "      <td>0.0</td>\n",
       "      <td>0.0</td>\n",
       "      <td>0.0</td>\n",
       "      <td>0.0</td>\n",
       "      <td>0.0</td>\n",
       "      <td>...</td>\n",
       "      <td>0.0</td>\n",
       "      <td>0.0</td>\n",
       "      <td>0.0</td>\n",
       "      <td>0.0</td>\n",
       "      <td>0.0</td>\n",
       "      <td>0.0</td>\n",
       "      <td>1.0</td>\n",
       "      <td>0.0</td>\n",
       "      <td>0.0</td>\n",
       "      <td>0.0</td>\n",
       "    </tr>\n",
       "  </tbody>\n",
       "</table>\n",
       "<p>5 rows × 48 columns</p>\n",
       "</div>"
      ],
      "text/plain": [
       "     Year   Area  Rainfall  Arunachal Pradesh  Bihar  Chhattisgarh  \\\n",
       "0  2000.0  102.0    2763.2                0.0    0.0           0.0   \n",
       "1  2000.0  176.0    2763.2                0.0    0.0           0.0   \n",
       "2  2000.0   36.0    2763.2                0.0    0.0           0.0   \n",
       "3  2000.0    1.0    2763.2                0.0    0.0           0.0   \n",
       "4  2000.0    5.0    2763.2                0.0    0.0           0.0   \n",
       "\n",
       "   Himachal Pradesh  Jammu and Kashmir  Jharkhand  Kerala  ...  \\\n",
       "0               0.0                0.0        0.0     0.0  ...   \n",
       "1               0.0                0.0        0.0     0.0  ...   \n",
       "2               0.0                0.0        0.0     0.0  ...   \n",
       "3               0.0                0.0        0.0     0.0  ...   \n",
       "4               0.0                0.0        0.0     0.0  ...   \n",
       "\n",
       "   Rapeseed &Mustard  Rice  Sesamum  Small millets  Sugarcane  Sunflower  \\\n",
       "0                0.0   1.0      0.0            0.0        0.0        0.0   \n",
       "1                0.0   0.0      0.0            0.0        0.0        0.0   \n",
       "2                0.0   0.0      0.0            0.0        0.0        0.0   \n",
       "3                0.0   0.0      0.0            0.0        1.0        0.0   \n",
       "4                0.0   0.0      0.0            0.0        0.0        0.0   \n",
       "\n",
       "   Sweet potato  Turmeric  Urad  Wheat  \n",
       "0           0.0       0.0   0.0    0.0  \n",
       "1           0.0       0.0   0.0    0.0  \n",
       "2           0.0       0.0   0.0    0.0  \n",
       "3           0.0       0.0   0.0    0.0  \n",
       "4           1.0       0.0   0.0    0.0  \n",
       "\n",
       "[5 rows x 48 columns]"
      ]
     },
     "execution_count": 24,
     "metadata": {},
     "output_type": "execute_result"
    }
   ],
   "source": [
    "oh_enc_df.head()"
   ]
  },
  {
   "cell_type": "code",
   "execution_count": 25,
   "metadata": {},
   "outputs": [
    {
     "data": {
      "text/plain": [
       "Index(['Year', 'Area', 'Rainfall', 'Arunachal Pradesh', 'Bihar',\n",
       "       'Chhattisgarh', 'Himachal Pradesh', 'Jammu and Kashmir', 'Jharkhand',\n",
       "       'Kerala', 'Odisha', 'Punjab', 'Tamil Nadu', 'Uttarakhand', 'Rabi',\n",
       "       'Whole Year', 'Bajra', 'Banana', 'Barley', 'Castor seed', 'Coriander',\n",
       "       'Cotton', 'Dry chillies', 'Dry ginger', 'Garlic', 'Gram', 'Groundnut',\n",
       "       'Horse-gram', 'Jowar', 'Khesari', 'Linseed', 'Maize', 'Masoor',\n",
       "       'Moong(Green Gram)', 'Onion', 'Peas & beans (Pulses)', 'Potato', 'Ragi',\n",
       "       'Rapeseed &Mustard', 'Rice', 'Sesamum', 'Small millets', 'Sugarcane',\n",
       "       'Sunflower', 'Sweet potato', 'Turmeric', 'Urad', 'Wheat'],\n",
       "      dtype='object')"
      ]
     },
     "execution_count": 25,
     "metadata": {},
     "output_type": "execute_result"
    }
   ],
   "source": [
    "oh_enc_df.columns"
   ]
  },
  {
   "cell_type": "code",
   "execution_count": 26,
   "metadata": {},
   "outputs": [
    {
     "data": {
      "text/plain": [
       "12"
      ]
     },
     "execution_count": 26,
     "metadata": {},
     "output_type": "execute_result"
    }
   ],
   "source": [
    "np.where(oh_enc_df.columns=='Tamil Nadu')[0][0]"
   ]
  },
  {
   "cell_type": "code",
   "execution_count": 27,
   "metadata": {},
   "outputs": [
    {
     "data": {
      "text/plain": [
       "42"
      ]
     },
     "execution_count": 27,
     "metadata": {},
     "output_type": "execute_result"
    }
   ],
   "source": [
    "np.where(oh_enc_df.columns=='Sugarcane')[0][0]"
   ]
  },
  {
   "cell_type": "code",
   "execution_count": 28,
   "metadata": {},
   "outputs": [
    {
     "data": {
      "text/plain": [
       "14"
      ]
     },
     "execution_count": 28,
     "metadata": {},
     "output_type": "execute_result"
    }
   ],
   "source": [
    "np.where(oh_enc_df.columns=='Rabi')[0][0]"
   ]
  },
  {
   "cell_type": "code",
   "execution_count": 29,
   "metadata": {},
   "outputs": [],
   "source": [
    "def predict_production(state,crop,season,year,area, rainfall):    \n",
    "    state_index = np.where(oh_enc_df.columns == state)[0][0]\n",
    "    crop_index = np.where(oh_enc_df.columns == crop)[0][0]\n",
    "    \n",
    "\n",
    "    x = np.zeros(len(oh_enc_df.columns))\n",
    "    x[0] = year \n",
    "    x[1] = area \n",
    "    x[2] = rainfall\n",
    "\n",
    "    if state_index >=0:\n",
    "        x[state_index] = 1\n",
    "    \n",
    "    if crop_index >=0:\n",
    "        x[crop_index] = 1\n",
    "\n",
    "    seasons = ['Rabi', 'Whole Year']\n",
    "    if season in seasons:\n",
    "      season_index = np.where(oh_enc_df.columns == season)[0][0]\n",
    "      if season_index >=0:\n",
    "          x[season_index] = 1\n",
    "    else:\n",
    "        x[14]=0\n",
    "        x[15]=0\n",
    "          \n",
    "    \n",
    "    return regr.predict([x])[0]"
   ]
  },
  {
   "cell_type": "markdown",
   "metadata": {},
   "source": [
    "### Predicting Some results"
   ]
  }
 ],
 "metadata": {
  "kernelspec": {
   "display_name": "Python 3",
   "language": "python",
   "name": "python3"
  },
  "language_info": {
   "codemirror_mode": {
    "name": "ipython",
    "version": 3
   },
   "file_extension": ".py",
   "mimetype": "text/x-python",
   "name": "python",
   "nbconvert_exporter": "python",
   "pygments_lexer": "ipython3",
   "version": "3.8.5"
  }
 },
 "nbformat": 4,
 "nbformat_minor": 4
}
