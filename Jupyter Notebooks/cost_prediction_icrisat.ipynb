{
 "cells": [
  {
   "cell_type": "code",
   "execution_count": 1,
   "source": [
    "import pandas as pd\r\n",
    "import numpy as np"
   ],
   "outputs": [],
   "metadata": {
    "id": "214a05a3"
   }
  },
  {
   "cell_type": "code",
   "execution_count": 2,
   "source": [
    "df = pd.read_excel('../Datasets/icrisat.xlsx')"
   ],
   "outputs": [],
   "metadata": {
    "id": "5f44d714"
   }
  },
  {
   "cell_type": "code",
   "execution_count": 3,
   "source": [
    "df.head()"
   ],
   "outputs": [
    {
     "output_type": "execute_result",
     "data": {
      "text/plain": [
       "   Year         State  Crop   Cost\n",
       "0  1967  Chhattisgarh  rice  110.0\n",
       "1  1968  Chhattisgarh  rice   98.8\n",
       "2  1969  Chhattisgarh  rice   94.0\n",
       "3  1970  Chhattisgarh  rice   95.4\n",
       "4  1971  Chhattisgarh  rice   95.9"
      ],
      "text/html": [
       "<div>\n",
       "<style scoped>\n",
       "    .dataframe tbody tr th:only-of-type {\n",
       "        vertical-align: middle;\n",
       "    }\n",
       "\n",
       "    .dataframe tbody tr th {\n",
       "        vertical-align: top;\n",
       "    }\n",
       "\n",
       "    .dataframe thead th {\n",
       "        text-align: right;\n",
       "    }\n",
       "</style>\n",
       "<table border=\"1\" class=\"dataframe\">\n",
       "  <thead>\n",
       "    <tr style=\"text-align: right;\">\n",
       "      <th></th>\n",
       "      <th>Year</th>\n",
       "      <th>State</th>\n",
       "      <th>Crop</th>\n",
       "      <th>Cost</th>\n",
       "    </tr>\n",
       "  </thead>\n",
       "  <tbody>\n",
       "    <tr>\n",
       "      <th>0</th>\n",
       "      <td>1967</td>\n",
       "      <td>Chhattisgarh</td>\n",
       "      <td>rice</td>\n",
       "      <td>110.0</td>\n",
       "    </tr>\n",
       "    <tr>\n",
       "      <th>1</th>\n",
       "      <td>1968</td>\n",
       "      <td>Chhattisgarh</td>\n",
       "      <td>rice</td>\n",
       "      <td>98.8</td>\n",
       "    </tr>\n",
       "    <tr>\n",
       "      <th>2</th>\n",
       "      <td>1969</td>\n",
       "      <td>Chhattisgarh</td>\n",
       "      <td>rice</td>\n",
       "      <td>94.0</td>\n",
       "    </tr>\n",
       "    <tr>\n",
       "      <th>3</th>\n",
       "      <td>1970</td>\n",
       "      <td>Chhattisgarh</td>\n",
       "      <td>rice</td>\n",
       "      <td>95.4</td>\n",
       "    </tr>\n",
       "    <tr>\n",
       "      <th>4</th>\n",
       "      <td>1971</td>\n",
       "      <td>Chhattisgarh</td>\n",
       "      <td>rice</td>\n",
       "      <td>95.9</td>\n",
       "    </tr>\n",
       "  </tbody>\n",
       "</table>\n",
       "</div>"
      ]
     },
     "metadata": {},
     "execution_count": 3
    }
   ],
   "metadata": {
    "colab": {
     "base_uri": "https://localhost:8080/",
     "height": 202
    },
    "id": "bb6f1799",
    "outputId": "70ac4e7a-c4c0-4336-a8fa-28a3ababfd25"
   }
  },
  {
   "cell_type": "code",
   "execution_count": 4,
   "source": [
    "df=df[['State','Crop','Year','Cost']]"
   ],
   "outputs": [],
   "metadata": {
    "id": "84cca0b5"
   }
  },
  {
   "cell_type": "code",
   "execution_count": 5,
   "source": [
    "df.head()"
   ],
   "outputs": [
    {
     "output_type": "execute_result",
     "data": {
      "text/plain": [
       "          State  Crop  Year   Cost\n",
       "0  Chhattisgarh  rice  1967  110.0\n",
       "1  Chhattisgarh  rice  1968   98.8\n",
       "2  Chhattisgarh  rice  1969   94.0\n",
       "3  Chhattisgarh  rice  1970   95.4\n",
       "4  Chhattisgarh  rice  1971   95.9"
      ],
      "text/html": [
       "<div>\n",
       "<style scoped>\n",
       "    .dataframe tbody tr th:only-of-type {\n",
       "        vertical-align: middle;\n",
       "    }\n",
       "\n",
       "    .dataframe tbody tr th {\n",
       "        vertical-align: top;\n",
       "    }\n",
       "\n",
       "    .dataframe thead th {\n",
       "        text-align: right;\n",
       "    }\n",
       "</style>\n",
       "<table border=\"1\" class=\"dataframe\">\n",
       "  <thead>\n",
       "    <tr style=\"text-align: right;\">\n",
       "      <th></th>\n",
       "      <th>State</th>\n",
       "      <th>Crop</th>\n",
       "      <th>Year</th>\n",
       "      <th>Cost</th>\n",
       "    </tr>\n",
       "  </thead>\n",
       "  <tbody>\n",
       "    <tr>\n",
       "      <th>0</th>\n",
       "      <td>Chhattisgarh</td>\n",
       "      <td>rice</td>\n",
       "      <td>1967</td>\n",
       "      <td>110.0</td>\n",
       "    </tr>\n",
       "    <tr>\n",
       "      <th>1</th>\n",
       "      <td>Chhattisgarh</td>\n",
       "      <td>rice</td>\n",
       "      <td>1968</td>\n",
       "      <td>98.8</td>\n",
       "    </tr>\n",
       "    <tr>\n",
       "      <th>2</th>\n",
       "      <td>Chhattisgarh</td>\n",
       "      <td>rice</td>\n",
       "      <td>1969</td>\n",
       "      <td>94.0</td>\n",
       "    </tr>\n",
       "    <tr>\n",
       "      <th>3</th>\n",
       "      <td>Chhattisgarh</td>\n",
       "      <td>rice</td>\n",
       "      <td>1970</td>\n",
       "      <td>95.4</td>\n",
       "    </tr>\n",
       "    <tr>\n",
       "      <th>4</th>\n",
       "      <td>Chhattisgarh</td>\n",
       "      <td>rice</td>\n",
       "      <td>1971</td>\n",
       "      <td>95.9</td>\n",
       "    </tr>\n",
       "  </tbody>\n",
       "</table>\n",
       "</div>"
      ]
     },
     "metadata": {},
     "execution_count": 5
    }
   ],
   "metadata": {
    "colab": {
     "base_uri": "https://localhost:8080/",
     "height": 202
    },
    "id": "d32ecab8",
    "outputId": "aaa2e013-4d4c-4fa1-e424-8647103f1c1c"
   }
  },
  {
   "cell_type": "code",
   "execution_count": 6,
   "source": [
    "df.info()"
   ],
   "outputs": [
    {
     "output_type": "stream",
     "name": "stdout",
     "text": [
      "<class 'pandas.core.frame.DataFrame'>\n",
      "RangeIndex: 112805 entries, 0 to 112804\n",
      "Data columns (total 4 columns):\n",
      " #   Column  Non-Null Count   Dtype  \n",
      "---  ------  --------------   -----  \n",
      " 0   State   112805 non-null  object \n",
      " 1   Crop    112805 non-null  object \n",
      " 2   Year    112805 non-null  int64  \n",
      " 3   Cost    112805 non-null  float64\n",
      "dtypes: float64(1), int64(1), object(2)\n",
      "memory usage: 3.4+ MB\n"
     ]
    }
   ],
   "metadata": {
    "colab": {
     "base_uri": "https://localhost:8080/"
    },
    "id": "f2024c8f",
    "outputId": "5d9a467e-31dc-4ffc-bf2a-671f47c0f2e7"
   }
  },
  {
   "cell_type": "code",
   "execution_count": 7,
   "source": [
    "df.corr()"
   ],
   "outputs": [
    {
     "output_type": "execute_result",
     "data": {
      "text/plain": [
       "          Year      Cost\n",
       "Year  1.000000  0.667275\n",
       "Cost  0.667275  1.000000"
      ],
      "text/html": [
       "<div>\n",
       "<style scoped>\n",
       "    .dataframe tbody tr th:only-of-type {\n",
       "        vertical-align: middle;\n",
       "    }\n",
       "\n",
       "    .dataframe tbody tr th {\n",
       "        vertical-align: top;\n",
       "    }\n",
       "\n",
       "    .dataframe thead th {\n",
       "        text-align: right;\n",
       "    }\n",
       "</style>\n",
       "<table border=\"1\" class=\"dataframe\">\n",
       "  <thead>\n",
       "    <tr style=\"text-align: right;\">\n",
       "      <th></th>\n",
       "      <th>Year</th>\n",
       "      <th>Cost</th>\n",
       "    </tr>\n",
       "  </thead>\n",
       "  <tbody>\n",
       "    <tr>\n",
       "      <th>Year</th>\n",
       "      <td>1.000000</td>\n",
       "      <td>0.667275</td>\n",
       "    </tr>\n",
       "    <tr>\n",
       "      <th>Cost</th>\n",
       "      <td>0.667275</td>\n",
       "      <td>1.000000</td>\n",
       "    </tr>\n",
       "  </tbody>\n",
       "</table>\n",
       "</div>"
      ]
     },
     "metadata": {},
     "execution_count": 7
    }
   ],
   "metadata": {
    "colab": {
     "base_uri": "https://localhost:8080/",
     "height": 110
    },
    "id": "f3ca3530",
    "outputId": "5d4f5a2b-0a50-410e-e1bf-3b1e5baf5cd2"
   }
  },
  {
   "cell_type": "code",
   "execution_count": 8,
   "source": [
    "unique_crops = df.Crop.unique()\r\n",
    "print(np.sort(unique_crops))"
   ],
   "outputs": [
    {
     "output_type": "stream",
     "name": "stdout",
     "text": [
      "['barley' 'castor' 'chickpea' 'cotton' 'finger millet' 'groundnut'\n",
      " 'linseed' 'maize' 'pearl millet' 'pigeonpea' 'rape and mustard' 'rice'\n",
      " 'seasmum' 'sorghum' 'sugarcane' 'wheat']\n"
     ]
    }
   ],
   "metadata": {
    "colab": {
     "base_uri": "https://localhost:8080/"
    },
    "id": "b980a7fd",
    "outputId": "c9cb8d0e-9763-47d5-d0df-1509d5980a96"
   }
  },
  {
   "cell_type": "code",
   "execution_count": 9,
   "source": [
    "unique_states = df.State.unique()\r\n",
    "print(np.sort(unique_states))"
   ],
   "outputs": [
    {
     "output_type": "stream",
     "name": "stdout",
     "text": [
      "['Andhra Pradesh' 'Assam' 'Bihar' 'Chhattisgarh' 'Gujarat' 'Haryana'\n",
      " 'Himachal Pradesh' 'Jharkhand' 'Karnataka' 'Kerala' 'Madhya Pradesh'\n",
      " 'Maharashtra' 'Orissa' 'Punjab' 'Rajasthan' 'Tamil Nadu' 'Telangana'\n",
      " 'Uttar Pradesh' 'Uttarakhand' 'West Bengal']\n"
     ]
    }
   ],
   "metadata": {
    "colab": {
     "base_uri": "https://localhost:8080/"
    },
    "id": "f907404f",
    "outputId": "f2a00a79-d2c6-42a2-88ea-89b888609dcf"
   }
  },
  {
   "cell_type": "code",
   "execution_count": 10,
   "source": [
    "X = df.iloc[:, :-1].values\r\n",
    "y = df.iloc[:, -1].values"
   ],
   "outputs": [],
   "metadata": {
    "id": "967efeb0"
   }
  },
  {
   "cell_type": "code",
   "execution_count": 11,
   "source": [
    "categorical_data = ['State','Crop']\r\n",
    "\r\n",
    "for label in categorical_data:\r\n",
    "    print(label ,': ', len(df[label].unique()))"
   ],
   "outputs": [
    {
     "output_type": "stream",
     "name": "stdout",
     "text": [
      "State :  20\n",
      "Crop :  16\n"
     ]
    }
   ],
   "metadata": {
    "colab": {
     "base_uri": "https://localhost:8080/"
    },
    "id": "28b43f5d",
    "outputId": "a24e8d6b-3064-475b-c763-a3c66146838a"
   }
  },
  {
   "cell_type": "code",
   "execution_count": 12,
   "source": [
    "from sklearn.preprocessing import OneHotEncoder\r\n",
    "from sklearn.compose import ColumnTransformer\r\n",
    "ohe =  OneHotEncoder(sparse=False, drop=\"first\")\r\n",
    "ct = ColumnTransformer([('encoder', ohe, [0,1])], remainder = 'passthrough')"
   ],
   "outputs": [],
   "metadata": {
    "id": "e893393f"
   }
  },
  {
   "cell_type": "code",
   "execution_count": 13,
   "source": [
    "X = ct.fit_transform(X)"
   ],
   "outputs": [],
   "metadata": {
    "id": "a624726b"
   }
  },
  {
   "cell_type": "code",
   "execution_count": 14,
   "source": [
    "print(X)"
   ],
   "outputs": [
    {
     "output_type": "stream",
     "name": "stdout",
     "text": [
      "[[0.0 0.0 1.0 ... 0.0 0.0 1967]\n",
      " [0.0 0.0 1.0 ... 0.0 0.0 1968]\n",
      " [0.0 0.0 1.0 ... 0.0 0.0 1969]\n",
      " ...\n",
      " [0.0 0.0 0.0 ... 0.0 0.0 2005]\n",
      " [0.0 0.0 0.0 ... 0.0 0.0 2006]\n",
      " [0.0 0.0 0.0 ... 0.0 0.0 2007]]\n"
     ]
    }
   ],
   "metadata": {
    "colab": {
     "base_uri": "https://localhost:8080/"
    },
    "id": "01a05fec",
    "outputId": "bdf1344c-9635-4176-ea76-04275cf5145c"
   }
  },
  {
   "cell_type": "code",
   "execution_count": 15,
   "source": [
    "df.sample()"
   ],
   "outputs": [
    {
     "output_type": "execute_result",
     "data": {
      "text/plain": [
       "                State       Crop  Year    Cost\n",
       "71960  Madhya Pradesh  groundnut  2013  3560.0"
      ],
      "text/html": [
       "<div>\n",
       "<style scoped>\n",
       "    .dataframe tbody tr th:only-of-type {\n",
       "        vertical-align: middle;\n",
       "    }\n",
       "\n",
       "    .dataframe tbody tr th {\n",
       "        vertical-align: top;\n",
       "    }\n",
       "\n",
       "    .dataframe thead th {\n",
       "        text-align: right;\n",
       "    }\n",
       "</style>\n",
       "<table border=\"1\" class=\"dataframe\">\n",
       "  <thead>\n",
       "    <tr style=\"text-align: right;\">\n",
       "      <th></th>\n",
       "      <th>State</th>\n",
       "      <th>Crop</th>\n",
       "      <th>Year</th>\n",
       "      <th>Cost</th>\n",
       "    </tr>\n",
       "  </thead>\n",
       "  <tbody>\n",
       "    <tr>\n",
       "      <th>71960</th>\n",
       "      <td>Madhya Pradesh</td>\n",
       "      <td>groundnut</td>\n",
       "      <td>2013</td>\n",
       "      <td>3560.0</td>\n",
       "    </tr>\n",
       "  </tbody>\n",
       "</table>\n",
       "</div>"
      ]
     },
     "metadata": {},
     "execution_count": 15
    }
   ],
   "metadata": {
    "colab": {
     "base_uri": "https://localhost:8080/",
     "height": 79
    },
    "id": "Lt0XDFZ0MrOE",
    "outputId": "5e3374c3-1091-4f01-96e2-8296302ecc5a"
   }
  },
  {
   "cell_type": "code",
   "execution_count": 16,
   "source": [
    "X_df = pd.DataFrame(X)\r\n",
    "X_df.head()"
   ],
   "outputs": [
    {
     "output_type": "execute_result",
     "data": {
      "text/plain": [
       "  0  1  2  3  4  5  6  7  8  9   ... 25 26 27 28 29 30 31 32 33    34\n",
       "0  0  0  1  0  0  0  0  0  0  0  ...  0  0  0  0  1  0  0  0  0  1967\n",
       "1  0  0  1  0  0  0  0  0  0  0  ...  0  0  0  0  1  0  0  0  0  1968\n",
       "2  0  0  1  0  0  0  0  0  0  0  ...  0  0  0  0  1  0  0  0  0  1969\n",
       "3  0  0  1  0  0  0  0  0  0  0  ...  0  0  0  0  1  0  0  0  0  1970\n",
       "4  0  0  1  0  0  0  0  0  0  0  ...  0  0  0  0  1  0  0  0  0  1971\n",
       "\n",
       "[5 rows x 35 columns]"
      ],
      "text/html": [
       "<div>\n",
       "<style scoped>\n",
       "    .dataframe tbody tr th:only-of-type {\n",
       "        vertical-align: middle;\n",
       "    }\n",
       "\n",
       "    .dataframe tbody tr th {\n",
       "        vertical-align: top;\n",
       "    }\n",
       "\n",
       "    .dataframe thead th {\n",
       "        text-align: right;\n",
       "    }\n",
       "</style>\n",
       "<table border=\"1\" class=\"dataframe\">\n",
       "  <thead>\n",
       "    <tr style=\"text-align: right;\">\n",
       "      <th></th>\n",
       "      <th>0</th>\n",
       "      <th>1</th>\n",
       "      <th>2</th>\n",
       "      <th>3</th>\n",
       "      <th>4</th>\n",
       "      <th>5</th>\n",
       "      <th>6</th>\n",
       "      <th>7</th>\n",
       "      <th>8</th>\n",
       "      <th>9</th>\n",
       "      <th>...</th>\n",
       "      <th>25</th>\n",
       "      <th>26</th>\n",
       "      <th>27</th>\n",
       "      <th>28</th>\n",
       "      <th>29</th>\n",
       "      <th>30</th>\n",
       "      <th>31</th>\n",
       "      <th>32</th>\n",
       "      <th>33</th>\n",
       "      <th>34</th>\n",
       "    </tr>\n",
       "  </thead>\n",
       "  <tbody>\n",
       "    <tr>\n",
       "      <th>0</th>\n",
       "      <td>0</td>\n",
       "      <td>0</td>\n",
       "      <td>1</td>\n",
       "      <td>0</td>\n",
       "      <td>0</td>\n",
       "      <td>0</td>\n",
       "      <td>0</td>\n",
       "      <td>0</td>\n",
       "      <td>0</td>\n",
       "      <td>0</td>\n",
       "      <td>...</td>\n",
       "      <td>0</td>\n",
       "      <td>0</td>\n",
       "      <td>0</td>\n",
       "      <td>0</td>\n",
       "      <td>1</td>\n",
       "      <td>0</td>\n",
       "      <td>0</td>\n",
       "      <td>0</td>\n",
       "      <td>0</td>\n",
       "      <td>1967</td>\n",
       "    </tr>\n",
       "    <tr>\n",
       "      <th>1</th>\n",
       "      <td>0</td>\n",
       "      <td>0</td>\n",
       "      <td>1</td>\n",
       "      <td>0</td>\n",
       "      <td>0</td>\n",
       "      <td>0</td>\n",
       "      <td>0</td>\n",
       "      <td>0</td>\n",
       "      <td>0</td>\n",
       "      <td>0</td>\n",
       "      <td>...</td>\n",
       "      <td>0</td>\n",
       "      <td>0</td>\n",
       "      <td>0</td>\n",
       "      <td>0</td>\n",
       "      <td>1</td>\n",
       "      <td>0</td>\n",
       "      <td>0</td>\n",
       "      <td>0</td>\n",
       "      <td>0</td>\n",
       "      <td>1968</td>\n",
       "    </tr>\n",
       "    <tr>\n",
       "      <th>2</th>\n",
       "      <td>0</td>\n",
       "      <td>0</td>\n",
       "      <td>1</td>\n",
       "      <td>0</td>\n",
       "      <td>0</td>\n",
       "      <td>0</td>\n",
       "      <td>0</td>\n",
       "      <td>0</td>\n",
       "      <td>0</td>\n",
       "      <td>0</td>\n",
       "      <td>...</td>\n",
       "      <td>0</td>\n",
       "      <td>0</td>\n",
       "      <td>0</td>\n",
       "      <td>0</td>\n",
       "      <td>1</td>\n",
       "      <td>0</td>\n",
       "      <td>0</td>\n",
       "      <td>0</td>\n",
       "      <td>0</td>\n",
       "      <td>1969</td>\n",
       "    </tr>\n",
       "    <tr>\n",
       "      <th>3</th>\n",
       "      <td>0</td>\n",
       "      <td>0</td>\n",
       "      <td>1</td>\n",
       "      <td>0</td>\n",
       "      <td>0</td>\n",
       "      <td>0</td>\n",
       "      <td>0</td>\n",
       "      <td>0</td>\n",
       "      <td>0</td>\n",
       "      <td>0</td>\n",
       "      <td>...</td>\n",
       "      <td>0</td>\n",
       "      <td>0</td>\n",
       "      <td>0</td>\n",
       "      <td>0</td>\n",
       "      <td>1</td>\n",
       "      <td>0</td>\n",
       "      <td>0</td>\n",
       "      <td>0</td>\n",
       "      <td>0</td>\n",
       "      <td>1970</td>\n",
       "    </tr>\n",
       "    <tr>\n",
       "      <th>4</th>\n",
       "      <td>0</td>\n",
       "      <td>0</td>\n",
       "      <td>1</td>\n",
       "      <td>0</td>\n",
       "      <td>0</td>\n",
       "      <td>0</td>\n",
       "      <td>0</td>\n",
       "      <td>0</td>\n",
       "      <td>0</td>\n",
       "      <td>0</td>\n",
       "      <td>...</td>\n",
       "      <td>0</td>\n",
       "      <td>0</td>\n",
       "      <td>0</td>\n",
       "      <td>0</td>\n",
       "      <td>1</td>\n",
       "      <td>0</td>\n",
       "      <td>0</td>\n",
       "      <td>0</td>\n",
       "      <td>0</td>\n",
       "      <td>1971</td>\n",
       "    </tr>\n",
       "  </tbody>\n",
       "</table>\n",
       "<p>5 rows × 35 columns</p>\n",
       "</div>"
      ]
     },
     "metadata": {},
     "execution_count": 16
    }
   ],
   "metadata": {
    "colab": {
     "base_uri": "https://localhost:8080/",
     "height": 222
    },
    "id": "c25ed1d9",
    "outputId": "b5393940-ff67-449f-cb50-5b3be7eef5b7"
   }
  },
  {
   "cell_type": "code",
   "execution_count": 17,
   "source": [
    "dummy_df = pd.get_dummies(df, drop_first= True)"
   ],
   "outputs": [],
   "metadata": {
    "id": "b3c04ba6"
   }
  },
  {
   "cell_type": "code",
   "execution_count": 18,
   "source": [
    "dummy_df.keys()"
   ],
   "outputs": [
    {
     "output_type": "execute_result",
     "data": {
      "text/plain": [
       "Index(['Year', 'Cost', 'State_Assam', 'State_Bihar', 'State_Chhattisgarh',\n",
       "       'State_Gujarat', 'State_Haryana', 'State_Himachal Pradesh',\n",
       "       'State_Jharkhand', 'State_Karnataka', 'State_Kerala',\n",
       "       'State_Madhya Pradesh', 'State_Maharashtra', 'State_Orissa',\n",
       "       'State_Punjab', 'State_Rajasthan', 'State_Tamil Nadu',\n",
       "       'State_Telangana', 'State_Uttar Pradesh', 'State_Uttarakhand',\n",
       "       'State_West Bengal', 'Crop_castor', 'Crop_chickpea', 'Crop_cotton',\n",
       "       'Crop_finger millet', 'Crop_groundnut', 'Crop_linseed', 'Crop_maize',\n",
       "       'Crop_pearl millet', 'Crop_pigeonpea', 'Crop_rape and mustard',\n",
       "       'Crop_rice', 'Crop_seasmum', 'Crop_sorghum', 'Crop_sugarcane',\n",
       "       'Crop_wheat'],\n",
       "      dtype='object')"
      ]
     },
     "metadata": {},
     "execution_count": 18
    }
   ],
   "metadata": {
    "colab": {
     "base_uri": "https://localhost:8080/"
    },
    "id": "e90dda36",
    "outputId": "e8a7cd87-ce9e-4106-9b6f-6ed9658f2688"
   }
  },
  {
   "cell_type": "code",
   "execution_count": 19,
   "source": [
    "oh_enc_df = pd.DataFrame(X, columns=['Assam','Bihar','Chhattisgarh','Gujarat',\r\n",
    "                                     'Haryana','Himachal Pradesh','Jharkhand',\r\n",
    "                                     'Karnataka','Kerala','Madhya Pradesh',\r\n",
    "                                     'Maharashtra','Orissa','Punjab','Rajasthan',\r\n",
    "                                     'Tamil Nadu','Telangana','Uttar Pradesh',\r\n",
    "                                     'Uttarakhand','West Bengal','castor','chickpea',\r\n",
    "                                     'cotton','finger millet','groundnut','linseed','maize',\r\n",
    "                                     'pearl millet','pigeonpea','rape and mustard','rice',\r\n",
    "                                     'seasmum','sorghum','sugarcane','wheat','Year'])\r\n",
    "\r\n",
    "\r\n",
    "oh_enc_df.head()"
   ],
   "outputs": [
    {
     "output_type": "execute_result",
     "data": {
      "text/plain": [
       "  Assam Bihar Chhattisgarh Gujarat Haryana Himachal Pradesh Jharkhand  \\\n",
       "0     0     0            1       0       0                0         0   \n",
       "1     0     0            1       0       0                0         0   \n",
       "2     0     0            1       0       0                0         0   \n",
       "3     0     0            1       0       0                0         0   \n",
       "4     0     0            1       0       0                0         0   \n",
       "\n",
       "  Karnataka Kerala Madhya Pradesh  ... maize pearl millet pigeonpea  \\\n",
       "0         0      0              0  ...     0            0         0   \n",
       "1         0      0              0  ...     0            0         0   \n",
       "2         0      0              0  ...     0            0         0   \n",
       "3         0      0              0  ...     0            0         0   \n",
       "4         0      0              0  ...     0            0         0   \n",
       "\n",
       "  rape and mustard rice seasmum sorghum sugarcane wheat  Year  \n",
       "0                0    1       0       0         0     0  1967  \n",
       "1                0    1       0       0         0     0  1968  \n",
       "2                0    1       0       0         0     0  1969  \n",
       "3                0    1       0       0         0     0  1970  \n",
       "4                0    1       0       0         0     0  1971  \n",
       "\n",
       "[5 rows x 35 columns]"
      ],
      "text/html": [
       "<div>\n",
       "<style scoped>\n",
       "    .dataframe tbody tr th:only-of-type {\n",
       "        vertical-align: middle;\n",
       "    }\n",
       "\n",
       "    .dataframe tbody tr th {\n",
       "        vertical-align: top;\n",
       "    }\n",
       "\n",
       "    .dataframe thead th {\n",
       "        text-align: right;\n",
       "    }\n",
       "</style>\n",
       "<table border=\"1\" class=\"dataframe\">\n",
       "  <thead>\n",
       "    <tr style=\"text-align: right;\">\n",
       "      <th></th>\n",
       "      <th>Assam</th>\n",
       "      <th>Bihar</th>\n",
       "      <th>Chhattisgarh</th>\n",
       "      <th>Gujarat</th>\n",
       "      <th>Haryana</th>\n",
       "      <th>Himachal Pradesh</th>\n",
       "      <th>Jharkhand</th>\n",
       "      <th>Karnataka</th>\n",
       "      <th>Kerala</th>\n",
       "      <th>Madhya Pradesh</th>\n",
       "      <th>...</th>\n",
       "      <th>maize</th>\n",
       "      <th>pearl millet</th>\n",
       "      <th>pigeonpea</th>\n",
       "      <th>rape and mustard</th>\n",
       "      <th>rice</th>\n",
       "      <th>seasmum</th>\n",
       "      <th>sorghum</th>\n",
       "      <th>sugarcane</th>\n",
       "      <th>wheat</th>\n",
       "      <th>Year</th>\n",
       "    </tr>\n",
       "  </thead>\n",
       "  <tbody>\n",
       "    <tr>\n",
       "      <th>0</th>\n",
       "      <td>0</td>\n",
       "      <td>0</td>\n",
       "      <td>1</td>\n",
       "      <td>0</td>\n",
       "      <td>0</td>\n",
       "      <td>0</td>\n",
       "      <td>0</td>\n",
       "      <td>0</td>\n",
       "      <td>0</td>\n",
       "      <td>0</td>\n",
       "      <td>...</td>\n",
       "      <td>0</td>\n",
       "      <td>0</td>\n",
       "      <td>0</td>\n",
       "      <td>0</td>\n",
       "      <td>1</td>\n",
       "      <td>0</td>\n",
       "      <td>0</td>\n",
       "      <td>0</td>\n",
       "      <td>0</td>\n",
       "      <td>1967</td>\n",
       "    </tr>\n",
       "    <tr>\n",
       "      <th>1</th>\n",
       "      <td>0</td>\n",
       "      <td>0</td>\n",
       "      <td>1</td>\n",
       "      <td>0</td>\n",
       "      <td>0</td>\n",
       "      <td>0</td>\n",
       "      <td>0</td>\n",
       "      <td>0</td>\n",
       "      <td>0</td>\n",
       "      <td>0</td>\n",
       "      <td>...</td>\n",
       "      <td>0</td>\n",
       "      <td>0</td>\n",
       "      <td>0</td>\n",
       "      <td>0</td>\n",
       "      <td>1</td>\n",
       "      <td>0</td>\n",
       "      <td>0</td>\n",
       "      <td>0</td>\n",
       "      <td>0</td>\n",
       "      <td>1968</td>\n",
       "    </tr>\n",
       "    <tr>\n",
       "      <th>2</th>\n",
       "      <td>0</td>\n",
       "      <td>0</td>\n",
       "      <td>1</td>\n",
       "      <td>0</td>\n",
       "      <td>0</td>\n",
       "      <td>0</td>\n",
       "      <td>0</td>\n",
       "      <td>0</td>\n",
       "      <td>0</td>\n",
       "      <td>0</td>\n",
       "      <td>...</td>\n",
       "      <td>0</td>\n",
       "      <td>0</td>\n",
       "      <td>0</td>\n",
       "      <td>0</td>\n",
       "      <td>1</td>\n",
       "      <td>0</td>\n",
       "      <td>0</td>\n",
       "      <td>0</td>\n",
       "      <td>0</td>\n",
       "      <td>1969</td>\n",
       "    </tr>\n",
       "    <tr>\n",
       "      <th>3</th>\n",
       "      <td>0</td>\n",
       "      <td>0</td>\n",
       "      <td>1</td>\n",
       "      <td>0</td>\n",
       "      <td>0</td>\n",
       "      <td>0</td>\n",
       "      <td>0</td>\n",
       "      <td>0</td>\n",
       "      <td>0</td>\n",
       "      <td>0</td>\n",
       "      <td>...</td>\n",
       "      <td>0</td>\n",
       "      <td>0</td>\n",
       "      <td>0</td>\n",
       "      <td>0</td>\n",
       "      <td>1</td>\n",
       "      <td>0</td>\n",
       "      <td>0</td>\n",
       "      <td>0</td>\n",
       "      <td>0</td>\n",
       "      <td>1970</td>\n",
       "    </tr>\n",
       "    <tr>\n",
       "      <th>4</th>\n",
       "      <td>0</td>\n",
       "      <td>0</td>\n",
       "      <td>1</td>\n",
       "      <td>0</td>\n",
       "      <td>0</td>\n",
       "      <td>0</td>\n",
       "      <td>0</td>\n",
       "      <td>0</td>\n",
       "      <td>0</td>\n",
       "      <td>0</td>\n",
       "      <td>...</td>\n",
       "      <td>0</td>\n",
       "      <td>0</td>\n",
       "      <td>0</td>\n",
       "      <td>0</td>\n",
       "      <td>1</td>\n",
       "      <td>0</td>\n",
       "      <td>0</td>\n",
       "      <td>0</td>\n",
       "      <td>0</td>\n",
       "      <td>1971</td>\n",
       "    </tr>\n",
       "  </tbody>\n",
       "</table>\n",
       "<p>5 rows × 35 columns</p>\n",
       "</div>"
      ]
     },
     "metadata": {},
     "execution_count": 19
    }
   ],
   "metadata": {
    "colab": {
     "base_uri": "https://localhost:8080/",
     "height": 256
    },
    "id": "a3a275b8",
    "outputId": "31b3943d-f5b9-4826-cc62-98b4b553a23d"
   }
  },
  {
   "cell_type": "code",
   "execution_count": 20,
   "source": [
    "oh_enc_df.shape"
   ],
   "outputs": [
    {
     "output_type": "execute_result",
     "data": {
      "text/plain": [
       "(112805, 35)"
      ]
     },
     "metadata": {},
     "execution_count": 20
    }
   ],
   "metadata": {
    "colab": {
     "base_uri": "https://localhost:8080/"
    },
    "id": "73325ca8",
    "outputId": "16fa3dab-9449-43bf-d703-f997fe5307a3"
   }
  },
  {
   "cell_type": "code",
   "execution_count": 21,
   "source": [
    "from sklearn.model_selection import train_test_split\r\n",
    "X_train, X_test, y_train, y_test = train_test_split(X,y, test_size = 0.2, random_state = 42)"
   ],
   "outputs": [],
   "metadata": {
    "id": "22476999"
   }
  },
  {
   "cell_type": "code",
   "execution_count": 22,
   "source": [
    "from sklearn.ensemble import RandomForestRegressor\r\n",
    "\r\n",
    "regr = RandomForestRegressor(random_state=0, n_estimators=50)\r\n",
    "regr.fit(X_train, y_train)"
   ],
   "outputs": [
    {
     "output_type": "execute_result",
     "data": {
      "text/plain": [
       "RandomForestRegressor(n_estimators=50, random_state=0)"
      ]
     },
     "metadata": {},
     "execution_count": 22
    }
   ],
   "metadata": {
    "colab": {
     "base_uri": "https://localhost:8080/"
    },
    "id": "18e69668",
    "outputId": "12682ec2-70f8-4822-c24b-4df86cb8b6c0"
   }
  },
  {
   "cell_type": "code",
   "execution_count": 23,
   "source": [
    "print('R2 Score =', regr.score(X_test, y_test)*100)"
   ],
   "outputs": [
    {
     "output_type": "stream",
     "name": "stdout",
     "text": [
      "R2 Score = 94.36293229187493\n"
     ]
    }
   ],
   "metadata": {
    "colab": {
     "base_uri": "https://localhost:8080/"
    },
    "id": "606aa8fa",
    "outputId": "b54c7708-1e5e-456f-8214-ef6a76e9bda3"
   }
  },
  {
   "cell_type": "code",
   "execution_count": 24,
   "source": [
    "from sklearn.model_selection import ShuffleSplit\r\n",
    "from sklearn.model_selection import cross_val_score\r\n",
    "\r\n",
    "cv = ShuffleSplit(n_splits=5, test_size=0.2, random_state=0)\r\n",
    "\r\n",
    "cross_val_score(RandomForestRegressor(random_state=0, n_estimators=50), X, y, cv=cv)"
   ],
   "outputs": [
    {
     "output_type": "execute_result",
     "data": {
      "text/plain": [
       "array([0.94108107, 0.94271898, 0.94211477, 0.94356318, 0.93923828])"
      ]
     },
     "metadata": {},
     "execution_count": 24
    }
   ],
   "metadata": {
    "colab": {
     "base_uri": "https://localhost:8080/"
    },
    "id": "gfK2ZqbojZ7x",
    "outputId": "ad37080e-c97c-44ae-ddd6-64d1bb9e11c8"
   }
  },
  {
   "cell_type": "code",
   "execution_count": 25,
   "source": [
    "import pickle\r\n",
    "\r\n",
    "with open('../Models/cost_prediction_icrisat.pkl','wb') as f:\r\n",
    "    pickle.dump(regr,f)"
   ],
   "outputs": [],
   "metadata": {}
  }
 ],
 "metadata": {
  "colab": {
   "collapsed_sections": [],
   "name": "cost_prediction_icrisat.ipynb",
   "provenance": []
  },
  "kernelspec": {
   "display_name": "Python 3",
   "language": "python",
   "name": "python3"
  },
  "language_info": {
   "codemirror_mode": {
    "name": "ipython",
    "version": 3
   },
   "file_extension": ".py",
   "mimetype": "text/x-python",
   "name": "python",
   "nbconvert_exporter": "python",
   "pygments_lexer": "ipython3",
   "version": "3.8.5"
  }
 },
 "nbformat": 4,
 "nbformat_minor": 5
}