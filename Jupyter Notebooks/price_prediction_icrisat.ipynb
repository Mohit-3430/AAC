{
 "cells": [
  {
   "cell_type": "code",
   "execution_count": 1,
   "id": "efbe1baa",
   "metadata": {
    "id": "214a05a3"
   },
   "outputs": [],
   "source": [
    "import pandas as pd\n",
    "import numpy as np"
   ]
  },
  {
   "cell_type": "code",
   "execution_count": 2,
   "id": "f744e9db",
   "metadata": {
    "id": "5f44d714"
   },
   "outputs": [],
   "source": [
    "df = pd.read_excel('../Datasets/icrisat.xlsx')"
   ]
  },
  {
   "cell_type": "code",
   "execution_count": 3,
   "id": "f165582a",
   "metadata": {
    "colab": {
     "base_uri": "https://localhost:8080/",
     "height": 202
    },
    "id": "bb6f1799",
    "outputId": "70ac4e7a-c4c0-4336-a8fa-28a3ababfd25"
   },
   "outputs": [
    {
     "data": {
      "text/html": [
       "<div>\n",
       "<style scoped>\n",
       "    .dataframe tbody tr th:only-of-type {\n",
       "        vertical-align: middle;\n",
       "    }\n",
       "\n",
       "    .dataframe tbody tr th {\n",
       "        vertical-align: top;\n",
       "    }\n",
       "\n",
       "    .dataframe thead th {\n",
       "        text-align: right;\n",
       "    }\n",
       "</style>\n",
       "<table border=\"1\" class=\"dataframe\">\n",
       "  <thead>\n",
       "    <tr style=\"text-align: right;\">\n",
       "      <th></th>\n",
       "      <th>Year</th>\n",
       "      <th>State</th>\n",
       "      <th>Crop</th>\n",
       "      <th>Cost</th>\n",
       "    </tr>\n",
       "  </thead>\n",
       "  <tbody>\n",
       "    <tr>\n",
       "      <th>0</th>\n",
       "      <td>1967</td>\n",
       "      <td>Chhattisgarh</td>\n",
       "      <td>rice</td>\n",
       "      <td>110.0</td>\n",
       "    </tr>\n",
       "    <tr>\n",
       "      <th>1</th>\n",
       "      <td>1968</td>\n",
       "      <td>Chhattisgarh</td>\n",
       "      <td>rice</td>\n",
       "      <td>98.8</td>\n",
       "    </tr>\n",
       "    <tr>\n",
       "      <th>2</th>\n",
       "      <td>1969</td>\n",
       "      <td>Chhattisgarh</td>\n",
       "      <td>rice</td>\n",
       "      <td>94.0</td>\n",
       "    </tr>\n",
       "    <tr>\n",
       "      <th>3</th>\n",
       "      <td>1970</td>\n",
       "      <td>Chhattisgarh</td>\n",
       "      <td>rice</td>\n",
       "      <td>95.4</td>\n",
       "    </tr>\n",
       "    <tr>\n",
       "      <th>4</th>\n",
       "      <td>1971</td>\n",
       "      <td>Chhattisgarh</td>\n",
       "      <td>rice</td>\n",
       "      <td>95.9</td>\n",
       "    </tr>\n",
       "  </tbody>\n",
       "</table>\n",
       "</div>"
      ],
      "text/plain": [
       "   Year         State  Crop   Cost\n",
       "0  1967  Chhattisgarh  rice  110.0\n",
       "1  1968  Chhattisgarh  rice   98.8\n",
       "2  1969  Chhattisgarh  rice   94.0\n",
       "3  1970  Chhattisgarh  rice   95.4\n",
       "4  1971  Chhattisgarh  rice   95.9"
      ]
     },
     "execution_count": 3,
     "metadata": {},
     "output_type": "execute_result"
    }
   ],
   "source": [
    "df.head()"
   ]
  },
  {
   "cell_type": "code",
   "execution_count": 4,
   "id": "124b0813",
   "metadata": {
    "id": "84cca0b5"
   },
   "outputs": [],
   "source": [
    "df=df[['State','Crop','Year','Cost']]"
   ]
  },
  {
   "cell_type": "code",
   "execution_count": 5,
   "id": "60e1e304",
   "metadata": {
    "colab": {
     "base_uri": "https://localhost:8080/",
     "height": 202
    },
    "id": "d32ecab8",
    "outputId": "aaa2e013-4d4c-4fa1-e424-8647103f1c1c"
   },
   "outputs": [
    {
     "data": {
      "text/html": [
       "<div>\n",
       "<style scoped>\n",
       "    .dataframe tbody tr th:only-of-type {\n",
       "        vertical-align: middle;\n",
       "    }\n",
       "\n",
       "    .dataframe tbody tr th {\n",
       "        vertical-align: top;\n",
       "    }\n",
       "\n",
       "    .dataframe thead th {\n",
       "        text-align: right;\n",
       "    }\n",
       "</style>\n",
       "<table border=\"1\" class=\"dataframe\">\n",
       "  <thead>\n",
       "    <tr style=\"text-align: right;\">\n",
       "      <th></th>\n",
       "      <th>State</th>\n",
       "      <th>Crop</th>\n",
       "      <th>Year</th>\n",
       "      <th>Cost</th>\n",
       "    </tr>\n",
       "  </thead>\n",
       "  <tbody>\n",
       "    <tr>\n",
       "      <th>0</th>\n",
       "      <td>Chhattisgarh</td>\n",
       "      <td>rice</td>\n",
       "      <td>1967</td>\n",
       "      <td>110.0</td>\n",
       "    </tr>\n",
       "    <tr>\n",
       "      <th>1</th>\n",
       "      <td>Chhattisgarh</td>\n",
       "      <td>rice</td>\n",
       "      <td>1968</td>\n",
       "      <td>98.8</td>\n",
       "    </tr>\n",
       "    <tr>\n",
       "      <th>2</th>\n",
       "      <td>Chhattisgarh</td>\n",
       "      <td>rice</td>\n",
       "      <td>1969</td>\n",
       "      <td>94.0</td>\n",
       "    </tr>\n",
       "    <tr>\n",
       "      <th>3</th>\n",
       "      <td>Chhattisgarh</td>\n",
       "      <td>rice</td>\n",
       "      <td>1970</td>\n",
       "      <td>95.4</td>\n",
       "    </tr>\n",
       "    <tr>\n",
       "      <th>4</th>\n",
       "      <td>Chhattisgarh</td>\n",
       "      <td>rice</td>\n",
       "      <td>1971</td>\n",
       "      <td>95.9</td>\n",
       "    </tr>\n",
       "  </tbody>\n",
       "</table>\n",
       "</div>"
      ],
      "text/plain": [
       "          State  Crop  Year   Cost\n",
       "0  Chhattisgarh  rice  1967  110.0\n",
       "1  Chhattisgarh  rice  1968   98.8\n",
       "2  Chhattisgarh  rice  1969   94.0\n",
       "3  Chhattisgarh  rice  1970   95.4\n",
       "4  Chhattisgarh  rice  1971   95.9"
      ]
     },
     "execution_count": 5,
     "metadata": {},
     "output_type": "execute_result"
    }
   ],
   "source": [
    "df.head()"
   ]
  },
  {
   "cell_type": "code",
   "execution_count": 6,
   "id": "8492175e",
   "metadata": {
    "colab": {
     "base_uri": "https://localhost:8080/"
    },
    "id": "f2024c8f",
    "outputId": "5d9a467e-31dc-4ffc-bf2a-671f47c0f2e7"
   },
   "outputs": [
    {
     "name": "stdout",
     "output_type": "stream",
     "text": [
      "<class 'pandas.core.frame.DataFrame'>\n",
      "RangeIndex: 112805 entries, 0 to 112804\n",
      "Data columns (total 4 columns):\n",
      " #   Column  Non-Null Count   Dtype  \n",
      "---  ------  --------------   -----  \n",
      " 0   State   112805 non-null  object \n",
      " 1   Crop    112805 non-null  object \n",
      " 2   Year    112805 non-null  int64  \n",
      " 3   Cost    112805 non-null  float64\n",
      "dtypes: float64(1), int64(1), object(2)\n",
      "memory usage: 3.4+ MB\n"
     ]
    }
   ],
   "source": [
    "df.info()"
   ]
  },
  {
   "cell_type": "code",
   "execution_count": 7,
   "id": "20d3e4a1",
   "metadata": {
    "colab": {
     "base_uri": "https://localhost:8080/",
     "height": 110
    },
    "id": "f3ca3530",
    "outputId": "5d4f5a2b-0a50-410e-e1bf-3b1e5baf5cd2"
   },
   "outputs": [
    {
     "data": {
      "text/html": [
       "<div>\n",
       "<style scoped>\n",
       "    .dataframe tbody tr th:only-of-type {\n",
       "        vertical-align: middle;\n",
       "    }\n",
       "\n",
       "    .dataframe tbody tr th {\n",
       "        vertical-align: top;\n",
       "    }\n",
       "\n",
       "    .dataframe thead th {\n",
       "        text-align: right;\n",
       "    }\n",
       "</style>\n",
       "<table border=\"1\" class=\"dataframe\">\n",
       "  <thead>\n",
       "    <tr style=\"text-align: right;\">\n",
       "      <th></th>\n",
       "      <th>Year</th>\n",
       "      <th>Cost</th>\n",
       "    </tr>\n",
       "  </thead>\n",
       "  <tbody>\n",
       "    <tr>\n",
       "      <th>Year</th>\n",
       "      <td>1.000000</td>\n",
       "      <td>0.667275</td>\n",
       "    </tr>\n",
       "    <tr>\n",
       "      <th>Cost</th>\n",
       "      <td>0.667275</td>\n",
       "      <td>1.000000</td>\n",
       "    </tr>\n",
       "  </tbody>\n",
       "</table>\n",
       "</div>"
      ],
      "text/plain": [
       "          Year      Cost\n",
       "Year  1.000000  0.667275\n",
       "Cost  0.667275  1.000000"
      ]
     },
     "execution_count": 7,
     "metadata": {},
     "output_type": "execute_result"
    }
   ],
   "source": [
    "df.corr()"
   ]
  },
  {
   "cell_type": "code",
   "execution_count": 8,
   "id": "f5007d1f",
   "metadata": {
    "colab": {
     "base_uri": "https://localhost:8080/"
    },
    "id": "b980a7fd",
    "outputId": "c9cb8d0e-9763-47d5-d0df-1509d5980a96"
   },
   "outputs": [
    {
     "name": "stdout",
     "output_type": "stream",
     "text": [
      "['barley' 'castor' 'chickpea' 'cotton' 'finger millet' 'groundnut'\n",
      " 'linseed' 'maize' 'pearl millet' 'pigeonpea' 'rape and mustard' 'rice'\n",
      " 'seasmum' 'sorghum' 'sugarcane' 'wheat']\n"
     ]
    }
   ],
   "source": [
    "unique_crops = df.Crop.unique()\n",
    "print(np.sort(unique_crops))"
   ]
  },
  {
   "cell_type": "code",
   "execution_count": 9,
   "id": "dd02c063",
   "metadata": {
    "colab": {
     "base_uri": "https://localhost:8080/"
    },
    "id": "f907404f",
    "outputId": "f2a00a79-d2c6-42a2-88ea-89b888609dcf"
   },
   "outputs": [
    {
     "name": "stdout",
     "output_type": "stream",
     "text": [
      "['Andhra Pradesh' 'Assam' 'Bihar' 'Chhattisgarh' 'Gujarat' 'Haryana'\n",
      " 'Himachal Pradesh' 'Jharkhand' 'Karnataka' 'Kerala' 'Madhya Pradesh'\n",
      " 'Maharashtra' 'Orissa' 'Punjab' 'Rajasthan' 'Tamil Nadu' 'Telangana'\n",
      " 'Uttar Pradesh' 'Uttarakhand' 'West Bengal']\n"
     ]
    }
   ],
   "source": [
    "unique_states = df.State.unique()\n",
    "print(np.sort(unique_states))"
   ]
  },
  {
   "cell_type": "code",
   "execution_count": 10,
   "id": "980962be",
   "metadata": {
    "id": "967efeb0"
   },
   "outputs": [],
   "source": [
    "X = df.iloc[:, :-1].values\n",
    "y = df.iloc[:, -1].values"
   ]
  },
  {
   "cell_type": "code",
   "execution_count": 11,
   "id": "2f3a8c0c",
   "metadata": {
    "colab": {
     "base_uri": "https://localhost:8080/"
    },
    "id": "28b43f5d",
    "outputId": "a24e8d6b-3064-475b-c763-a3c66146838a"
   },
   "outputs": [
    {
     "name": "stdout",
     "output_type": "stream",
     "text": [
      "State :  20\n",
      "Crop :  16\n"
     ]
    }
   ],
   "source": [
    "categorical_data = ['State','Crop']\n",
    "\n",
    "for label in categorical_data:\n",
    "    print(label ,': ', len(df[label].unique()))"
   ]
  },
  {
   "cell_type": "code",
   "execution_count": 12,
   "id": "5b764137",
   "metadata": {
    "id": "e893393f"
   },
   "outputs": [],
   "source": [
    "from sklearn.preprocessing import OneHotEncoder\n",
    "from sklearn.compose import ColumnTransformer\n",
    "ohe =  OneHotEncoder(sparse=False, drop=\"first\")\n",
    "ct = ColumnTransformer([('encoder', ohe, [0,1])], remainder = 'passthrough')"
   ]
  },
  {
   "cell_type": "code",
   "execution_count": 13,
   "id": "478c79a2",
   "metadata": {
    "id": "a624726b"
   },
   "outputs": [],
   "source": [
    "X = ct.fit_transform(X)"
   ]
  },
  {
   "cell_type": "code",
   "execution_count": 14,
   "id": "25052fdd",
   "metadata": {
    "colab": {
     "base_uri": "https://localhost:8080/"
    },
    "id": "01a05fec",
    "outputId": "bdf1344c-9635-4176-ea76-04275cf5145c"
   },
   "outputs": [
    {
     "name": "stdout",
     "output_type": "stream",
     "text": [
      "[[0.0 0.0 1.0 ... 0.0 0.0 1967]\n",
      " [0.0 0.0 1.0 ... 0.0 0.0 1968]\n",
      " [0.0 0.0 1.0 ... 0.0 0.0 1969]\n",
      " ...\n",
      " [0.0 0.0 0.0 ... 0.0 0.0 2005]\n",
      " [0.0 0.0 0.0 ... 0.0 0.0 2006]\n",
      " [0.0 0.0 0.0 ... 0.0 0.0 2007]]\n"
     ]
    }
   ],
   "source": [
    "print(X)"
   ]
  },
  {
   "cell_type": "code",
   "execution_count": 15,
   "id": "a4e14bc3",
   "metadata": {
    "colab": {
     "base_uri": "https://localhost:8080/",
     "height": 79
    },
    "id": "Lt0XDFZ0MrOE",
    "outputId": "5e3374c3-1091-4f01-96e2-8296302ecc5a"
   },
   "outputs": [
    {
     "data": {
      "text/html": [
       "<div>\n",
       "<style scoped>\n",
       "    .dataframe tbody tr th:only-of-type {\n",
       "        vertical-align: middle;\n",
       "    }\n",
       "\n",
       "    .dataframe tbody tr th {\n",
       "        vertical-align: top;\n",
       "    }\n",
       "\n",
       "    .dataframe thead th {\n",
       "        text-align: right;\n",
       "    }\n",
       "</style>\n",
       "<table border=\"1\" class=\"dataframe\">\n",
       "  <thead>\n",
       "    <tr style=\"text-align: right;\">\n",
       "      <th></th>\n",
       "      <th>State</th>\n",
       "      <th>Crop</th>\n",
       "      <th>Year</th>\n",
       "      <th>Cost</th>\n",
       "    </tr>\n",
       "  </thead>\n",
       "  <tbody>\n",
       "    <tr>\n",
       "      <th>104680</th>\n",
       "      <td>Rajasthan</td>\n",
       "      <td>sugarcane</td>\n",
       "      <td>2004</td>\n",
       "      <td>1511.0</td>\n",
       "    </tr>\n",
       "  </tbody>\n",
       "</table>\n",
       "</div>"
      ],
      "text/plain": [
       "            State       Crop  Year    Cost\n",
       "104680  Rajasthan  sugarcane  2004  1511.0"
      ]
     },
     "execution_count": 15,
     "metadata": {},
     "output_type": "execute_result"
    }
   ],
   "source": [
    "df.sample()"
   ]
  },
  {
   "cell_type": "code",
   "execution_count": 16,
   "id": "c616a6b5",
   "metadata": {
    "colab": {
     "base_uri": "https://localhost:8080/",
     "height": 222
    },
    "id": "c25ed1d9",
    "outputId": "b5393940-ff67-449f-cb50-5b3be7eef5b7"
   },
   "outputs": [
    {
     "data": {
      "text/html": [
       "<div>\n",
       "<style scoped>\n",
       "    .dataframe tbody tr th:only-of-type {\n",
       "        vertical-align: middle;\n",
       "    }\n",
       "\n",
       "    .dataframe tbody tr th {\n",
       "        vertical-align: top;\n",
       "    }\n",
       "\n",
       "    .dataframe thead th {\n",
       "        text-align: right;\n",
       "    }\n",
       "</style>\n",
       "<table border=\"1\" class=\"dataframe\">\n",
       "  <thead>\n",
       "    <tr style=\"text-align: right;\">\n",
       "      <th></th>\n",
       "      <th>0</th>\n",
       "      <th>1</th>\n",
       "      <th>2</th>\n",
       "      <th>3</th>\n",
       "      <th>4</th>\n",
       "      <th>5</th>\n",
       "      <th>6</th>\n",
       "      <th>7</th>\n",
       "      <th>8</th>\n",
       "      <th>9</th>\n",
       "      <th>...</th>\n",
       "      <th>25</th>\n",
       "      <th>26</th>\n",
       "      <th>27</th>\n",
       "      <th>28</th>\n",
       "      <th>29</th>\n",
       "      <th>30</th>\n",
       "      <th>31</th>\n",
       "      <th>32</th>\n",
       "      <th>33</th>\n",
       "      <th>34</th>\n",
       "    </tr>\n",
       "  </thead>\n",
       "  <tbody>\n",
       "    <tr>\n",
       "      <th>0</th>\n",
       "      <td>0.0</td>\n",
       "      <td>0.0</td>\n",
       "      <td>1.0</td>\n",
       "      <td>0.0</td>\n",
       "      <td>0.0</td>\n",
       "      <td>0.0</td>\n",
       "      <td>0.0</td>\n",
       "      <td>0.0</td>\n",
       "      <td>0.0</td>\n",
       "      <td>0.0</td>\n",
       "      <td>...</td>\n",
       "      <td>0.0</td>\n",
       "      <td>0.0</td>\n",
       "      <td>0.0</td>\n",
       "      <td>0.0</td>\n",
       "      <td>1.0</td>\n",
       "      <td>0.0</td>\n",
       "      <td>0.0</td>\n",
       "      <td>0.0</td>\n",
       "      <td>0.0</td>\n",
       "      <td>1967</td>\n",
       "    </tr>\n",
       "    <tr>\n",
       "      <th>1</th>\n",
       "      <td>0.0</td>\n",
       "      <td>0.0</td>\n",
       "      <td>1.0</td>\n",
       "      <td>0.0</td>\n",
       "      <td>0.0</td>\n",
       "      <td>0.0</td>\n",
       "      <td>0.0</td>\n",
       "      <td>0.0</td>\n",
       "      <td>0.0</td>\n",
       "      <td>0.0</td>\n",
       "      <td>...</td>\n",
       "      <td>0.0</td>\n",
       "      <td>0.0</td>\n",
       "      <td>0.0</td>\n",
       "      <td>0.0</td>\n",
       "      <td>1.0</td>\n",
       "      <td>0.0</td>\n",
       "      <td>0.0</td>\n",
       "      <td>0.0</td>\n",
       "      <td>0.0</td>\n",
       "      <td>1968</td>\n",
       "    </tr>\n",
       "    <tr>\n",
       "      <th>2</th>\n",
       "      <td>0.0</td>\n",
       "      <td>0.0</td>\n",
       "      <td>1.0</td>\n",
       "      <td>0.0</td>\n",
       "      <td>0.0</td>\n",
       "      <td>0.0</td>\n",
       "      <td>0.0</td>\n",
       "      <td>0.0</td>\n",
       "      <td>0.0</td>\n",
       "      <td>0.0</td>\n",
       "      <td>...</td>\n",
       "      <td>0.0</td>\n",
       "      <td>0.0</td>\n",
       "      <td>0.0</td>\n",
       "      <td>0.0</td>\n",
       "      <td>1.0</td>\n",
       "      <td>0.0</td>\n",
       "      <td>0.0</td>\n",
       "      <td>0.0</td>\n",
       "      <td>0.0</td>\n",
       "      <td>1969</td>\n",
       "    </tr>\n",
       "    <tr>\n",
       "      <th>3</th>\n",
       "      <td>0.0</td>\n",
       "      <td>0.0</td>\n",
       "      <td>1.0</td>\n",
       "      <td>0.0</td>\n",
       "      <td>0.0</td>\n",
       "      <td>0.0</td>\n",
       "      <td>0.0</td>\n",
       "      <td>0.0</td>\n",
       "      <td>0.0</td>\n",
       "      <td>0.0</td>\n",
       "      <td>...</td>\n",
       "      <td>0.0</td>\n",
       "      <td>0.0</td>\n",
       "      <td>0.0</td>\n",
       "      <td>0.0</td>\n",
       "      <td>1.0</td>\n",
       "      <td>0.0</td>\n",
       "      <td>0.0</td>\n",
       "      <td>0.0</td>\n",
       "      <td>0.0</td>\n",
       "      <td>1970</td>\n",
       "    </tr>\n",
       "    <tr>\n",
       "      <th>4</th>\n",
       "      <td>0.0</td>\n",
       "      <td>0.0</td>\n",
       "      <td>1.0</td>\n",
       "      <td>0.0</td>\n",
       "      <td>0.0</td>\n",
       "      <td>0.0</td>\n",
       "      <td>0.0</td>\n",
       "      <td>0.0</td>\n",
       "      <td>0.0</td>\n",
       "      <td>0.0</td>\n",
       "      <td>...</td>\n",
       "      <td>0.0</td>\n",
       "      <td>0.0</td>\n",
       "      <td>0.0</td>\n",
       "      <td>0.0</td>\n",
       "      <td>1.0</td>\n",
       "      <td>0.0</td>\n",
       "      <td>0.0</td>\n",
       "      <td>0.0</td>\n",
       "      <td>0.0</td>\n",
       "      <td>1971</td>\n",
       "    </tr>\n",
       "  </tbody>\n",
       "</table>\n",
       "<p>5 rows × 35 columns</p>\n",
       "</div>"
      ],
      "text/plain": [
       "    0    1    2    3    4    5    6    7    8    9   ...   25   26   27   28  \\\n",
       "0  0.0  0.0  1.0  0.0  0.0  0.0  0.0  0.0  0.0  0.0  ...  0.0  0.0  0.0  0.0   \n",
       "1  0.0  0.0  1.0  0.0  0.0  0.0  0.0  0.0  0.0  0.0  ...  0.0  0.0  0.0  0.0   \n",
       "2  0.0  0.0  1.0  0.0  0.0  0.0  0.0  0.0  0.0  0.0  ...  0.0  0.0  0.0  0.0   \n",
       "3  0.0  0.0  1.0  0.0  0.0  0.0  0.0  0.0  0.0  0.0  ...  0.0  0.0  0.0  0.0   \n",
       "4  0.0  0.0  1.0  0.0  0.0  0.0  0.0  0.0  0.0  0.0  ...  0.0  0.0  0.0  0.0   \n",
       "\n",
       "    29   30   31   32   33    34  \n",
       "0  1.0  0.0  0.0  0.0  0.0  1967  \n",
       "1  1.0  0.0  0.0  0.0  0.0  1968  \n",
       "2  1.0  0.0  0.0  0.0  0.0  1969  \n",
       "3  1.0  0.0  0.0  0.0  0.0  1970  \n",
       "4  1.0  0.0  0.0  0.0  0.0  1971  \n",
       "\n",
       "[5 rows x 35 columns]"
      ]
     },
     "execution_count": 16,
     "metadata": {},
     "output_type": "execute_result"
    }
   ],
   "source": [
    "X_df = pd.DataFrame(X)\n",
    "X_df.head()"
   ]
  },
  {
   "cell_type": "code",
   "execution_count": 17,
   "id": "c2336243",
   "metadata": {
    "id": "b3c04ba6"
   },
   "outputs": [],
   "source": [
    "dummy_df = pd.get_dummies(df, drop_first= True)"
   ]
  },
  {
   "cell_type": "code",
   "execution_count": 18,
   "id": "e4440e51",
   "metadata": {
    "colab": {
     "base_uri": "https://localhost:8080/"
    },
    "id": "e90dda36",
    "outputId": "e8a7cd87-ce9e-4106-9b6f-6ed9658f2688"
   },
   "outputs": [
    {
     "data": {
      "text/plain": [
       "Index(['Year', 'Cost', 'State_Assam', 'State_Bihar', 'State_Chhattisgarh',\n",
       "       'State_Gujarat', 'State_Haryana', 'State_Himachal Pradesh',\n",
       "       'State_Jharkhand', 'State_Karnataka', 'State_Kerala',\n",
       "       'State_Madhya Pradesh', 'State_Maharashtra', 'State_Orissa',\n",
       "       'State_Punjab', 'State_Rajasthan', 'State_Tamil Nadu',\n",
       "       'State_Telangana', 'State_Uttar Pradesh', 'State_Uttarakhand',\n",
       "       'State_West Bengal', 'Crop_castor', 'Crop_chickpea', 'Crop_cotton',\n",
       "       'Crop_finger millet', 'Crop_groundnut', 'Crop_linseed', 'Crop_maize',\n",
       "       'Crop_pearl millet', 'Crop_pigeonpea', 'Crop_rape and mustard',\n",
       "       'Crop_rice', 'Crop_seasmum', 'Crop_sorghum', 'Crop_sugarcane',\n",
       "       'Crop_wheat'],\n",
       "      dtype='object')"
      ]
     },
     "execution_count": 18,
     "metadata": {},
     "output_type": "execute_result"
    }
   ],
   "source": [
    "dummy_df.keys()"
   ]
  },
  {
   "cell_type": "code",
   "execution_count": 19,
   "id": "0d2efba6",
   "metadata": {
    "colab": {
     "base_uri": "https://localhost:8080/",
     "height": 256
    },
    "id": "a3a275b8",
    "outputId": "31b3943d-f5b9-4826-cc62-98b4b553a23d"
   },
   "outputs": [
    {
     "data": {
      "text/html": [
       "<div>\n",
       "<style scoped>\n",
       "    .dataframe tbody tr th:only-of-type {\n",
       "        vertical-align: middle;\n",
       "    }\n",
       "\n",
       "    .dataframe tbody tr th {\n",
       "        vertical-align: top;\n",
       "    }\n",
       "\n",
       "    .dataframe thead th {\n",
       "        text-align: right;\n",
       "    }\n",
       "</style>\n",
       "<table border=\"1\" class=\"dataframe\">\n",
       "  <thead>\n",
       "    <tr style=\"text-align: right;\">\n",
       "      <th></th>\n",
       "      <th>Assam</th>\n",
       "      <th>Bihar</th>\n",
       "      <th>Chhattisgarh</th>\n",
       "      <th>Gujarat</th>\n",
       "      <th>Haryana</th>\n",
       "      <th>Himachal Pradesh</th>\n",
       "      <th>Jharkhand</th>\n",
       "      <th>Karnataka</th>\n",
       "      <th>Kerala</th>\n",
       "      <th>Madhya Pradesh</th>\n",
       "      <th>...</th>\n",
       "      <th>maize</th>\n",
       "      <th>pearl millet</th>\n",
       "      <th>pigeonpea</th>\n",
       "      <th>rape and mustard</th>\n",
       "      <th>rice</th>\n",
       "      <th>seasmum</th>\n",
       "      <th>sorghum</th>\n",
       "      <th>sugarcane</th>\n",
       "      <th>wheat</th>\n",
       "      <th>Year</th>\n",
       "    </tr>\n",
       "  </thead>\n",
       "  <tbody>\n",
       "    <tr>\n",
       "      <th>0</th>\n",
       "      <td>0.0</td>\n",
       "      <td>0.0</td>\n",
       "      <td>1.0</td>\n",
       "      <td>0.0</td>\n",
       "      <td>0.0</td>\n",
       "      <td>0.0</td>\n",
       "      <td>0.0</td>\n",
       "      <td>0.0</td>\n",
       "      <td>0.0</td>\n",
       "      <td>0.0</td>\n",
       "      <td>...</td>\n",
       "      <td>0.0</td>\n",
       "      <td>0.0</td>\n",
       "      <td>0.0</td>\n",
       "      <td>0.0</td>\n",
       "      <td>1.0</td>\n",
       "      <td>0.0</td>\n",
       "      <td>0.0</td>\n",
       "      <td>0.0</td>\n",
       "      <td>0.0</td>\n",
       "      <td>1967</td>\n",
       "    </tr>\n",
       "    <tr>\n",
       "      <th>1</th>\n",
       "      <td>0.0</td>\n",
       "      <td>0.0</td>\n",
       "      <td>1.0</td>\n",
       "      <td>0.0</td>\n",
       "      <td>0.0</td>\n",
       "      <td>0.0</td>\n",
       "      <td>0.0</td>\n",
       "      <td>0.0</td>\n",
       "      <td>0.0</td>\n",
       "      <td>0.0</td>\n",
       "      <td>...</td>\n",
       "      <td>0.0</td>\n",
       "      <td>0.0</td>\n",
       "      <td>0.0</td>\n",
       "      <td>0.0</td>\n",
       "      <td>1.0</td>\n",
       "      <td>0.0</td>\n",
       "      <td>0.0</td>\n",
       "      <td>0.0</td>\n",
       "      <td>0.0</td>\n",
       "      <td>1968</td>\n",
       "    </tr>\n",
       "    <tr>\n",
       "      <th>2</th>\n",
       "      <td>0.0</td>\n",
       "      <td>0.0</td>\n",
       "      <td>1.0</td>\n",
       "      <td>0.0</td>\n",
       "      <td>0.0</td>\n",
       "      <td>0.0</td>\n",
       "      <td>0.0</td>\n",
       "      <td>0.0</td>\n",
       "      <td>0.0</td>\n",
       "      <td>0.0</td>\n",
       "      <td>...</td>\n",
       "      <td>0.0</td>\n",
       "      <td>0.0</td>\n",
       "      <td>0.0</td>\n",
       "      <td>0.0</td>\n",
       "      <td>1.0</td>\n",
       "      <td>0.0</td>\n",
       "      <td>0.0</td>\n",
       "      <td>0.0</td>\n",
       "      <td>0.0</td>\n",
       "      <td>1969</td>\n",
       "    </tr>\n",
       "    <tr>\n",
       "      <th>3</th>\n",
       "      <td>0.0</td>\n",
       "      <td>0.0</td>\n",
       "      <td>1.0</td>\n",
       "      <td>0.0</td>\n",
       "      <td>0.0</td>\n",
       "      <td>0.0</td>\n",
       "      <td>0.0</td>\n",
       "      <td>0.0</td>\n",
       "      <td>0.0</td>\n",
       "      <td>0.0</td>\n",
       "      <td>...</td>\n",
       "      <td>0.0</td>\n",
       "      <td>0.0</td>\n",
       "      <td>0.0</td>\n",
       "      <td>0.0</td>\n",
       "      <td>1.0</td>\n",
       "      <td>0.0</td>\n",
       "      <td>0.0</td>\n",
       "      <td>0.0</td>\n",
       "      <td>0.0</td>\n",
       "      <td>1970</td>\n",
       "    </tr>\n",
       "    <tr>\n",
       "      <th>4</th>\n",
       "      <td>0.0</td>\n",
       "      <td>0.0</td>\n",
       "      <td>1.0</td>\n",
       "      <td>0.0</td>\n",
       "      <td>0.0</td>\n",
       "      <td>0.0</td>\n",
       "      <td>0.0</td>\n",
       "      <td>0.0</td>\n",
       "      <td>0.0</td>\n",
       "      <td>0.0</td>\n",
       "      <td>...</td>\n",
       "      <td>0.0</td>\n",
       "      <td>0.0</td>\n",
       "      <td>0.0</td>\n",
       "      <td>0.0</td>\n",
       "      <td>1.0</td>\n",
       "      <td>0.0</td>\n",
       "      <td>0.0</td>\n",
       "      <td>0.0</td>\n",
       "      <td>0.0</td>\n",
       "      <td>1971</td>\n",
       "    </tr>\n",
       "  </tbody>\n",
       "</table>\n",
       "<p>5 rows × 35 columns</p>\n",
       "</div>"
      ],
      "text/plain": [
       "  Assam Bihar Chhattisgarh Gujarat Haryana Himachal Pradesh Jharkhand  \\\n",
       "0   0.0   0.0          1.0     0.0     0.0              0.0       0.0   \n",
       "1   0.0   0.0          1.0     0.0     0.0              0.0       0.0   \n",
       "2   0.0   0.0          1.0     0.0     0.0              0.0       0.0   \n",
       "3   0.0   0.0          1.0     0.0     0.0              0.0       0.0   \n",
       "4   0.0   0.0          1.0     0.0     0.0              0.0       0.0   \n",
       "\n",
       "  Karnataka Kerala Madhya Pradesh  ... maize pearl millet pigeonpea  \\\n",
       "0       0.0    0.0            0.0  ...   0.0          0.0       0.0   \n",
       "1       0.0    0.0            0.0  ...   0.0          0.0       0.0   \n",
       "2       0.0    0.0            0.0  ...   0.0          0.0       0.0   \n",
       "3       0.0    0.0            0.0  ...   0.0          0.0       0.0   \n",
       "4       0.0    0.0            0.0  ...   0.0          0.0       0.0   \n",
       "\n",
       "  rape and mustard rice seasmum sorghum sugarcane wheat  Year  \n",
       "0              0.0  1.0     0.0     0.0       0.0   0.0  1967  \n",
       "1              0.0  1.0     0.0     0.0       0.0   0.0  1968  \n",
       "2              0.0  1.0     0.0     0.0       0.0   0.0  1969  \n",
       "3              0.0  1.0     0.0     0.0       0.0   0.0  1970  \n",
       "4              0.0  1.0     0.0     0.0       0.0   0.0  1971  \n",
       "\n",
       "[5 rows x 35 columns]"
      ]
     },
     "execution_count": 19,
     "metadata": {},
     "output_type": "execute_result"
    }
   ],
   "source": [
    "oh_enc_df = pd.DataFrame(X, columns=['Assam','Bihar','Chhattisgarh','Gujarat',\n",
    "                                     'Haryana','Himachal Pradesh','Jharkhand',\n",
    "                                     'Karnataka','Kerala','Madhya Pradesh',\n",
    "                                     'Maharashtra','Orissa','Punjab','Rajasthan',\n",
    "                                     'Tamil Nadu','Telangana','Uttar Pradesh',\n",
    "                                     'Uttarakhand','West Bengal','castor','chickpea',\n",
    "                                     'cotton','finger millet','groundnut','linseed','maize',\n",
    "                                     'pearl millet','pigeonpea','rape and mustard','rice',\n",
    "                                     'seasmum','sorghum','sugarcane','wheat','Year'])\n",
    "\n",
    "\n",
    "oh_enc_df.head()"
   ]
  },
  {
   "cell_type": "code",
   "execution_count": 20,
   "id": "060f68a7",
   "metadata": {
    "colab": {
     "base_uri": "https://localhost:8080/"
    },
    "id": "73325ca8",
    "outputId": "16fa3dab-9449-43bf-d703-f997fe5307a3"
   },
   "outputs": [
    {
     "data": {
      "text/plain": [
       "(112805, 35)"
      ]
     },
     "execution_count": 20,
     "metadata": {},
     "output_type": "execute_result"
    }
   ],
   "source": [
    "oh_enc_df.shape"
   ]
  },
  {
   "cell_type": "code",
   "execution_count": 21,
   "id": "0066e1f0",
   "metadata": {
    "id": "22476999"
   },
   "outputs": [],
   "source": [
    "from sklearn.model_selection import train_test_split\n",
    "X_train, X_test, y_train, y_test = train_test_split(X,y, test_size = 0.2, random_state = 42)"
   ]
  },
  {
   "cell_type": "code",
   "execution_count": 22,
   "id": "24a6767c",
   "metadata": {
    "colab": {
     "base_uri": "https://localhost:8080/"
    },
    "id": "18e69668",
    "outputId": "12682ec2-70f8-4822-c24b-4df86cb8b6c0"
   },
   "outputs": [
    {
     "data": {
      "text/plain": [
       "RandomForestRegressor(n_estimators=50, random_state=0)"
      ]
     },
     "execution_count": 22,
     "metadata": {},
     "output_type": "execute_result"
    }
   ],
   "source": [
    "from sklearn.ensemble import RandomForestRegressor\n",
    "\n",
    "regr = RandomForestRegressor(random_state=0, n_estimators=50)\n",
    "regr.fit(X_train, y_train)"
   ]
  },
  {
   "cell_type": "code",
   "execution_count": 23,
   "id": "d465daa2",
   "metadata": {
    "colab": {
     "base_uri": "https://localhost:8080/"
    },
    "id": "606aa8fa",
    "outputId": "b54c7708-1e5e-456f-8214-ef6a76e9bda3"
   },
   "outputs": [
    {
     "name": "stdout",
     "output_type": "stream",
     "text": [
      "R2 Score = 94.36293229187493\n"
     ]
    }
   ],
   "source": [
    "print('R2 Score =', regr.score(X_test, y_test)*100)"
   ]
  },
  {
   "cell_type": "code",
   "execution_count": 24,
   "id": "8b96e621",
   "metadata": {
    "colab": {
     "base_uri": "https://localhost:8080/"
    },
    "id": "gfK2ZqbojZ7x",
    "outputId": "ad37080e-c97c-44ae-ddd6-64d1bb9e11c8"
   },
   "outputs": [
    {
     "data": {
      "text/plain": [
       "array([0.94108107, 0.94271898, 0.94211477, 0.94356318, 0.93923828])"
      ]
     },
     "execution_count": 24,
     "metadata": {},
     "output_type": "execute_result"
    }
   ],
   "source": [
    "from sklearn.model_selection import ShuffleSplit\n",
    "from sklearn.model_selection import cross_val_score\n",
    "\n",
    "cv = ShuffleSplit(n_splits=5, test_size=0.2, random_state=0)\n",
    "\n",
    "cross_val_score(RandomForestRegressor(random_state=0, n_estimators=50), X, y, cv=cv)"
   ]
  },
  {
   "cell_type": "code",
   "execution_count": 25,
   "id": "b88cf9c7",
   "metadata": {},
   "outputs": [],
   "source": [
    "import joblib\n",
    "\n",
    "with open('../Models/price_prediction_icrisat.joblib','wb') as f:\n",
    "    joblib.dump(regr,f)"
   ]
  }
 ],
 "metadata": {
  "colab": {
   "collapsed_sections": [],
   "name": "cost_prediction_icrisat.ipynb",
   "provenance": []
  },
  "kernelspec": {
   "display_name": "Python 3 (ipykernel)",
   "language": "python",
   "name": "python3"
  },
  "language_info": {
   "codemirror_mode": {
    "name": "ipython",
    "version": 3
   },
   "file_extension": ".py",
   "mimetype": "text/x-python",
   "name": "python",
   "nbconvert_exporter": "python",
   "pygments_lexer": "ipython3",
   "version": "3.9.2"
  }
 },
 "nbformat": 4,
 "nbformat_minor": 5
}
