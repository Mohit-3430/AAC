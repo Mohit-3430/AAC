{
 "cells": [
  {
   "cell_type": "code",
   "execution_count": 1,
   "source": [
    "import pandas as pd\r\n",
    "import numpy as np"
   ],
   "outputs": [],
   "metadata": {
    "id": "_vP5ibFh9T7i"
   }
  },
  {
   "cell_type": "code",
   "execution_count": 2,
   "source": [
    "df = pd.read_csv('../Datasets/cleaned_yield_dataset.csv')"
   ],
   "outputs": [],
   "metadata": {
    "id": "u_tGFoA89T7l"
   }
  },
  {
   "cell_type": "code",
   "execution_count": 3,
   "source": [
    "df.head()"
   ],
   "outputs": [
    {
     "output_type": "execute_result",
     "data": {
      "text/plain": [
       "                         State  Year      Season          Crop   Area  \\\n",
       "0  Andaman and Nicobar Islands  2000      Kharif          Rice  102.0   \n",
       "1  Andaman and Nicobar Islands  2000  Whole Year        Banana  176.0   \n",
       "2  Andaman and Nicobar Islands  2000  Whole Year    Dry ginger   36.0   \n",
       "3  Andaman and Nicobar Islands  2000  Whole Year     Sugarcane    1.0   \n",
       "4  Andaman and Nicobar Islands  2000  Whole Year  Sweet potato    5.0   \n",
       "\n",
       "   Rainfall  Production  \n",
       "0    2763.2       321.0  \n",
       "1    2763.2       641.0  \n",
       "2    2763.2       100.0  \n",
       "3    2763.2         2.0  \n",
       "4    2763.2        15.0  "
      ],
      "text/html": [
       "<div>\n",
       "<style scoped>\n",
       "    .dataframe tbody tr th:only-of-type {\n",
       "        vertical-align: middle;\n",
       "    }\n",
       "\n",
       "    .dataframe tbody tr th {\n",
       "        vertical-align: top;\n",
       "    }\n",
       "\n",
       "    .dataframe thead th {\n",
       "        text-align: right;\n",
       "    }\n",
       "</style>\n",
       "<table border=\"1\" class=\"dataframe\">\n",
       "  <thead>\n",
       "    <tr style=\"text-align: right;\">\n",
       "      <th></th>\n",
       "      <th>State</th>\n",
       "      <th>Year</th>\n",
       "      <th>Season</th>\n",
       "      <th>Crop</th>\n",
       "      <th>Area</th>\n",
       "      <th>Rainfall</th>\n",
       "      <th>Production</th>\n",
       "    </tr>\n",
       "  </thead>\n",
       "  <tbody>\n",
       "    <tr>\n",
       "      <th>0</th>\n",
       "      <td>Andaman and Nicobar Islands</td>\n",
       "      <td>2000</td>\n",
       "      <td>Kharif</td>\n",
       "      <td>Rice</td>\n",
       "      <td>102.0</td>\n",
       "      <td>2763.2</td>\n",
       "      <td>321.0</td>\n",
       "    </tr>\n",
       "    <tr>\n",
       "      <th>1</th>\n",
       "      <td>Andaman and Nicobar Islands</td>\n",
       "      <td>2000</td>\n",
       "      <td>Whole Year</td>\n",
       "      <td>Banana</td>\n",
       "      <td>176.0</td>\n",
       "      <td>2763.2</td>\n",
       "      <td>641.0</td>\n",
       "    </tr>\n",
       "    <tr>\n",
       "      <th>2</th>\n",
       "      <td>Andaman and Nicobar Islands</td>\n",
       "      <td>2000</td>\n",
       "      <td>Whole Year</td>\n",
       "      <td>Dry ginger</td>\n",
       "      <td>36.0</td>\n",
       "      <td>2763.2</td>\n",
       "      <td>100.0</td>\n",
       "    </tr>\n",
       "    <tr>\n",
       "      <th>3</th>\n",
       "      <td>Andaman and Nicobar Islands</td>\n",
       "      <td>2000</td>\n",
       "      <td>Whole Year</td>\n",
       "      <td>Sugarcane</td>\n",
       "      <td>1.0</td>\n",
       "      <td>2763.2</td>\n",
       "      <td>2.0</td>\n",
       "    </tr>\n",
       "    <tr>\n",
       "      <th>4</th>\n",
       "      <td>Andaman and Nicobar Islands</td>\n",
       "      <td>2000</td>\n",
       "      <td>Whole Year</td>\n",
       "      <td>Sweet potato</td>\n",
       "      <td>5.0</td>\n",
       "      <td>2763.2</td>\n",
       "      <td>15.0</td>\n",
       "    </tr>\n",
       "  </tbody>\n",
       "</table>\n",
       "</div>"
      ]
     },
     "metadata": {},
     "execution_count": 3
    }
   ],
   "metadata": {
    "colab": {
     "base_uri": "https://localhost:8080/",
     "height": 202
    },
    "id": "Oim82jBJ9T7l",
    "outputId": "99563291-d313-447e-c627-a9ae59da8f6b"
   }
  },
  {
   "cell_type": "code",
   "execution_count": 4,
   "source": [
    "df.shape"
   ],
   "outputs": [
    {
     "output_type": "execute_result",
     "data": {
      "text/plain": [
       "(64360, 7)"
      ]
     },
     "metadata": {},
     "execution_count": 4
    }
   ],
   "metadata": {
    "colab": {
     "base_uri": "https://localhost:8080/"
    },
    "id": "8jjEbzU29T7m",
    "outputId": "f76d178d-912d-426f-ea0d-93240e5b785a"
   }
  },
  {
   "cell_type": "code",
   "execution_count": 5,
   "source": [
    "df.info()"
   ],
   "outputs": [
    {
     "output_type": "stream",
     "name": "stdout",
     "text": [
      "<class 'pandas.core.frame.DataFrame'>\n",
      "RangeIndex: 64360 entries, 0 to 64359\n",
      "Data columns (total 7 columns):\n",
      " #   Column      Non-Null Count  Dtype  \n",
      "---  ------      --------------  -----  \n",
      " 0   State       64360 non-null  object \n",
      " 1   Year        64360 non-null  int64  \n",
      " 2   Season      64360 non-null  object \n",
      " 3   Crop        64360 non-null  object \n",
      " 4   Area        64360 non-null  float64\n",
      " 5   Rainfall    64360 non-null  float64\n",
      " 6   Production  64360 non-null  float64\n",
      "dtypes: float64(3), int64(1), object(3)\n",
      "memory usage: 3.4+ MB\n"
     ]
    }
   ],
   "metadata": {
    "colab": {
     "base_uri": "https://localhost:8080/"
    },
    "id": "Od229tOF9T7m",
    "outputId": "95564e9a-db2b-43fc-e574-ed2405ef9060"
   }
  },
  {
   "cell_type": "code",
   "execution_count": 6,
   "source": [
    "df.corr()"
   ],
   "outputs": [
    {
     "output_type": "execute_result",
     "data": {
      "text/plain": [
       "                Year      Area  Rainfall  Production\n",
       "Year        1.000000  0.000101 -0.017956   -0.018868\n",
       "Area        0.000101  1.000000 -0.110295    0.241445\n",
       "Rainfall   -0.017956 -0.110295  1.000000   -0.065504\n",
       "Production -0.018868  0.241445 -0.065504    1.000000"
      ],
      "text/html": [
       "<div>\n",
       "<style scoped>\n",
       "    .dataframe tbody tr th:only-of-type {\n",
       "        vertical-align: middle;\n",
       "    }\n",
       "\n",
       "    .dataframe tbody tr th {\n",
       "        vertical-align: top;\n",
       "    }\n",
       "\n",
       "    .dataframe thead th {\n",
       "        text-align: right;\n",
       "    }\n",
       "</style>\n",
       "<table border=\"1\" class=\"dataframe\">\n",
       "  <thead>\n",
       "    <tr style=\"text-align: right;\">\n",
       "      <th></th>\n",
       "      <th>Year</th>\n",
       "      <th>Area</th>\n",
       "      <th>Rainfall</th>\n",
       "      <th>Production</th>\n",
       "    </tr>\n",
       "  </thead>\n",
       "  <tbody>\n",
       "    <tr>\n",
       "      <th>Year</th>\n",
       "      <td>1.000000</td>\n",
       "      <td>0.000101</td>\n",
       "      <td>-0.017956</td>\n",
       "      <td>-0.018868</td>\n",
       "    </tr>\n",
       "    <tr>\n",
       "      <th>Area</th>\n",
       "      <td>0.000101</td>\n",
       "      <td>1.000000</td>\n",
       "      <td>-0.110295</td>\n",
       "      <td>0.241445</td>\n",
       "    </tr>\n",
       "    <tr>\n",
       "      <th>Rainfall</th>\n",
       "      <td>-0.017956</td>\n",
       "      <td>-0.110295</td>\n",
       "      <td>1.000000</td>\n",
       "      <td>-0.065504</td>\n",
       "    </tr>\n",
       "    <tr>\n",
       "      <th>Production</th>\n",
       "      <td>-0.018868</td>\n",
       "      <td>0.241445</td>\n",
       "      <td>-0.065504</td>\n",
       "      <td>1.000000</td>\n",
       "    </tr>\n",
       "  </tbody>\n",
       "</table>\n",
       "</div>"
      ]
     },
     "metadata": {},
     "execution_count": 6
    }
   ],
   "metadata": {
    "colab": {
     "base_uri": "https://localhost:8080/",
     "height": 172
    },
    "id": "56pY1ZAe9T7m",
    "outputId": "355c53b3-d7be-4822-8865-3ef28a99b62a"
   }
  },
  {
   "cell_type": "code",
   "execution_count": 7,
   "source": [
    "X = df.iloc[:, :-1].values\r\n",
    "y = df.iloc[:, -1].values"
   ],
   "outputs": [],
   "metadata": {
    "id": "Mo4tvJpS9T7n"
   }
  },
  {
   "cell_type": "markdown",
   "source": [
    "### One Hot Encoding"
   ],
   "metadata": {
    "id": "XI3zyBiX9T7n"
   }
  },
  {
   "cell_type": "markdown",
   "source": [
    "#### We are Applying to the Categorical Values present in the X (Features)"
   ],
   "metadata": {
    "id": "9gRAIQlB9T7n"
   }
  },
  {
   "cell_type": "code",
   "execution_count": 8,
   "source": [
    "categorical_data = ['State', 'Season', 'Crop']\r\n",
    "\r\n",
    "for label in categorical_data:\r\n",
    "    print(label ,': ', len(df[label].unique()))"
   ],
   "outputs": [
    {
     "output_type": "stream",
     "name": "stdout",
     "text": [
      "State :  12\n",
      "Season :  3\n",
      "Crop :  33\n"
     ]
    }
   ],
   "metadata": {
    "colab": {
     "base_uri": "https://localhost:8080/"
    },
    "id": "d51Chzpd9T7o",
    "outputId": "cd31bba6-9b4c-4648-86ae-d4af5c7da717"
   }
  },
  {
   "cell_type": "code",
   "execution_count": 9,
   "source": [
    "from sklearn.preprocessing import OneHotEncoder\r\n",
    "from sklearn.compose import ColumnTransformer\r\n",
    "ohe =  OneHotEncoder(sparse=False, drop=\"first\")\r\n",
    "ct = ColumnTransformer([('encoder', ohe, [0,2,3])], remainder = 'passthrough')"
   ],
   "outputs": [],
   "metadata": {
    "id": "mHj_-HPm9T7o"
   }
  },
  {
   "cell_type": "code",
   "execution_count": 10,
   "source": [
    "X = ct.fit_transform(X)"
   ],
   "outputs": [],
   "metadata": {
    "id": "-lyK8lAN9T7o"
   }
  },
  {
   "cell_type": "code",
   "execution_count": 11,
   "source": [
    "print(X)"
   ],
   "outputs": [
    {
     "output_type": "stream",
     "name": "stdout",
     "text": [
      "[[0.0 0.0 0.0 ... 2000 102.0 2763.2]\n",
      " [0.0 0.0 0.0 ... 2000 176.0 2763.2]\n",
      " [0.0 0.0 0.0 ... 2000 36.0 2763.2]\n",
      " ...\n",
      " [0.0 0.0 0.0 ... 2014 26.0 1287.4]\n",
      " [0.0 0.0 0.0 ... 2014 9919.0 1287.4]\n",
      " [0.0 0.0 0.0 ... 2014 3.0 1287.4]]\n"
     ]
    }
   ],
   "metadata": {
    "colab": {
     "base_uri": "https://localhost:8080/"
    },
    "id": "MautDlpl9T7o",
    "outputId": "fc381f45-df43-4886-edda-c3a1f252b07d"
   }
  },
  {
   "cell_type": "code",
   "execution_count": 12,
   "source": [
    "X_df = pd.DataFrame(X)\r\n",
    "X_df.head() # shows that last 3 columns are -> Year, Area and Rainfall"
   ],
   "outputs": [
    {
     "output_type": "execute_result",
     "data": {
      "text/plain": [
       "  0  1  2  3  4  5  6  7  8  9   ... 38 39 40 41 42 43 44    45   46      47\n",
       "0  0  0  0  0  0  0  0  0  0  0  ...  0  0  0  0  0  0  0  2000  102  2763.2\n",
       "1  0  0  0  0  0  0  0  0  0  0  ...  0  0  0  0  0  0  0  2000  176  2763.2\n",
       "2  0  0  0  0  0  0  0  0  0  0  ...  0  0  0  0  0  0  0  2000   36  2763.2\n",
       "3  0  0  0  0  0  0  0  0  0  0  ...  0  1  0  0  0  0  0  2000    1  2763.2\n",
       "4  0  0  0  0  0  0  0  0  0  0  ...  0  0  0  1  0  0  0  2000    5  2763.2\n",
       "\n",
       "[5 rows x 48 columns]"
      ],
      "text/html": [
       "<div>\n",
       "<style scoped>\n",
       "    .dataframe tbody tr th:only-of-type {\n",
       "        vertical-align: middle;\n",
       "    }\n",
       "\n",
       "    .dataframe tbody tr th {\n",
       "        vertical-align: top;\n",
       "    }\n",
       "\n",
       "    .dataframe thead th {\n",
       "        text-align: right;\n",
       "    }\n",
       "</style>\n",
       "<table border=\"1\" class=\"dataframe\">\n",
       "  <thead>\n",
       "    <tr style=\"text-align: right;\">\n",
       "      <th></th>\n",
       "      <th>0</th>\n",
       "      <th>1</th>\n",
       "      <th>2</th>\n",
       "      <th>3</th>\n",
       "      <th>4</th>\n",
       "      <th>5</th>\n",
       "      <th>6</th>\n",
       "      <th>7</th>\n",
       "      <th>8</th>\n",
       "      <th>9</th>\n",
       "      <th>...</th>\n",
       "      <th>38</th>\n",
       "      <th>39</th>\n",
       "      <th>40</th>\n",
       "      <th>41</th>\n",
       "      <th>42</th>\n",
       "      <th>43</th>\n",
       "      <th>44</th>\n",
       "      <th>45</th>\n",
       "      <th>46</th>\n",
       "      <th>47</th>\n",
       "    </tr>\n",
       "  </thead>\n",
       "  <tbody>\n",
       "    <tr>\n",
       "      <th>0</th>\n",
       "      <td>0</td>\n",
       "      <td>0</td>\n",
       "      <td>0</td>\n",
       "      <td>0</td>\n",
       "      <td>0</td>\n",
       "      <td>0</td>\n",
       "      <td>0</td>\n",
       "      <td>0</td>\n",
       "      <td>0</td>\n",
       "      <td>0</td>\n",
       "      <td>...</td>\n",
       "      <td>0</td>\n",
       "      <td>0</td>\n",
       "      <td>0</td>\n",
       "      <td>0</td>\n",
       "      <td>0</td>\n",
       "      <td>0</td>\n",
       "      <td>0</td>\n",
       "      <td>2000</td>\n",
       "      <td>102</td>\n",
       "      <td>2763.2</td>\n",
       "    </tr>\n",
       "    <tr>\n",
       "      <th>1</th>\n",
       "      <td>0</td>\n",
       "      <td>0</td>\n",
       "      <td>0</td>\n",
       "      <td>0</td>\n",
       "      <td>0</td>\n",
       "      <td>0</td>\n",
       "      <td>0</td>\n",
       "      <td>0</td>\n",
       "      <td>0</td>\n",
       "      <td>0</td>\n",
       "      <td>...</td>\n",
       "      <td>0</td>\n",
       "      <td>0</td>\n",
       "      <td>0</td>\n",
       "      <td>0</td>\n",
       "      <td>0</td>\n",
       "      <td>0</td>\n",
       "      <td>0</td>\n",
       "      <td>2000</td>\n",
       "      <td>176</td>\n",
       "      <td>2763.2</td>\n",
       "    </tr>\n",
       "    <tr>\n",
       "      <th>2</th>\n",
       "      <td>0</td>\n",
       "      <td>0</td>\n",
       "      <td>0</td>\n",
       "      <td>0</td>\n",
       "      <td>0</td>\n",
       "      <td>0</td>\n",
       "      <td>0</td>\n",
       "      <td>0</td>\n",
       "      <td>0</td>\n",
       "      <td>0</td>\n",
       "      <td>...</td>\n",
       "      <td>0</td>\n",
       "      <td>0</td>\n",
       "      <td>0</td>\n",
       "      <td>0</td>\n",
       "      <td>0</td>\n",
       "      <td>0</td>\n",
       "      <td>0</td>\n",
       "      <td>2000</td>\n",
       "      <td>36</td>\n",
       "      <td>2763.2</td>\n",
       "    </tr>\n",
       "    <tr>\n",
       "      <th>3</th>\n",
       "      <td>0</td>\n",
       "      <td>0</td>\n",
       "      <td>0</td>\n",
       "      <td>0</td>\n",
       "      <td>0</td>\n",
       "      <td>0</td>\n",
       "      <td>0</td>\n",
       "      <td>0</td>\n",
       "      <td>0</td>\n",
       "      <td>0</td>\n",
       "      <td>...</td>\n",
       "      <td>0</td>\n",
       "      <td>1</td>\n",
       "      <td>0</td>\n",
       "      <td>0</td>\n",
       "      <td>0</td>\n",
       "      <td>0</td>\n",
       "      <td>0</td>\n",
       "      <td>2000</td>\n",
       "      <td>1</td>\n",
       "      <td>2763.2</td>\n",
       "    </tr>\n",
       "    <tr>\n",
       "      <th>4</th>\n",
       "      <td>0</td>\n",
       "      <td>0</td>\n",
       "      <td>0</td>\n",
       "      <td>0</td>\n",
       "      <td>0</td>\n",
       "      <td>0</td>\n",
       "      <td>0</td>\n",
       "      <td>0</td>\n",
       "      <td>0</td>\n",
       "      <td>0</td>\n",
       "      <td>...</td>\n",
       "      <td>0</td>\n",
       "      <td>0</td>\n",
       "      <td>0</td>\n",
       "      <td>1</td>\n",
       "      <td>0</td>\n",
       "      <td>0</td>\n",
       "      <td>0</td>\n",
       "      <td>2000</td>\n",
       "      <td>5</td>\n",
       "      <td>2763.2</td>\n",
       "    </tr>\n",
       "  </tbody>\n",
       "</table>\n",
       "<p>5 rows × 48 columns</p>\n",
       "</div>"
      ]
     },
     "metadata": {},
     "execution_count": 12
    }
   ],
   "metadata": {
    "colab": {
     "base_uri": "https://localhost:8080/",
     "height": 222
    },
    "id": "aQRqIMX4V5T7",
    "outputId": "567ff83e-78c0-4a08-c161-0c22a53cc05f"
   }
  },
  {
   "cell_type": "code",
   "execution_count": 13,
   "source": [
    "dummy_df = pd.get_dummies(df, drop_first= True)"
   ],
   "outputs": [],
   "metadata": {
    "id": "XVttsDlB9T7p"
   }
  },
  {
   "cell_type": "code",
   "execution_count": 14,
   "source": [
    "dummy_df.keys()"
   ],
   "outputs": [
    {
     "output_type": "execute_result",
     "data": {
      "text/plain": [
       "Index(['Year', 'Area', 'Rainfall', 'Production', 'State_Arunachal Pradesh',\n",
       "       'State_Bihar', 'State_Chhattisgarh', 'State_Himachal Pradesh',\n",
       "       'State_Jammu and Kashmir', 'State_Jharkhand', 'State_Kerala',\n",
       "       'State_Odisha', 'State_Punjab', 'State_Tamil Nadu', 'State_Uttarakhand',\n",
       "       'Season_Rabi', 'Season_Whole Year', 'Crop_Bajra', 'Crop_Banana',\n",
       "       'Crop_Barley', 'Crop_Castor seed', 'Crop_Coriander',\n",
       "       'Crop_Cotton(lint)', 'Crop_Dry chillies', 'Crop_Dry ginger',\n",
       "       'Crop_Garlic', 'Crop_Gram', 'Crop_Groundnut', 'Crop_Horse-gram',\n",
       "       'Crop_Jowar', 'Crop_Khesari', 'Crop_Linseed', 'Crop_Maize',\n",
       "       'Crop_Masoor', 'Crop_Moong(Green Gram)', 'Crop_Onion',\n",
       "       'Crop_Peas & beans (Pulses)', 'Crop_Potato', 'Crop_Ragi',\n",
       "       'Crop_Rapeseed &Mustard', 'Crop_Rice', 'Crop_Sesamum',\n",
       "       'Crop_Small millets', 'Crop_Sugarcane', 'Crop_Sunflower',\n",
       "       'Crop_Sweet potato', 'Crop_Turmeric', 'Crop_Urad', 'Crop_Wheat'],\n",
       "      dtype='object')"
      ]
     },
     "metadata": {},
     "execution_count": 14
    }
   ],
   "metadata": {
    "colab": {
     "base_uri": "https://localhost:8080/"
    },
    "id": "LvNi63T39T7p",
    "outputId": "6f023fb3-5b81-426f-9d79-ee81cb526021"
   }
  },
  {
   "cell_type": "code",
   "execution_count": 15,
   "source": [
    "oh_enc_df = pd.DataFrame(X, columns=['Arunachal Pradesh',\r\n",
    "       'Bihar', 'Chhattisgarh', 'Himachal Pradesh',\r\n",
    "       'Jammu and Kashmir', 'Jharkhand', 'Kerala',\r\n",
    "       'Odisha', 'Punjab', 'Tamil Nadu', 'Uttarakhand',\r\n",
    "       'Rabi', 'Whole Year', 'Bajra', 'Banana',\r\n",
    "       'Barley', 'Castor seed', 'Coriander',\r\n",
    "       'Cotton', 'Dry chillies', 'Dry ginger',\r\n",
    "       'Garlic', 'Gram', 'Groundnut', 'Horse-gram',\r\n",
    "       'Jowar', 'Khesari', 'Linseed', 'Maize',\r\n",
    "       'Masoor', 'Moong(Green Gram)', 'Onion',\r\n",
    "       'Peas & beans (Pulses)', 'Potato', 'Ragi',\r\n",
    "       'Rapeseed &Mustard', 'Rice', 'Sesamum',\r\n",
    "       'Small millets', 'Sugarcane', 'Sunflower',\r\n",
    "       'Sweet potato', 'Turmeric', 'Urad', 'Wheat','Year', 'Area', 'Rainfall'])\r\n",
    "\r\n",
    "oh_enc_df.head()"
   ],
   "outputs": [
    {
     "output_type": "execute_result",
     "data": {
      "text/plain": [
       "  Arunachal Pradesh Bihar Chhattisgarh Himachal Pradesh Jammu and Kashmir  \\\n",
       "0                 0     0            0                0                 0   \n",
       "1                 0     0            0                0                 0   \n",
       "2                 0     0            0                0                 0   \n",
       "3                 0     0            0                0                 0   \n",
       "4                 0     0            0                0                 0   \n",
       "\n",
       "  Jharkhand Kerala Odisha Punjab Tamil Nadu  ... Small millets Sugarcane  \\\n",
       "0         0      0      0      0          0  ...             0         0   \n",
       "1         0      0      0      0          0  ...             0         0   \n",
       "2         0      0      0      0          0  ...             0         0   \n",
       "3         0      0      0      0          0  ...             0         1   \n",
       "4         0      0      0      0          0  ...             0         0   \n",
       "\n",
       "  Sunflower Sweet potato Turmeric Urad Wheat  Year Area Rainfall  \n",
       "0         0            0        0    0     0  2000  102   2763.2  \n",
       "1         0            0        0    0     0  2000  176   2763.2  \n",
       "2         0            0        0    0     0  2000   36   2763.2  \n",
       "3         0            0        0    0     0  2000    1   2763.2  \n",
       "4         0            1        0    0     0  2000    5   2763.2  \n",
       "\n",
       "[5 rows x 48 columns]"
      ],
      "text/html": [
       "<div>\n",
       "<style scoped>\n",
       "    .dataframe tbody tr th:only-of-type {\n",
       "        vertical-align: middle;\n",
       "    }\n",
       "\n",
       "    .dataframe tbody tr th {\n",
       "        vertical-align: top;\n",
       "    }\n",
       "\n",
       "    .dataframe thead th {\n",
       "        text-align: right;\n",
       "    }\n",
       "</style>\n",
       "<table border=\"1\" class=\"dataframe\">\n",
       "  <thead>\n",
       "    <tr style=\"text-align: right;\">\n",
       "      <th></th>\n",
       "      <th>Arunachal Pradesh</th>\n",
       "      <th>Bihar</th>\n",
       "      <th>Chhattisgarh</th>\n",
       "      <th>Himachal Pradesh</th>\n",
       "      <th>Jammu and Kashmir</th>\n",
       "      <th>Jharkhand</th>\n",
       "      <th>Kerala</th>\n",
       "      <th>Odisha</th>\n",
       "      <th>Punjab</th>\n",
       "      <th>Tamil Nadu</th>\n",
       "      <th>...</th>\n",
       "      <th>Small millets</th>\n",
       "      <th>Sugarcane</th>\n",
       "      <th>Sunflower</th>\n",
       "      <th>Sweet potato</th>\n",
       "      <th>Turmeric</th>\n",
       "      <th>Urad</th>\n",
       "      <th>Wheat</th>\n",
       "      <th>Year</th>\n",
       "      <th>Area</th>\n",
       "      <th>Rainfall</th>\n",
       "    </tr>\n",
       "  </thead>\n",
       "  <tbody>\n",
       "    <tr>\n",
       "      <th>0</th>\n",
       "      <td>0</td>\n",
       "      <td>0</td>\n",
       "      <td>0</td>\n",
       "      <td>0</td>\n",
       "      <td>0</td>\n",
       "      <td>0</td>\n",
       "      <td>0</td>\n",
       "      <td>0</td>\n",
       "      <td>0</td>\n",
       "      <td>0</td>\n",
       "      <td>...</td>\n",
       "      <td>0</td>\n",
       "      <td>0</td>\n",
       "      <td>0</td>\n",
       "      <td>0</td>\n",
       "      <td>0</td>\n",
       "      <td>0</td>\n",
       "      <td>0</td>\n",
       "      <td>2000</td>\n",
       "      <td>102</td>\n",
       "      <td>2763.2</td>\n",
       "    </tr>\n",
       "    <tr>\n",
       "      <th>1</th>\n",
       "      <td>0</td>\n",
       "      <td>0</td>\n",
       "      <td>0</td>\n",
       "      <td>0</td>\n",
       "      <td>0</td>\n",
       "      <td>0</td>\n",
       "      <td>0</td>\n",
       "      <td>0</td>\n",
       "      <td>0</td>\n",
       "      <td>0</td>\n",
       "      <td>...</td>\n",
       "      <td>0</td>\n",
       "      <td>0</td>\n",
       "      <td>0</td>\n",
       "      <td>0</td>\n",
       "      <td>0</td>\n",
       "      <td>0</td>\n",
       "      <td>0</td>\n",
       "      <td>2000</td>\n",
       "      <td>176</td>\n",
       "      <td>2763.2</td>\n",
       "    </tr>\n",
       "    <tr>\n",
       "      <th>2</th>\n",
       "      <td>0</td>\n",
       "      <td>0</td>\n",
       "      <td>0</td>\n",
       "      <td>0</td>\n",
       "      <td>0</td>\n",
       "      <td>0</td>\n",
       "      <td>0</td>\n",
       "      <td>0</td>\n",
       "      <td>0</td>\n",
       "      <td>0</td>\n",
       "      <td>...</td>\n",
       "      <td>0</td>\n",
       "      <td>0</td>\n",
       "      <td>0</td>\n",
       "      <td>0</td>\n",
       "      <td>0</td>\n",
       "      <td>0</td>\n",
       "      <td>0</td>\n",
       "      <td>2000</td>\n",
       "      <td>36</td>\n",
       "      <td>2763.2</td>\n",
       "    </tr>\n",
       "    <tr>\n",
       "      <th>3</th>\n",
       "      <td>0</td>\n",
       "      <td>0</td>\n",
       "      <td>0</td>\n",
       "      <td>0</td>\n",
       "      <td>0</td>\n",
       "      <td>0</td>\n",
       "      <td>0</td>\n",
       "      <td>0</td>\n",
       "      <td>0</td>\n",
       "      <td>0</td>\n",
       "      <td>...</td>\n",
       "      <td>0</td>\n",
       "      <td>1</td>\n",
       "      <td>0</td>\n",
       "      <td>0</td>\n",
       "      <td>0</td>\n",
       "      <td>0</td>\n",
       "      <td>0</td>\n",
       "      <td>2000</td>\n",
       "      <td>1</td>\n",
       "      <td>2763.2</td>\n",
       "    </tr>\n",
       "    <tr>\n",
       "      <th>4</th>\n",
       "      <td>0</td>\n",
       "      <td>0</td>\n",
       "      <td>0</td>\n",
       "      <td>0</td>\n",
       "      <td>0</td>\n",
       "      <td>0</td>\n",
       "      <td>0</td>\n",
       "      <td>0</td>\n",
       "      <td>0</td>\n",
       "      <td>0</td>\n",
       "      <td>...</td>\n",
       "      <td>0</td>\n",
       "      <td>0</td>\n",
       "      <td>0</td>\n",
       "      <td>1</td>\n",
       "      <td>0</td>\n",
       "      <td>0</td>\n",
       "      <td>0</td>\n",
       "      <td>2000</td>\n",
       "      <td>5</td>\n",
       "      <td>2763.2</td>\n",
       "    </tr>\n",
       "  </tbody>\n",
       "</table>\n",
       "<p>5 rows × 48 columns</p>\n",
       "</div>"
      ]
     },
     "metadata": {},
     "execution_count": 15
    }
   ],
   "metadata": {
    "colab": {
     "base_uri": "https://localhost:8080/",
     "height": 256
    },
    "id": "wqU_bKNQ9T7p",
    "outputId": "488433c5-2fdf-4e25-eb25-a864205d4431"
   }
  },
  {
   "cell_type": "markdown",
   "source": [
    "#### Columns : state->11, season->2, Crop->32, Year, Area, Rainfall ||Total ->48"
   ],
   "metadata": {
    "id": "aYv9aXDg9T7q"
   }
  },
  {
   "cell_type": "code",
   "execution_count": 16,
   "source": [
    "oh_enc_df.shape"
   ],
   "outputs": [
    {
     "output_type": "execute_result",
     "data": {
      "text/plain": [
       "(64360, 48)"
      ]
     },
     "metadata": {},
     "execution_count": 16
    }
   ],
   "metadata": {
    "colab": {
     "base_uri": "https://localhost:8080/"
    },
    "id": "SrRq1UBk9T7q",
    "outputId": "74d4d1e1-4336-465d-a3de-abf0037589ce"
   }
  },
  {
   "cell_type": "markdown",
   "source": [
    "### Splitting the data"
   ],
   "metadata": {
    "id": "BORueX-e9T7q"
   }
  },
  {
   "cell_type": "code",
   "execution_count": 17,
   "source": [
    "from sklearn.model_selection import train_test_split\r\n",
    "X_train, X_test, y_train, y_test = train_test_split(X,y, test_size = 0.2, random_state = 42)"
   ],
   "outputs": [],
   "metadata": {
    "id": "BFJsPbjd9T7r"
   }
  },
  {
   "cell_type": "markdown",
   "source": [
    "### Random Forest Regressor"
   ],
   "metadata": {
    "id": "rxOqDkYm9T7r"
   }
  },
  {
   "cell_type": "code",
   "execution_count": 18,
   "source": [
    "from sklearn.ensemble import RandomForestRegressor\r\n",
    "\r\n",
    "regr = RandomForestRegressor(random_state=0, n_estimators=50)\r\n",
    "regr.fit(X_train, y_train.ravel())"
   ],
   "outputs": [
    {
     "output_type": "execute_result",
     "data": {
      "text/plain": [
       "RandomForestRegressor(n_estimators=50, random_state=0)"
      ]
     },
     "metadata": {},
     "execution_count": 18
    }
   ],
   "metadata": {
    "id": "1taPD1GG9T7r"
   }
  },
  {
   "cell_type": "code",
   "execution_count": 19,
   "source": [
    "print('R2 Score =', regr.score(X_test, y_test)*100)"
   ],
   "outputs": [
    {
     "output_type": "stream",
     "name": "stdout",
     "text": [
      "R2 Score = 98.06136221540595\n"
     ]
    }
   ],
   "metadata": {
    "colab": {
     "base_uri": "https://localhost:8080/"
    },
    "id": "2710_pbcHjgc",
    "outputId": "b4463934-417f-49eb-8f74-0a257d6cecb5"
   }
  },
  {
   "cell_type": "markdown",
   "source": [
    "### Using K-Fold cross validation"
   ],
   "metadata": {
    "id": "Tn4Rm4Px9T7r"
   }
  },
  {
   "cell_type": "code",
   "execution_count": 20,
   "source": [
    "from sklearn.model_selection import ShuffleSplit\r\n",
    "from sklearn.model_selection import cross_val_score\r\n",
    "\r\n",
    "cv = ShuffleSplit(n_splits=5, test_size=0.2, random_state=0)\r\n",
    "\r\n",
    "cross_val_score(RandomForestRegressor(random_state=0, n_estimators=50), X, y.ravel(), cv=cv)"
   ],
   "outputs": [
    {
     "output_type": "execute_result",
     "data": {
      "text/plain": [
       "array([0.94602501, 0.95462166, 0.94671871, 0.91038406, 0.97173345])"
      ]
     },
     "metadata": {},
     "execution_count": 20
    }
   ],
   "metadata": {
    "colab": {
     "base_uri": "https://localhost:8080/"
    },
    "id": "DeaDIFyK9T7s",
    "outputId": "422db082-da11-46ce-cffb-ba2b3e3aeb68"
   }
  },
  {
   "cell_type": "markdown",
   "source": [
    "### Saving the model"
   ],
   "metadata": {
    "id": "FOtUQ6KP9T7s"
   }
  },
  {
   "cell_type": "code",
   "execution_count": 37,
   "source": [
    "import pickle\r\n",
    "\r\n",
    "with open('../Models/crop_yield_prediction.pkl','wb') as f:\r\n",
    "    pickle.dump(regr,f)"
   ],
   "outputs": [],
   "metadata": {
    "id": "2GMQBpJl9T7s"
   }
  }
 ],
 "metadata": {
  "colab": {
   "collapsed_sections": [],
   "name": "Copy of Working_File.ipynb",
   "provenance": []
  },
  "kernelspec": {
   "display_name": "Python 3",
   "language": "python",
   "name": "python3"
  },
  "language_info": {
   "codemirror_mode": {
    "name": "ipython",
    "version": 3
   },
   "file_extension": ".py",
   "mimetype": "text/x-python",
   "name": "python",
   "nbconvert_exporter": "python",
   "pygments_lexer": "ipython3",
   "version": "3.8.5"
  }
 },
 "nbformat": 4,
 "nbformat_minor": 1
}